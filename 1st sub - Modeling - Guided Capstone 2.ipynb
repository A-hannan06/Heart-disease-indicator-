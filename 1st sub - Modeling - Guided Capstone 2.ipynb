{
 "cells": [
  {
   "cell_type": "markdown",
   "id": "a5f9c177",
   "metadata": {},
   "source": [
    "## MODELING"
   ]
  },
  {
   "cell_type": "code",
   "execution_count": 1,
   "id": "6d4c7fe7",
   "metadata": {},
   "outputs": [],
   "source": [
    "# !pip install xgboost\n",
    "# !pip install lightgbm\n"
   ]
  },
  {
   "cell_type": "markdown",
   "id": "818b534d",
   "metadata": {},
   "source": [
    "From the previous notebooks we confirmed that there is skewness in our data that needs our attention. We will generate random sampling methods, the idea is we create two over sampling methods and one under sampling method. Then we create models using those sampling methods, so for each model we can expect three. \n",
    "\n",
    "First we will import the modules, confirm that there is skewness in our target variable and go on about making sampling methods. "
   ]
  },
  {
   "cell_type": "code",
   "execution_count": 5,
   "id": "ee16a6ee",
   "metadata": {},
   "outputs": [],
   "source": [
    "import numpy as np\n",
    "import pandas as pd\n",
    "import matplotlib.pyplot as plt\n",
    "import seaborn as sns\n",
    "from sklearn import __version__ as sklearn_version\n",
    "\n",
    "from sklearn.preprocessing import LabelEncoder\n",
    "from category_encoders import TargetEncoder\n",
    "\n",
    "from sklearn.decomposition import PCA\n",
    "\n",
    "#Standardize a dataset along any axis. Center to the mean and component wise scale to unit variance.\n",
    "from sklearn.preprocessing import scale\n",
    "\n",
    "\n",
    "from sklearn.model_selection import train_test_split, cross_validate, GridSearchCV, learning_curve\n",
    "\n",
    "from sklearn.metrics import accuracy_score\n",
    "\n",
    "from sklearn.preprocessing import StandardScaler, MinMaxScaler\n",
    "\n",
    "from sklearn.metrics import r2_score, mean_squared_error, mean_absolute_error\n",
    "\n",
    "# Construct a Pipeline from the given estimators.\n",
    "from sklearn.pipeline import make_pipeline\n",
    "\n",
    "\n",
    "from sklearn.feature_selection import SelectKBest, f_regression\n",
    "import datetime\n"
   ]
  },
  {
   "cell_type": "code",
   "execution_count": 6,
   "id": "67a40f81",
   "metadata": {},
   "outputs": [],
   "source": [
    "hearts = pd.read_csv(\"C:\\\\Users\\\\hanna\\\\OneDrive\\\\Desktop\\\\All Folders\\\\Data Science\\\\SpringBoard\\\\Capstone 2\\\\Personal Key Indicators of Heart Disease\\\\heart_2020_cleaned.csv\")"
   ]
  },
  {
   "cell_type": "code",
   "execution_count": 7,
   "id": "ec71e137",
   "metadata": {},
   "outputs": [
    {
     "data": {
      "text/plain": [
       "No     0.914405\n",
       "Yes    0.085595\n",
       "Name: HeartDisease, dtype: float64"
      ]
     },
     "execution_count": 7,
     "metadata": {},
     "output_type": "execute_result"
    }
   ],
   "source": [
    "hearts['HeartDisease'].value_counts(normalize = True)"
   ]
  },
  {
   "cell_type": "code",
   "execution_count": 8,
   "id": "5d4f0dca",
   "metadata": {},
   "outputs": [],
   "source": [
    "X_train = pd.read_csv(\"C:\\\\Users\\\\hanna\\\\OneDrive\\\\Desktop\\\\All Folders\\\\Data Science\\\\SpringBoard\\\\Guided Capstone 2\\\\worked on excels\\\\X_train.csv\")\n",
    "X_test = pd.read_csv(\"C:\\\\Users\\\\hanna\\\\OneDrive\\\\Desktop\\\\All Folders\\\\Data Science\\\\SpringBoard\\\\Guided Capstone 2\\\\worked on excels\\\\X_test.csv\")\n",
    "y_train = pd.read_csv(\"C:\\\\Users\\\\hanna\\\\OneDrive\\\\Desktop\\\\All Folders\\\\Data Science\\\\SpringBoard\\\\Guided Capstone 2\\\\worked on excels\\\\y_train.csv\")\n",
    "y_test = pd.read_csv(\"C:\\\\Users\\\\hanna\\\\OneDrive\\\\Desktop\\\\All Folders\\\\Data Science\\\\SpringBoard\\\\Guided Capstone 2\\\\worked on excels\\\\y_test.csv\")\n"
   ]
  },
  {
   "cell_type": "code",
   "execution_count": 9,
   "id": "817338bd",
   "metadata": {},
   "outputs": [
    {
     "name": "stdout",
     "output_type": "stream",
     "text": [
      "\n",
      "\n",
      "X_train: <class 'pandas.core.frame.DataFrame'> (239846, 50)\n",
      "\n",
      "\n",
      "X_test <class 'pandas.core.frame.DataFrame'> (79949, 50)\n",
      "\n",
      "\n",
      "y_train <class 'pandas.core.frame.DataFrame'> (239846, 1)\n",
      "\n",
      "\n",
      "y_test <class 'pandas.core.frame.DataFrame'> (79949, 1)\n"
     ]
    }
   ],
   "source": [
    "print(\"\\n\")\n",
    "print(\"X_train:\", type(X_train), X_train.shape) \n",
    "\n",
    "# AJS:\n",
    "print(\"\\n\")\n",
    "print(\"X_test\", type(X_test), X_test.shape) \n",
    "\n",
    "print(\"\\n\")\n",
    "print(\"y_train\", type(y_train), y_train.shape) \n",
    "\n",
    "print(\"\\n\")\n",
    "print(\"y_test\", type(y_test), y_test.shape) \n"
   ]
  },
  {
   "cell_type": "markdown",
   "id": "032622bf",
   "metadata": {},
   "source": [
    "We need to convert y_train & y_test into series instead of a DataFrame."
   ]
  },
  {
   "cell_type": "code",
   "execution_count": 10,
   "id": "dfb182b0",
   "metadata": {},
   "outputs": [],
   "source": [
    "y_train = y_train.squeeze()\n",
    "y_test = y_test.squeeze()"
   ]
  },
  {
   "cell_type": "code",
   "execution_count": 11,
   "id": "44393892",
   "metadata": {},
   "outputs": [
    {
     "name": "stdout",
     "output_type": "stream",
     "text": [
      "\n",
      "\n",
      "y_train <class 'pandas.core.series.Series'> (239846,) 239846\n",
      "\n",
      "\n",
      "y_test <class 'pandas.core.series.Series'> (79949,) 79949\n"
     ]
    }
   ],
   "source": [
    "print(\"\\n\")\n",
    "print(\"y_train\", type(y_train), y_train.shape, len(y_train)) \n",
    "\n",
    "print(\"\\n\")\n",
    "print(\"y_test\", type(y_test), y_test.shape, len(y_test)) "
   ]
  },
  {
   "cell_type": "code",
   "execution_count": 12,
   "id": "e21990b5",
   "metadata": {},
   "outputs": [
    {
     "data": {
      "text/plain": [
       "(0    0\n",
       " 1    0\n",
       " 2    0\n",
       " 3    0\n",
       " 4    0\n",
       " Name: HeartDisease, dtype: int64,\n",
       " 0    0\n",
       " 1    0\n",
       " 2    0\n",
       " 3    1\n",
       " 4    0\n",
       " Name: HeartDisease, dtype: int64)"
      ]
     },
     "execution_count": 12,
     "metadata": {},
     "output_type": "execute_result"
    }
   ],
   "source": [
    "y_train.head(), y_test.head()"
   ]
  },
  {
   "cell_type": "markdown",
   "id": "b16bea1f",
   "metadata": {},
   "source": [
    "### Over Sampling"
   ]
  },
  {
   "cell_type": "markdown",
   "id": "e5e62023",
   "metadata": {},
   "source": [
    "#### Smote"
   ]
  },
  {
   "cell_type": "code",
   "execution_count": 13,
   "id": "978391c3",
   "metadata": {},
   "outputs": [],
   "source": [
    "from imblearn.over_sampling import SMOTE\n",
    "\n",
    "smote = SMOTE(random_state = 10)\n",
    "X_smote, y_smote = smote.fit_resample(X_train, y_train)\n"
   ]
  },
  {
   "cell_type": "code",
   "execution_count": 14,
   "id": "185f5cd1",
   "metadata": {},
   "outputs": [
    {
     "data": {
      "text/plain": [
       "((438632, 50), (438632,))"
      ]
     },
     "execution_count": 14,
     "metadata": {},
     "output_type": "execute_result"
    }
   ],
   "source": [
    "X_smote.shape, y_smote.shape\n"
   ]
  },
  {
   "cell_type": "code",
   "execution_count": 15,
   "id": "cd0c63a7",
   "metadata": {},
   "outputs": [],
   "source": [
    "X_train_smote, X_test_smote, y_train_smote, y_test_smote = train_test_split(X_smote, y_smote, random_state=5)"
   ]
  },
  {
   "cell_type": "code",
   "execution_count": 16,
   "id": "efbd9358",
   "metadata": {},
   "outputs": [
    {
     "data": {
      "text/plain": [
       "((328974, 50), (328974,), (109658, 50), (109658,))"
      ]
     },
     "execution_count": 16,
     "metadata": {},
     "output_type": "execute_result"
    }
   ],
   "source": [
    "X_train_smote.shape, y_train_smote.shape, X_test_smote.shape, y_test_smote.shape"
   ]
  },
  {
   "cell_type": "code",
   "execution_count": 17,
   "id": "a23148ec",
   "metadata": {},
   "outputs": [
    {
     "data": {
      "text/plain": [
       "406649    1\n",
       "214590    1\n",
       "90137     0\n",
       "282239    1\n",
       "372719    1\n",
       "Name: HeartDisease, dtype: int64"
      ]
     },
     "execution_count": 17,
     "metadata": {},
     "output_type": "execute_result"
    }
   ],
   "source": [
    "y_train_smote.head()"
   ]
  },
  {
   "cell_type": "markdown",
   "id": "952cff57",
   "metadata": {},
   "source": [
    "#### ADASYN"
   ]
  },
  {
   "cell_type": "code",
   "execution_count": 18,
   "id": "de50e05d",
   "metadata": {},
   "outputs": [],
   "source": [
    "from imblearn.over_sampling import ADASYN\n",
    "\n",
    "X_adasyn, y_adasyn = ADASYN().fit_resample(X_train, y_train)"
   ]
  },
  {
   "cell_type": "code",
   "execution_count": 19,
   "id": "878fea95",
   "metadata": {},
   "outputs": [
    {
     "data": {
      "text/plain": [
       "((441820, 50), (441820,))"
      ]
     },
     "execution_count": 19,
     "metadata": {},
     "output_type": "execute_result"
    }
   ],
   "source": [
    "X_adasyn.shape, y_adasyn.shape"
   ]
  },
  {
   "cell_type": "code",
   "execution_count": 20,
   "id": "65328d4e",
   "metadata": {},
   "outputs": [],
   "source": [
    "X_train_adasyn, X_test_adasyn, y_train_adasyn, y_test_adasyn = train_test_split(X_adasyn, y_adasyn, random_state=5)"
   ]
  },
  {
   "cell_type": "code",
   "execution_count": 21,
   "id": "93653983",
   "metadata": {},
   "outputs": [
    {
     "data": {
      "text/plain": [
       "((331365, 50), (331365,), (110455, 50), (110455,))"
      ]
     },
     "execution_count": 21,
     "metadata": {},
     "output_type": "execute_result"
    }
   ],
   "source": [
    "X_train_adasyn.shape, y_train_adasyn.shape, X_test_adasyn.shape, y_test_adasyn.shape"
   ]
  },
  {
   "cell_type": "markdown",
   "id": "195083e4",
   "metadata": {},
   "source": [
    "### Under Sampling"
   ]
  },
  {
   "cell_type": "markdown",
   "id": "f48d0ec4",
   "metadata": {},
   "source": [
    "#### Random Under Sampler"
   ]
  },
  {
   "cell_type": "code",
   "execution_count": 22,
   "id": "80f01b25",
   "metadata": {
    "scrolled": true
   },
   "outputs": [
    {
     "data": {
      "text/plain": [
       "((41060, 50), (41060,))"
      ]
     },
     "execution_count": 22,
     "metadata": {},
     "output_type": "execute_result"
    }
   ],
   "source": [
    "from imblearn.under_sampling import RandomUnderSampler\n",
    "\n",
    "rus = RandomUnderSampler()\n",
    "X_rus, y_rus, = rus.fit_resample(X_train, y_train)\n",
    "\n",
    "X_rus.shape, y_rus.shape"
   ]
  },
  {
   "cell_type": "code",
   "execution_count": 23,
   "id": "14f40a3b",
   "metadata": {},
   "outputs": [],
   "source": [
    "X_train_rus, X_test_rus, y_train_rus, y_test_rus = train_test_split(X_rus, y_rus, random_state=5)"
   ]
  },
  {
   "cell_type": "code",
   "execution_count": 24,
   "id": "07f88e71",
   "metadata": {},
   "outputs": [
    {
     "data": {
      "text/plain": [
       "((30795, 50), (30795,), (10265, 50), (10265,))"
      ]
     },
     "execution_count": 24,
     "metadata": {},
     "output_type": "execute_result"
    }
   ],
   "source": [
    "X_train_rus.shape, y_train_rus.shape, X_test_rus.shape, y_test_rus.shape"
   ]
  },
  {
   "cell_type": "markdown",
   "id": "48f76ad0",
   "metadata": {},
   "source": [
    "Our first model will be Random Forest, we will search for the best parameters using RandomizedSearchCV and then use those parameters to generate a model "
   ]
  },
  {
   "cell_type": "markdown",
   "id": "d1ecb49b",
   "metadata": {},
   "source": [
    "### Random Forest"
   ]
  },
  {
   "cell_type": "code",
   "execution_count": 25,
   "id": "b9b602f3",
   "metadata": {},
   "outputs": [],
   "source": [
    "from sklearn.model_selection import RandomizedSearchCV\n",
    "from sklearn.ensemble import RandomForestClassifier"
   ]
  },
  {
   "cell_type": "code",
   "execution_count": 26,
   "id": "1723d20c",
   "metadata": {},
   "outputs": [],
   "source": [
    "rf = RandomForestClassifier()"
   ]
  },
  {
   "cell_type": "code",
   "execution_count": 27,
   "id": "30d32b7b",
   "metadata": {},
   "outputs": [],
   "source": [
    "rf_param_grid = {\n",
    "                 'max_depth' : [4, 6, 8,10],\n",
    "                 'n_estimators': range(1,10),\n",
    "                 'max_features': ['sqrt', 'auto', 'log2'],\n",
    "                 'min_samples_split': [2, 3, 10,20],\n",
    "                 'min_samples_leaf': [1, 3, 10,18],\n",
    "                 'bootstrap': [True, False],\n",
    "                 \n",
    "                 }"
   ]
  },
  {
   "cell_type": "code",
   "execution_count": 28,
   "id": "e575a73f",
   "metadata": {},
   "outputs": [],
   "source": [
    "m_r = RandomizedSearchCV(param_distributions = rf_param_grid, \n",
    "                                    estimator = rf, scoring = \"f1\", \n",
    "                                    verbose = 0, n_iter = 100, cv = 5)"
   ]
  },
  {
   "cell_type": "markdown",
   "id": "9789ec9e",
   "metadata": {},
   "source": [
    "##### Random Forest - RUS"
   ]
  },
  {
   "cell_type": "code",
   "execution_count": 29,
   "id": "e005488f",
   "metadata": {},
   "outputs": [
    {
     "name": "stdout",
     "output_type": "stream",
     "text": [
      "Wall time: 38.7 s\n"
     ]
    },
    {
     "data": {
      "text/plain": [
       "RandomizedSearchCV(cv=5, estimator=RandomForestClassifier(), n_iter=100,\n",
       "                   param_distributions={'bootstrap': [True, False],\n",
       "                                        'max_depth': [4, 6, 8, 10],\n",
       "                                        'max_features': ['sqrt', 'auto',\n",
       "                                                         'log2'],\n",
       "                                        'min_samples_leaf': [1, 3, 10, 18],\n",
       "                                        'min_samples_split': [2, 3, 10, 20],\n",
       "                                        'n_estimators': range(1, 10)},\n",
       "                   scoring='f1')"
      ]
     },
     "execution_count": 29,
     "metadata": {},
     "output_type": "execute_result"
    }
   ],
   "source": [
    "%time m_r.fit(X_train_rus, y_train_rus)"
   ]
  },
  {
   "cell_type": "code",
   "execution_count": 30,
   "id": "16a3b71a",
   "metadata": {},
   "outputs": [
    {
     "data": {
      "text/plain": [
       "0.7513231702584766"
      ]
     },
     "execution_count": 30,
     "metadata": {},
     "output_type": "execute_result"
    }
   ],
   "source": [
    "m_r.best_score_"
   ]
  },
  {
   "cell_type": "code",
   "execution_count": 31,
   "id": "e5d9f20b",
   "metadata": {},
   "outputs": [
    {
     "data": {
      "text/plain": [
       "{'n_estimators': 9,\n",
       " 'min_samples_split': 2,\n",
       " 'min_samples_leaf': 18,\n",
       " 'max_features': 'auto',\n",
       " 'max_depth': 10,\n",
       " 'bootstrap': False}"
      ]
     },
     "execution_count": 31,
     "metadata": {},
     "output_type": "execute_result"
    }
   ],
   "source": [
    "m_r.best_params_"
   ]
  },
  {
   "cell_type": "code",
   "execution_count": 32,
   "id": "f7bbf371",
   "metadata": {},
   "outputs": [],
   "source": [
    "rf_bp = m_r.best_params_"
   ]
  },
  {
   "cell_type": "code",
   "execution_count": 33,
   "id": "3ae363e5",
   "metadata": {},
   "outputs": [],
   "source": [
    "rf_classifier = RandomForestClassifier(n_estimators = rf_bp[\"n_estimators\"],\n",
    "                                     min_samples_split = rf_bp['min_samples_split'],\n",
    "                                     min_samples_leaf = rf_bp['min_samples_leaf'],\n",
    "                                     max_features = rf_bp['max_features'],\n",
    "                                     max_depth = rf_bp['max_depth'],\n",
    "                                     bootstrap = rf_bp['bootstrap'])"
   ]
  },
  {
   "cell_type": "code",
   "execution_count": 34,
   "id": "fed11d0f",
   "metadata": {},
   "outputs": [
    {
     "data": {
      "text/plain": [
       "RandomForestClassifier(bootstrap=False, max_depth=10, min_samples_leaf=18,\n",
       "                       n_estimators=9)"
      ]
     },
     "execution_count": 34,
     "metadata": {},
     "output_type": "execute_result"
    }
   ],
   "source": [
    "rf_classifier.fit(X_train_rus, y_train_rus)"
   ]
  },
  {
   "cell_type": "code",
   "execution_count": 35,
   "id": "60ba6703",
   "metadata": {},
   "outputs": [
    {
     "name": "stdout",
     "output_type": "stream",
     "text": [
      "0.756648806624452\n"
     ]
    }
   ],
   "source": [
    "y_test_pred_rf_rus = rf_classifier.predict(X_test_rus)\n",
    "print(accuracy_score(y_test_pred_rf_rus, y_test_rus))"
   ]
  },
  {
   "cell_type": "code",
   "execution_count": 36,
   "id": "90297473",
   "metadata": {},
   "outputs": [
    {
     "name": "stdout",
     "output_type": "stream",
     "text": [
      "\n",
      " AUC-ROC: 0.756637813654931\n"
     ]
    }
   ],
   "source": [
    "from sklearn import metrics\n",
    "print(\"\\n AUC-ROC:\", metrics.roc_auc_score(y_test_rus, y_test_pred_rf_rus))"
   ]
  },
  {
   "cell_type": "code",
   "execution_count": 37,
   "id": "0268738b",
   "metadata": {},
   "outputs": [
    {
     "data": {
      "text/plain": [
       "Text(0.5, 0, 'False Positive Rate')"
      ]
     },
     "execution_count": 37,
     "metadata": {},
     "output_type": "execute_result"
    },
    {
     "data": {
      "image/png": "[encoded data removed]",
      "text/plain": [
       "<Figure size 720x720 with 1 Axes>"
      ]
     },
     "metadata": {
      "needs_background": "light"
     },
     "output_type": "display_data"
    }
   ],
   "source": [
    "from sklearn.metrics import roc_curve, auc\n",
    "false_positive_rate, true_positive_rate, thresholds = roc_curve(y_test_rus, y_test_pred_rf_rus)\n",
    "roc_auc = auc(false_positive_rate, true_positive_rate)\n",
    "\n",
    "\n",
    "import matplotlib.pyplot as plt\n",
    "plt.figure(figsize=(10,10))\n",
    "plt.title('Receiver Operating Characteristic')\n",
    "plt.plot(false_positive_rate,true_positive_rate, color='red',label = 'AUC = %0.2f' % roc_auc)\n",
    "plt.legend(loc = 'lower right')\n",
    "plt.plot([0, 1], [0, 1],linestyle='--')\n",
    "plt.axis('tight')\n",
    "plt.ylabel('True Positive Rate')\n",
    "plt.xlabel('False Positive Rate')"
   ]
  },
  {
   "cell_type": "markdown",
   "id": "c7f16bd4",
   "metadata": {},
   "source": [
    "The area under the curve is 0.76, which is significantly better than 0.55 which was generate from a basic logistic regression model."
   ]
  },
  {
   "cell_type": "code",
   "execution_count": 38,
   "id": "78a6aae2",
   "metadata": {},
   "outputs": [
    {
     "data": {
      "image/png": "[encoded data removed]",
      "text/plain": [
       "<Figure size 360x360 with 2 Axes>"
      ]
     },
     "metadata": {
      "needs_background": "light"
     },
     "output_type": "display_data"
    }
   ],
   "source": [
    "from sklearn.metrics import confusion_matrix\n",
    "cm = confusion_matrix(y_test_rus, y_test_pred_rf_rus)\n",
    "\n",
    "f, ax=plt.subplots(figsize=(5,5))\n",
    "sns.heatmap(cm, annot = True, linewidths = 0.5, linecolor = \"red\", fmt = \".0f\",ax = ax)\n",
    "plt.xlabel(\"y_pred\")\n",
    "plt.ylabel(\"y_true\")\n",
    "plt.show()"
   ]
  },
  {
   "cell_type": "markdown",
   "id": "5f6d0a46",
   "metadata": {},
   "source": [
    "- Precision is a measure of how many of the positive predictions made are correct (true positives)\n",
    "- Recall: over all the positive cases in the data, how many of the positive cases the classifier correctly predicted.\n",
    "- F1-Score is a measure combining both precision and recall."
   ]
  },
  {
   "cell_type": "code",
   "execution_count": 39,
   "id": "b9d1aad5",
   "metadata": {},
   "outputs": [
    {
     "name": "stdout",
     "output_type": "stream",
     "text": [
      "[Training Classification Report]\n",
      "              precision    recall  f1-score   support\n",
      "\n",
      "           0       0.76      0.75      0.75     15406\n",
      "           1       0.75      0.76      0.76     15389\n",
      "\n",
      "    accuracy                           0.76     30795\n",
      "   macro avg       0.76      0.76      0.76     30795\n",
      "weighted avg       0.76      0.76      0.76     30795\n",
      "\n",
      "[Test Classification Report]\n",
      "              precision    recall  f1-score   support\n",
      "\n",
      "           0       0.76      0.75      0.75      5124\n",
      "           1       0.75      0.76      0.76      5141\n",
      "\n",
      "    accuracy                           0.76     10265\n",
      "   macro avg       0.76      0.76      0.76     10265\n",
      "weighted avg       0.76      0.76      0.76     10265\n",
      "\n"
     ]
    }
   ],
   "source": [
    "from sklearn.metrics import classification_report\n",
    "# ref: http://scikit-learn.org/stable/modules/generated/sklearn.metrics.classification_report.html#sklearn.metrics.classification_report\n",
    "\n",
    "y_train_pred_rf_rus = rf_classifier.predict(X_train_rus)\n",
    "\n",
    "print(\"[Training Classification Report]\")\n",
    "print(classification_report(y_train_rus, y_train_pred_rf_rus))\n",
    "\n",
    "print(\"[Test Classification Report]\")\n",
    "print(classification_report(y_test_rus, y_test_pred_rf_rus))"
   ]
  },
  {
   "cell_type": "markdown",
   "id": "2583fc9d",
   "metadata": {},
   "source": [
    "Precision: About 76% of the number of cases that were relevant over the number of cases our model says were relevant. It is better but we can do better. "
   ]
  },
  {
   "cell_type": "markdown",
   "id": "a7339907",
   "metadata": {},
   "source": [
    "Recall: About 76% of correctly predicted positives among the total number of true positive values. This is better than our previous model but only 76% for a problem like prediciting heart disease seems low.  "
   ]
  },
  {
   "cell_type": "markdown",
   "id": "3655d69c",
   "metadata": {},
   "source": [
    "Weighted F1 Score for both training and test set is 0.76."
   ]
  },
  {
   "cell_type": "markdown",
   "id": "f1627da3",
   "metadata": {},
   "source": [
    "##### Random Forest - ADASYN"
   ]
  },
  {
   "cell_type": "code",
   "execution_count": 40,
   "id": "2c97cc0d",
   "metadata": {},
   "outputs": [
    {
     "name": "stdout",
     "output_type": "stream",
     "text": [
      "Wall time: 7min 50s\n"
     ]
    },
    {
     "data": {
      "text/plain": [
       "RandomizedSearchCV(cv=5, estimator=RandomForestClassifier(), n_iter=100,\n",
       "                   param_distributions={'bootstrap': [True, False],\n",
       "                                        'max_depth': [4, 6, 8, 10],\n",
       "                                        'max_features': ['sqrt', 'auto',\n",
       "                                                         'log2'],\n",
       "                                        'min_samples_leaf': [1, 3, 10, 18],\n",
       "                                        'min_samples_split': [2, 3, 10, 20],\n",
       "                                        'n_estimators': range(1, 10)},\n",
       "                   scoring='f1')"
      ]
     },
     "execution_count": 40,
     "metadata": {},
     "output_type": "execute_result"
    }
   ],
   "source": [
    "%time m_r.fit(X_train_adasyn, y_train_adasyn)"
   ]
  },
  {
   "cell_type": "code",
   "execution_count": 41,
   "id": "3dcab613",
   "metadata": {},
   "outputs": [
    {
     "data": {
      "text/plain": [
       "0.837567181913542"
      ]
     },
     "execution_count": 41,
     "metadata": {},
     "output_type": "execute_result"
    }
   ],
   "source": [
    "m_r.best_score_"
   ]
  },
  {
   "cell_type": "code",
   "execution_count": 42,
   "id": "909ce5f2",
   "metadata": {},
   "outputs": [
    {
     "data": {
      "text/plain": [
       "{'n_estimators': 9,\n",
       " 'min_samples_split': 3,\n",
       " 'min_samples_leaf': 1,\n",
       " 'max_features': 'auto',\n",
       " 'max_depth': 10,\n",
       " 'bootstrap': True}"
      ]
     },
     "execution_count": 42,
     "metadata": {},
     "output_type": "execute_result"
    }
   ],
   "source": [
    "m_r.best_params_"
   ]
  },
  {
   "cell_type": "code",
   "execution_count": 43,
   "id": "e8c93e78",
   "metadata": {},
   "outputs": [],
   "source": [
    "rf_bp = m_r.best_params_"
   ]
  },
  {
   "cell_type": "code",
   "execution_count": 44,
   "id": "24a3b9e9",
   "metadata": {},
   "outputs": [],
   "source": [
    "rf_classifier = RandomForestClassifier(n_estimators = rf_bp[\"n_estimators\"],\n",
    "                                     min_samples_split = rf_bp['min_samples_split'],\n",
    "                                     min_samples_leaf = rf_bp['min_samples_leaf'],\n",
    "                                     max_features = rf_bp['max_features'],\n",
    "                                     max_depth = rf_bp['max_depth'],\n",
    "                                     bootstrap = rf_bp['bootstrap'])"
   ]
  },
  {
   "cell_type": "code",
   "execution_count": 45,
   "id": "d29c5277",
   "metadata": {},
   "outputs": [
    {
     "data": {
      "text/plain": [
       "RandomForestClassifier(max_depth=10, min_samples_split=3, n_estimators=9)"
      ]
     },
     "execution_count": 45,
     "metadata": {},
     "output_type": "execute_result"
    }
   ],
   "source": [
    "rf_classifier.fit(X_train_adasyn, y_train_adasyn)"
   ]
  },
  {
   "cell_type": "code",
   "execution_count": 46,
   "id": "0d61ad94",
   "metadata": {},
   "outputs": [
    {
     "name": "stdout",
     "output_type": "stream",
     "text": [
      "0.829876420261645\n"
     ]
    }
   ],
   "source": [
    "y_test_pred_rf_adasyn = rf_classifier.predict(X_test_adasyn)\n",
    "print(accuracy_score(y_test_pred_rf_adasyn, y_test_adasyn))"
   ]
  },
  {
   "cell_type": "code",
   "execution_count": 47,
   "id": "ceb233fb",
   "metadata": {},
   "outputs": [
    {
     "name": "stdout",
     "output_type": "stream",
     "text": [
      "\n",
      " AUC-ROC: 0.8298364377517555\n"
     ]
    }
   ],
   "source": [
    "from sklearn import metrics\n",
    "print(\"\\n AUC-ROC:\", metrics.roc_auc_score(y_test_adasyn, y_test_pred_rf_adasyn))\n"
   ]
  },
  {
   "cell_type": "code",
   "execution_count": 48,
   "id": "5ce9490b",
   "metadata": {},
   "outputs": [
    {
     "data": {
      "text/plain": [
       "Text(0.5, 0, 'False Positive Rate')"
      ]
     },
     "execution_count": 48,
     "metadata": {},
     "output_type": "execute_result"
    },
    {
     "data": {
      "image/png": "[encoded data removed]",
      "text/plain": [
       "<Figure size 720x720 with 1 Axes>"
      ]
     },
     "metadata": {
      "needs_background": "light"
     },
     "output_type": "display_data"
    }
   ],
   "source": [
    "from sklearn.metrics import roc_curve, auc\n",
    "false_positive_rate, true_positive_rate, thresholds = roc_curve(y_test_adasyn, y_test_pred_rf_adasyn)\n",
    "roc_auc = auc(false_positive_rate, true_positive_rate)\n",
    "\n",
    "plt.figure(figsize=(10,10))\n",
    "plt.title('Receiver Operating Characteristic')\n",
    "plt.plot(false_positive_rate,true_positive_rate, color='red',label = 'AUC = %0.2f' % roc_auc)\n",
    "plt.legend(loc = 'lower right')\n",
    "plt.plot([0, 1], [0, 1],linestyle='--')\n",
    "plt.axis('tight')\n",
    "plt.ylabel('True Positive Rate')\n",
    "plt.xlabel('False Positive Rate')"
   ]
  },
  {
   "cell_type": "code",
   "execution_count": 49,
   "id": "a4410ae3",
   "metadata": {},
   "outputs": [
    {
     "data": {
      "image/png": "[encoded data removed]",
      "text/plain": [
       "<Figure size 360x360 with 2 Axes>"
      ]
     },
     "metadata": {
      "needs_background": "light"
     },
     "output_type": "display_data"
    }
   ],
   "source": [
    "from sklearn.metrics import confusion_matrix\n",
    "cm = confusion_matrix(y_test_adasyn, y_test_pred_rf_adasyn)\n",
    "\n",
    "f, ax=plt.subplots(figsize=(5,5))\n",
    "sns.heatmap(cm, annot = True, linewidths = 0.5, linecolor = \"red\", fmt = \".0f\",ax = ax)\n",
    "plt.xlabel(\"y_pred\")\n",
    "plt.ylabel(\"y_true\")\n",
    "plt.show()"
   ]
  },
  {
   "cell_type": "code",
   "execution_count": 50,
   "id": "139e364b",
   "metadata": {},
   "outputs": [
    {
     "name": "stdout",
     "output_type": "stream",
     "text": [
      "[Training Classification Report]\n",
      "              precision    recall  f1-score   support\n",
      "\n",
      "           0       0.84      0.83      0.83    164357\n",
      "           1       0.83      0.84      0.84    167008\n",
      "\n",
      "    accuracy                           0.84    331365\n",
      "   macro avg       0.84      0.83      0.83    331365\n",
      "weighted avg       0.84      0.84      0.83    331365\n",
      "\n",
      "[Test Classification Report]\n",
      "              precision    recall  f1-score   support\n",
      "\n",
      "           0       0.83      0.82      0.83     54959\n",
      "           1       0.83      0.84      0.83     55496\n",
      "\n",
      "    accuracy                           0.83    110455\n",
      "   macro avg       0.83      0.83      0.83    110455\n",
      "weighted avg       0.83      0.83      0.83    110455\n",
      "\n"
     ]
    }
   ],
   "source": [
    "from sklearn.metrics import classification_report\n",
    "# ref: http://scikit-learn.org/stable/modules/generated/sklearn.metrics.classification_report.html#sklearn.metrics.classification_report\n",
    "\n",
    "y_train_pred_rf_adasyn = rf_classifier.predict(X_train_adasyn)\n",
    "\n",
    "print(\"[Training Classification Report]\")\n",
    "print(classification_report(y_train_adasyn, y_train_pred_rf_adasyn))\n",
    "\n",
    "print(\"[Test Classification Report]\")\n",
    "print(classification_report(y_test_adasyn, y_test_pred_rf_adasyn))"
   ]
  },
  {
   "cell_type": "markdown",
   "id": "2c8e526a",
   "metadata": {},
   "source": [
    "##### Random Forest - SMOTE"
   ]
  },
  {
   "cell_type": "code",
   "execution_count": 51,
   "id": "a3fc0bf8",
   "metadata": {},
   "outputs": [
    {
     "name": "stdout",
     "output_type": "stream",
     "text": [
      "Wall time: 7min 39s\n"
     ]
    },
    {
     "data": {
      "text/plain": [
       "RandomizedSearchCV(cv=5, estimator=RandomForestClassifier(), n_iter=100,\n",
       "                   param_distributions={'bootstrap': [True, False],\n",
       "                                        'max_depth': [4, 6, 8, 10],\n",
       "                                        'max_features': ['sqrt', 'auto',\n",
       "                                                         'log2'],\n",
       "                                        'min_samples_leaf': [1, 3, 10, 18],\n",
       "                                        'min_samples_split': [2, 3, 10, 20],\n",
       "                                        'n_estimators': range(1, 10)},\n",
       "                   scoring='f1')"
      ]
     },
     "execution_count": 51,
     "metadata": {},
     "output_type": "execute_result"
    }
   ],
   "source": [
    "%time m_r.fit(X_train_smote, y_train_smote)"
   ]
  },
  {
   "cell_type": "code",
   "execution_count": 52,
   "id": "f04f1276",
   "metadata": {},
   "outputs": [
    {
     "data": {
      "text/plain": [
       "0.8339635048145556"
      ]
     },
     "execution_count": 52,
     "metadata": {},
     "output_type": "execute_result"
    }
   ],
   "source": [
    "m_r.best_score_"
   ]
  },
  {
   "cell_type": "code",
   "execution_count": 53,
   "id": "acab0eac",
   "metadata": {},
   "outputs": [
    {
     "data": {
      "text/plain": [
       "{'n_estimators': 8,\n",
       " 'min_samples_split': 20,\n",
       " 'min_samples_leaf': 18,\n",
       " 'max_features': 'auto',\n",
       " 'max_depth': 10,\n",
       " 'bootstrap': False}"
      ]
     },
     "execution_count": 53,
     "metadata": {},
     "output_type": "execute_result"
    }
   ],
   "source": [
    "m_r.best_params_"
   ]
  },
  {
   "cell_type": "code",
   "execution_count": 54,
   "id": "2e4d90a9",
   "metadata": {},
   "outputs": [],
   "source": [
    "rf_bp = m_r.best_params_"
   ]
  },
  {
   "cell_type": "code",
   "execution_count": 55,
   "id": "af692938",
   "metadata": {},
   "outputs": [],
   "source": [
    "rf_classifier = RandomForestClassifier(n_estimators = rf_bp[\"n_estimators\"],\n",
    "                                     min_samples_split = rf_bp['min_samples_split'],\n",
    "                                     min_samples_leaf = rf_bp['min_samples_leaf'],\n",
    "                                     max_features = rf_bp['max_features'],\n",
    "                                     max_depth = rf_bp['max_depth'],\n",
    "                                     bootstrap = rf_bp['bootstrap'])"
   ]
  },
  {
   "cell_type": "code",
   "execution_count": 56,
   "id": "6c9f2c2f",
   "metadata": {},
   "outputs": [
    {
     "data": {
      "text/plain": [
       "RandomForestClassifier(bootstrap=False, max_depth=10, min_samples_leaf=18,\n",
       "                       min_samples_split=20, n_estimators=8)"
      ]
     },
     "execution_count": 56,
     "metadata": {},
     "output_type": "execute_result"
    }
   ],
   "source": [
    "rf_classifier.fit(X_train_smote, y_train_smote)"
   ]
  },
  {
   "cell_type": "code",
   "execution_count": 57,
   "id": "8f2262f4",
   "metadata": {},
   "outputs": [
    {
     "name": "stdout",
     "output_type": "stream",
     "text": [
      "0.8315854748399569\n"
     ]
    }
   ],
   "source": [
    "y_test_pred_rf_smote = rf_classifier.predict(X_test_smote)\n",
    "print(accuracy_score(y_test_pred_rf_smote, y_test_smote))"
   ]
  },
  {
   "cell_type": "code",
   "execution_count": 58,
   "id": "7e5719aa",
   "metadata": {},
   "outputs": [
    {
     "name": "stdout",
     "output_type": "stream",
     "text": [
      "\n",
      " AUC-ROC: 0.8316171448025999\n"
     ]
    },
    {
     "data": {
      "text/plain": [
       "Text(0.5, 0, 'False Positive Rate')"
      ]
     },
     "execution_count": 58,
     "metadata": {},
     "output_type": "execute_result"
    },
    {
     "data": {
      "image/png": "[encoded data removed]",
      "text/plain": [
       "<Figure size 720x720 with 1 Axes>"
      ]
     },
     "metadata": {
      "needs_background": "light"
     },
     "output_type": "display_data"
    }
   ],
   "source": [
    "from sklearn import metrics\n",
    "print(\"\\n AUC-ROC:\", metrics.roc_auc_score(y_test_smote, y_test_pred_rf_smote))\n",
    "\n",
    "from sklearn.metrics import roc_curve, auc\n",
    "false_positive_rate, true_positive_rate, thresholds = roc_curve(y_test_smote, y_test_pred_rf_smote)\n",
    "roc_auc = auc(false_positive_rate, true_positive_rate)\n",
    "\n",
    "plt.figure(figsize=(10,10))\n",
    "plt.title('Receiver Operating Characteristic')\n",
    "plt.plot(false_positive_rate,true_positive_rate, color='red',label = 'AUC = %0.2f' % roc_auc)\n",
    "plt.legend(loc = 'lower right')\n",
    "plt.plot([0, 1], [0, 1],linestyle='--')\n",
    "plt.axis('tight')\n",
    "plt.ylabel('True Positive Rate')\n",
    "plt.xlabel('False Positive Rate')\n"
   ]
  },
  {
   "cell_type": "code",
   "execution_count": 59,
   "id": "7694dccb",
   "metadata": {},
   "outputs": [
    {
     "data": {
      "image/png": "[encoded data removed]",
      "text/plain": [
       "<Figure size 360x360 with 2 Axes>"
      ]
     },
     "metadata": {
      "needs_background": "light"
     },
     "output_type": "display_data"
    }
   ],
   "source": [
    "from sklearn.metrics import confusion_matrix\n",
    "cm = confusion_matrix(y_test_smote, y_test_pred_rf_smote)\n",
    "\n",
    "f, ax = plt.subplots(figsize=(5,5))\n",
    "sns.heatmap(cm, annot = True, linewidths = 0.5, linecolor = \"red\", fmt = \".0f\",ax = ax)\n",
    "plt.xlabel(\"y_pred\")\n",
    "plt.ylabel(\"y_true\")\n",
    "plt.show()"
   ]
  },
  {
   "cell_type": "code",
   "execution_count": 60,
   "id": "74866c2f",
   "metadata": {},
   "outputs": [
    {
     "name": "stdout",
     "output_type": "stream",
     "text": [
      "[Training Classification Report]\n",
      "              precision    recall  f1-score   support\n",
      "\n",
      "           0       0.84      0.82      0.83    164389\n",
      "           1       0.82      0.85      0.84    164585\n",
      "\n",
      "    accuracy                           0.83    328974\n",
      "   macro avg       0.83      0.83      0.83    328974\n",
      "weighted avg       0.83      0.83      0.83    328974\n",
      "\n",
      "[Test Classification Report]\n",
      "              precision    recall  f1-score   support\n",
      "\n",
      "           0       0.84      0.81      0.83     54927\n",
      "           1       0.82      0.85      0.83     54731\n",
      "\n",
      "    accuracy                           0.83    109658\n",
      "   macro avg       0.83      0.83      0.83    109658\n",
      "weighted avg       0.83      0.83      0.83    109658\n",
      "\n"
     ]
    }
   ],
   "source": [
    "from sklearn.metrics import classification_report\n",
    "# ref: http://scikit-learn.org/stable/modules/generated/sklearn.metrics.classification_report.html#sklearn.metrics.classification_report\n",
    "\n",
    "y_train_pred_rf_smote = rf_classifier.predict(X_train_smote)\n",
    "\n",
    "print(\"[Training Classification Report]\")\n",
    "print(classification_report(y_train_smote, y_train_pred_rf_smote))\n",
    "\n",
    "print(\"[Test Classification Report]\")\n",
    "print(classification_report(y_test_smote, y_test_pred_rf_smote))"
   ]
  },
  {
   "cell_type": "markdown",
   "id": "70b000fa",
   "metadata": {},
   "source": [
    "The Adasyn & Smote over sampling method is doing better than RUS (Random Under Sampler) method for RF. The Roc_Auc score is 0.83 and weighted f1 scores for both training and test set is 0.83, 7 points better than when we used under sampling method. "
   ]
  },
  {
   "cell_type": "markdown",
   "id": "56537c69",
   "metadata": {},
   "source": [
    "### XGBoost"
   ]
  },
  {
   "cell_type": "markdown",
   "id": "9703cf85",
   "metadata": {},
   "source": [
    "Again we will create a model and using RandomizedSearchCV to find the optimal parameters to run the model with. "
   ]
  },
  {
   "cell_type": "code",
   "execution_count": 62,
   "id": "c7b6f3db",
   "metadata": {},
   "outputs": [],
   "source": [
    "import xgboost as xgb\n",
    "\n",
    "xb = xgb.XGBClassifier()"
   ]
  },
  {
   "cell_type": "code",
   "execution_count": 63,
   "id": "3295e316",
   "metadata": {},
   "outputs": [
    {
     "data": {
      "text/plain": [
       "{'objective': 'binary:logistic',\n",
       " 'use_label_encoder': False,\n",
       " 'base_score': None,\n",
       " 'booster': None,\n",
       " 'callbacks': None,\n",
       " 'colsample_bylevel': None,\n",
       " 'colsample_bynode': None,\n",
       " 'colsample_bytree': None,\n",
       " 'early_stopping_rounds': None,\n",
       " 'enable_categorical': False,\n",
       " 'eval_metric': None,\n",
       " 'gamma': None,\n",
       " 'gpu_id': None,\n",
       " 'grow_policy': None,\n",
       " 'importance_type': None,\n",
       " 'interaction_constraints': None,\n",
       " 'learning_rate': None,\n",
       " 'max_bin': None,\n",
       " 'max_cat_to_onehot': None,\n",
       " 'max_delta_step': None,\n",
       " 'max_depth': None,\n",
       " 'max_leaves': None,\n",
       " 'min_child_weight': None,\n",
       " 'missing': nan,\n",
       " 'monotone_constraints': None,\n",
       " 'n_estimators': 100,\n",
       " 'n_jobs': None,\n",
       " 'num_parallel_tree': None,\n",
       " 'predictor': None,\n",
       " 'random_state': None,\n",
       " 'reg_alpha': None,\n",
       " 'reg_lambda': None,\n",
       " 'sampling_method': None,\n",
       " 'scale_pos_weight': None,\n",
       " 'subsample': None,\n",
       " 'tree_method': None,\n",
       " 'validate_parameters': None,\n",
       " 'verbosity': None}"
      ]
     },
     "execution_count": 63,
     "metadata": {},
     "output_type": "execute_result"
    }
   ],
   "source": [
    "xb.get_params()"
   ]
  },
  {
   "cell_type": "code",
   "execution_count": 64,
   "id": "05db5504",
   "metadata": {},
   "outputs": [],
   "source": [
    "xb_param_grid = {\n",
    "                 \"learning_rate\"    : [0.05, 0.10, 0.15, 0.20, 0.25, 0.30 ],\n",
    "                 \"max_depth\"        : [ 3, 5, 6, 8],\n",
    "                 \"min_child_weight\" : [ 1, 3, 5, 7],\n",
    "                 \"gamma\"            : [ 0.0, 0.1, 0.2 , 0.3, 0.4 ],\n",
    "                 \"colsample_bytree\" : [ 0.3, 0.4, 0.5 , 0.7 ]\n",
    "    }"
   ]
  },
  {
   "cell_type": "code",
   "execution_count": 65,
   "id": "a2b411c4",
   "metadata": {},
   "outputs": [],
   "source": [
    "xg_r = RandomizedSearchCV(param_distributions = xb_param_grid, \n",
    "                                    estimator = xb, scoring = \"f1\", \n",
    "                                    verbose = 0, n_iter = 10, cv = 5)\n"
   ]
  },
  {
   "cell_type": "markdown",
   "id": "61d9fa68",
   "metadata": {},
   "source": [
    "##### XGBoost - ADASYN"
   ]
  },
  {
   "cell_type": "code",
   "execution_count": 66,
   "id": "17983f86",
   "metadata": {},
   "outputs": [
    {
     "name": "stdout",
     "output_type": "stream",
     "text": [
      "Wall time: 10min 59s\n"
     ]
    },
    {
     "data": {
      "text/plain": [
       "RandomizedSearchCV(cv=5,\n",
       "                   estimator=XGBClassifier(base_score=None, booster=None,\n",
       "                                           callbacks=None,\n",
       "                                           colsample_bylevel=None,\n",
       "                                           colsample_bynode=None,\n",
       "                                           colsample_bytree=None,\n",
       "                                           early_stopping_rounds=None,\n",
       "                                           enable_categorical=False,\n",
       "                                           eval_metric=None, gamma=None,\n",
       "                                           gpu_id=None, grow_policy=None,\n",
       "                                           importance_type=None,\n",
       "                                           interaction_constraints=None,\n",
       "                                           learning_rate=None, max_bin=None,...\n",
       "                                           min_child_weight=None, missing=nan,\n",
       "                                           monotone_constraints=None,\n",
       "                                           n_estimators=100, n_jobs=None,\n",
       "                                           num_parallel_tree=None,\n",
       "                                           predictor=None, random_state=None,\n",
       "                                           reg_alpha=None, reg_lambda=None, ...),\n",
       "                   param_distributions={'colsample_bytree': [0.3, 0.4, 0.5,\n",
       "                                                             0.7],\n",
       "                                        'gamma': [0.0, 0.1, 0.2, 0.3, 0.4],\n",
       "                                        'learning_rate': [0.05, 0.1, 0.15, 0.2,\n",
       "                                                          0.25, 0.3],\n",
       "                                        'max_depth': [3, 5, 6, 8],\n",
       "                                        'min_child_weight': [1, 3, 5, 7]},\n",
       "                   scoring='f1')"
      ]
     },
     "execution_count": 66,
     "metadata": {},
     "output_type": "execute_result"
    }
   ],
   "source": [
    "%time xg_r.fit(X_train_adasyn, y_train_adasyn)"
   ]
  },
  {
   "cell_type": "code",
   "execution_count": 67,
   "id": "1e1d7a8e",
   "metadata": {},
   "outputs": [
    {
     "data": {
      "text/plain": [
       "0.9342175642763001"
      ]
     },
     "execution_count": 67,
     "metadata": {},
     "output_type": "execute_result"
    }
   ],
   "source": [
    "xg_r.best_score_"
   ]
  },
  {
   "cell_type": "code",
   "execution_count": 68,
   "id": "52ce85d1",
   "metadata": {},
   "outputs": [
    {
     "data": {
      "text/plain": [
       "{'min_child_weight': 7,\n",
       " 'max_depth': 8,\n",
       " 'learning_rate': 0.3,\n",
       " 'gamma': 0.3,\n",
       " 'colsample_bytree': 0.3}"
      ]
     },
     "execution_count": 68,
     "metadata": {},
     "output_type": "execute_result"
    }
   ],
   "source": [
    "xg_bp = xg_r.best_params_\n",
    "xg_bp"
   ]
  },
  {
   "cell_type": "code",
   "execution_count": 69,
   "id": "fc30b904",
   "metadata": {},
   "outputs": [],
   "source": [
    "xg_classifier = xgb.XGBClassifier(learning_rate = xg_bp[\"learning_rate\"],\n",
    "                                     min_child_weight = xg_bp['min_child_weight'],\n",
    "                                     max_depth = xg_bp['max_depth'],\n",
    "                                     gamma = xg_bp['gamma'],\n",
    "                                     colsample_bytree = xg_bp['colsample_bytree'])"
   ]
  },
  {
   "cell_type": "code",
   "execution_count": 70,
   "id": "3a4b70e3",
   "metadata": {},
   "outputs": [
    {
     "data": {
      "text/plain": [
       "XGBClassifier(base_score=0.5, booster='gbtree', callbacks=None,\n",
       "              colsample_bylevel=1, colsample_bynode=1, colsample_bytree=0.3,\n",
       "              early_stopping_rounds=None, enable_categorical=False,\n",
       "              eval_metric=None, gamma=0.3, gpu_id=-1, grow_policy='depthwise',\n",
       "              importance_type=None, interaction_constraints='',\n",
       "              learning_rate=0.3, max_bin=256, max_cat_to_onehot=4,\n",
       "              max_delta_step=0, max_depth=8, max_leaves=0, min_child_weight=7,\n",
       "              missing=nan, monotone_constraints='()', n_estimators=100,\n",
       "              n_jobs=0, num_parallel_tree=1, predictor='auto', random_state=0,\n",
       "              reg_alpha=0, reg_lambda=1, ...)"
      ]
     },
     "execution_count": 70,
     "metadata": {},
     "output_type": "execute_result"
    }
   ],
   "source": [
    "xg_classifier.fit(X_train_adasyn, y_train_adasyn)"
   ]
  },
  {
   "cell_type": "code",
   "execution_count": 71,
   "id": "d5025e10",
   "metadata": {},
   "outputs": [
    {
     "name": "stdout",
     "output_type": "stream",
     "text": [
      "0.9356932687519804\n"
     ]
    }
   ],
   "source": [
    "y_test_pred_xg_adasyn = xg_classifier.predict(X_test_adasyn)\n",
    "print(accuracy_score(y_test_pred_xg_adasyn, y_test_adasyn))"
   ]
  },
  {
   "cell_type": "code",
   "execution_count": 72,
   "id": "a1413dea",
   "metadata": {},
   "outputs": [
    {
     "data": {
      "text/plain": [
       "Text(0.5, 0, 'False Positive Rate')"
      ]
     },
     "execution_count": 72,
     "metadata": {},
     "output_type": "execute_result"
    },
    {
     "data": {
      "image/png": "[encoded data removed]",
      "text/plain": [
       "<Figure size 720x720 with 1 Axes>"
      ]
     },
     "metadata": {
      "needs_background": "light"
     },
     "output_type": "display_data"
    }
   ],
   "source": [
    "false_positive_rate, true_positive_rate, thresholds = roc_curve(y_test_adasyn, y_test_pred_xg_adasyn)\n",
    "roc_auc = auc(false_positive_rate, true_positive_rate)\n",
    "\n",
    "\n",
    "import matplotlib.pyplot as plt\n",
    "plt.figure(figsize=(10,10))\n",
    "plt.title('Receiver Operating Characteristic')\n",
    "plt.plot(false_positive_rate,true_positive_rate, color='red',label = 'AUC = %0.2f' % roc_auc)\n",
    "plt.legend(loc = 'lower right')\n",
    "plt.plot([0, 1], [0, 1],linestyle='--')\n",
    "plt.axis('tight')\n",
    "plt.ylabel('True Positive Rate')\n",
    "plt.xlabel('False Positive Rate')"
   ]
  },
  {
   "cell_type": "code",
   "execution_count": 73,
   "id": "30707f43",
   "metadata": {},
   "outputs": [
    {
     "data": {
      "image/png": "[encoded data removed]",
      "text/plain": [
       "<Figure size 360x360 with 2 Axes>"
      ]
     },
     "metadata": {
      "needs_background": "light"
     },
     "output_type": "display_data"
    }
   ],
   "source": [
    "from sklearn.metrics import confusion_matrix\n",
    "cm = confusion_matrix(y_test_adasyn, y_test_pred_xg_adasyn)\n",
    "\n",
    "f, ax=plt.subplots(figsize=(5,5))\n",
    "sns.heatmap(cm, annot = True, linewidths = 0.5, linecolor = \"red\", fmt = \".0f\",ax = ax)\n",
    "plt.xlabel(\"y_pred\")\n",
    "plt.ylabel(\"y_true\")\n",
    "plt.show()\n"
   ]
  },
  {
   "cell_type": "code",
   "execution_count": 74,
   "id": "10c6ef2f",
   "metadata": {},
   "outputs": [
    {
     "name": "stdout",
     "output_type": "stream",
     "text": [
      "[Training Classification Report]\n",
      "              precision    recall  f1-score   support\n",
      "\n",
      "           0       0.92      0.97      0.94    164357\n",
      "           1       0.97      0.91      0.94    167008\n",
      "\n",
      "    accuracy                           0.94    331365\n",
      "   macro avg       0.94      0.94      0.94    331365\n",
      "weighted avg       0.94      0.94      0.94    331365\n",
      "\n",
      "[Test Classification Report]\n",
      "              precision    recall  f1-score   support\n",
      "\n",
      "           0       0.91      0.96      0.94     54959\n",
      "           1       0.96      0.91      0.93     55496\n",
      "\n",
      "    accuracy                           0.94    110455\n",
      "   macro avg       0.94      0.94      0.94    110455\n",
      "weighted avg       0.94      0.94      0.94    110455\n",
      "\n"
     ]
    }
   ],
   "source": [
    "from sklearn.metrics import classification_report\n",
    "# ref: http://scikit-learn.org/stable/modules/generated/sklearn.metrics.classification_report.html#sklearn.metrics.classification_report\n",
    "\n",
    "y_train_pred_xg_adasyn = xg_classifier.predict(X_train_adasyn)\n",
    "\n",
    "print(\"[Training Classification Report]\")\n",
    "print(classification_report(y_train_adasyn, y_train_pred_xg_adasyn))\n",
    "\n",
    "print(\"[Test Classification Report]\")\n",
    "print(classification_report(y_test_adasyn, y_test_pred_xg_adasyn))\n"
   ]
  },
  {
   "cell_type": "markdown",
   "id": "bfb2e4c6",
   "metadata": {},
   "source": [
    "##### XGBoost - SMOTE"
   ]
  },
  {
   "cell_type": "code",
   "execution_count": 75,
   "id": "1d889dea",
   "metadata": {},
   "outputs": [
    {
     "name": "stdout",
     "output_type": "stream",
     "text": [
      "Wall time: 10min 26s\n"
     ]
    },
    {
     "data": {
      "text/plain": [
       "RandomizedSearchCV(cv=5,\n",
       "                   estimator=XGBClassifier(base_score=None, booster=None,\n",
       "                                           callbacks=None,\n",
       "                                           colsample_bylevel=None,\n",
       "                                           colsample_bynode=None,\n",
       "                                           colsample_bytree=None,\n",
       "                                           early_stopping_rounds=None,\n",
       "                                           enable_categorical=False,\n",
       "                                           eval_metric=None, gamma=None,\n",
       "                                           gpu_id=None, grow_policy=None,\n",
       "                                           importance_type=None,\n",
       "                                           interaction_constraints=None,\n",
       "                                           learning_rate=None, max_bin=None,...\n",
       "                                           min_child_weight=None, missing=nan,\n",
       "                                           monotone_constraints=None,\n",
       "                                           n_estimators=100, n_jobs=None,\n",
       "                                           num_parallel_tree=None,\n",
       "                                           predictor=None, random_state=None,\n",
       "                                           reg_alpha=None, reg_lambda=None, ...),\n",
       "                   param_distributions={'colsample_bytree': [0.3, 0.4, 0.5,\n",
       "                                                             0.7],\n",
       "                                        'gamma': [0.0, 0.1, 0.2, 0.3, 0.4],\n",
       "                                        'learning_rate': [0.05, 0.1, 0.15, 0.2,\n",
       "                                                          0.25, 0.3],\n",
       "                                        'max_depth': [3, 5, 6, 8],\n",
       "                                        'min_child_weight': [1, 3, 5, 7]},\n",
       "                   scoring='f1')"
      ]
     },
     "execution_count": 75,
     "metadata": {},
     "output_type": "execute_result"
    }
   ],
   "source": [
    "%time xg_r.fit(X_train_smote, y_train_smote)"
   ]
  },
  {
   "cell_type": "code",
   "execution_count": 76,
   "id": "65b79640",
   "metadata": {},
   "outputs": [
    {
     "data": {
      "text/plain": [
       "0.9321265159026242"
      ]
     },
     "execution_count": 76,
     "metadata": {},
     "output_type": "execute_result"
    }
   ],
   "source": [
    "xg_r.best_score_"
   ]
  },
  {
   "cell_type": "code",
   "execution_count": 77,
   "id": "98f2243d",
   "metadata": {},
   "outputs": [
    {
     "data": {
      "text/plain": [
       "{'min_child_weight': 3,\n",
       " 'max_depth': 6,\n",
       " 'learning_rate': 0.3,\n",
       " 'gamma': 0.4,\n",
       " 'colsample_bytree': 0.7}"
      ]
     },
     "execution_count": 77,
     "metadata": {},
     "output_type": "execute_result"
    }
   ],
   "source": [
    "xg_bp = xg_r.best_params_\n",
    "xg_bp"
   ]
  },
  {
   "cell_type": "code",
   "execution_count": 78,
   "id": "7e5aa546",
   "metadata": {},
   "outputs": [],
   "source": [
    "xg_classifier = xgb.XGBClassifier(learning_rate = xg_bp[\"learning_rate\"],\n",
    "                                     min_child_weight = xg_bp['min_child_weight'],\n",
    "                                     max_depth = xg_bp['max_depth'],\n",
    "                                     gamma = xg_bp['gamma'],\n",
    "                                     colsample_bytree = xg_bp['colsample_bytree'])"
   ]
  },
  {
   "cell_type": "code",
   "execution_count": 79,
   "id": "0794f8d0",
   "metadata": {},
   "outputs": [
    {
     "data": {
      "text/plain": [
       "XGBClassifier(base_score=0.5, booster='gbtree', callbacks=None,\n",
       "              colsample_bylevel=1, colsample_bynode=1, colsample_bytree=0.7,\n",
       "              early_stopping_rounds=None, enable_categorical=False,\n",
       "              eval_metric=None, gamma=0.4, gpu_id=-1, grow_policy='depthwise',\n",
       "              importance_type=None, interaction_constraints='',\n",
       "              learning_rate=0.3, max_bin=256, max_cat_to_onehot=4,\n",
       "              max_delta_step=0, max_depth=6, max_leaves=0, min_child_weight=3,\n",
       "              missing=nan, monotone_constraints='()', n_estimators=100,\n",
       "              n_jobs=0, num_parallel_tree=1, predictor='auto', random_state=0,\n",
       "              reg_alpha=0, reg_lambda=1, ...)"
      ]
     },
     "execution_count": 79,
     "metadata": {},
     "output_type": "execute_result"
    }
   ],
   "source": [
    "xg_classifier.fit(X_train_smote, y_train_smote)"
   ]
  },
  {
   "cell_type": "code",
   "execution_count": 80,
   "id": "e2979df6",
   "metadata": {},
   "outputs": [
    {
     "name": "stdout",
     "output_type": "stream",
     "text": [
      "0.9326816100968466\n"
     ]
    }
   ],
   "source": [
    "y_test_pred_xg_smote = xg_classifier.predict(X_test_smote)\n",
    "print(accuracy_score(y_test_pred_xg_smote, y_test_smote))"
   ]
  },
  {
   "cell_type": "code",
   "execution_count": 81,
   "id": "5724ae11",
   "metadata": {},
   "outputs": [
    {
     "data": {
      "text/plain": [
       "Text(0.5, 0, 'False Positive Rate')"
      ]
     },
     "execution_count": 81,
     "metadata": {},
     "output_type": "execute_result"
    },
    {
     "data": {
      "image/png": "[encoded data removed]",
      "text/plain": [
       "<Figure size 720x720 with 1 Axes>"
      ]
     },
     "metadata": {
      "needs_background": "light"
     },
     "output_type": "display_data"
    }
   ],
   "source": [
    "false_positive_rate, true_positive_rate, thresholds = roc_curve(y_test_smote, y_test_pred_xg_smote)\n",
    "roc_auc = auc(false_positive_rate, true_positive_rate)\n",
    "\n",
    "\n",
    "import matplotlib.pyplot as plt\n",
    "plt.figure(figsize=(10,10))\n",
    "plt.title('Receiver Operating Characteristic')\n",
    "plt.plot(false_positive_rate,true_positive_rate, color='red',label = 'AUC = %0.2f' % roc_auc)\n",
    "plt.legend(loc = 'lower right')\n",
    "plt.plot([0, 1], [0, 1],linestyle='--')\n",
    "plt.axis('tight')\n",
    "plt.ylabel('True Positive Rate')\n",
    "plt.xlabel('False Positive Rate')"
   ]
  },
  {
   "cell_type": "code",
   "execution_count": 82,
   "id": "cf38fb42",
   "metadata": {},
   "outputs": [
    {
     "data": {
      "image/png": "[encoded data removed]",
      "text/plain": [
       "<Figure size 360x360 with 2 Axes>"
      ]
     },
     "metadata": {
      "needs_background": "light"
     },
     "output_type": "display_data"
    }
   ],
   "source": [
    "from sklearn.metrics import confusion_matrix\n",
    "cm = confusion_matrix(y_test_smote, y_test_pred_xg_smote)\n",
    "\n",
    "f, ax=plt.subplots(figsize=(5,5))\n",
    "sns.heatmap(cm, annot = True, linewidths = 0.5, linecolor = \"red\", fmt = \".0f\",ax = ax)\n",
    "plt.xlabel(\"y_pred\")\n",
    "plt.ylabel(\"y_true\")\n",
    "plt.show()\n"
   ]
  },
  {
   "cell_type": "code",
   "execution_count": 83,
   "id": "6b15277b",
   "metadata": {},
   "outputs": [
    {
     "name": "stdout",
     "output_type": "stream",
     "text": [
      "[Training Classification Report]\n",
      "              precision    recall  f1-score   support\n",
      "\n",
      "           0       0.91      0.97      0.94    164389\n",
      "           1       0.96      0.91      0.93    164585\n",
      "\n",
      "    accuracy                           0.94    328974\n",
      "   macro avg       0.94      0.94      0.94    328974\n",
      "weighted avg       0.94      0.94      0.94    328974\n",
      "\n",
      "[Test Classification Report]\n",
      "              precision    recall  f1-score   support\n",
      "\n",
      "           0       0.91      0.96      0.93     54927\n",
      "           1       0.96      0.91      0.93     54731\n",
      "\n",
      "    accuracy                           0.93    109658\n",
      "   macro avg       0.93      0.93      0.93    109658\n",
      "weighted avg       0.93      0.93      0.93    109658\n",
      "\n"
     ]
    }
   ],
   "source": [
    "from sklearn.metrics import classification_report\n",
    "# ref: http://scikit-learn.org/stable/modules/generated/sklearn.metrics.classification_report.html#sklearn.metrics.classification_report\n",
    "\n",
    "y_train_pred_xg_smote = xg_classifier.predict(X_train_smote)\n",
    "\n",
    "print(\"[Training Classification Report]\")\n",
    "print(classification_report(y_train_smote, y_train_pred_xg_smote))\n",
    "\n",
    "print(\"[Test Classification Report]\")\n",
    "print(classification_report(y_test_smote, y_test_pred_xg_smote))\n"
   ]
  },
  {
   "cell_type": "markdown",
   "id": "52da4836",
   "metadata": {},
   "source": [
    "the number of correctly predicted positives among the total number of true positive values are above 90% for both training and test set, a sign that we may be moving in the right direction. "
   ]
  },
  {
   "cell_type": "markdown",
   "id": "1a4b6b06",
   "metadata": {},
   "source": [
    "As expected, our over sampling methods are doing better, with both giving Roc_auc score & weighted f1 score of 0.93 "
   ]
  },
  {
   "cell_type": "markdown",
   "id": "c7b186ea",
   "metadata": {},
   "source": [
    "##### XGBoost - RUS"
   ]
  },
  {
   "cell_type": "code",
   "execution_count": 170,
   "id": "71fc8785",
   "metadata": {},
   "outputs": [
    {
     "name": "stdout",
     "output_type": "stream",
     "text": [
      "Wall time: 55.7 s\n"
     ]
    },
    {
     "data": {
      "text/plain": [
       "RandomizedSearchCV(cv=5,\n",
       "                   estimator=XGBClassifier(base_score=None, booster=None,\n",
       "                                           callbacks=None,\n",
       "                                           colsample_bylevel=None,\n",
       "                                           colsample_bynode=None,\n",
       "                                           colsample_bytree=None,\n",
       "                                           early_stopping_rounds=None,\n",
       "                                           enable_categorical=False,\n",
       "                                           eval_metric=None, gamma=None,\n",
       "                                           gpu_id=None, grow_policy=None,\n",
       "                                           importance_type=None,\n",
       "                                           interaction_constraints=None,\n",
       "                                           learning_rate=None, max_bin=None,...\n",
       "                                           min_child_weight=None, missing=nan,\n",
       "                                           monotone_constraints=None,\n",
       "                                           n_estimators=100, n_jobs=None,\n",
       "                                           num_parallel_tree=None,\n",
       "                                           predictor=None, random_state=None,\n",
       "                                           reg_alpha=None, reg_lambda=None, ...),\n",
       "                   param_distributions={'colsample_bytree': [0.3, 0.4, 0.5,\n",
       "                                                             0.7],\n",
       "                                        'gamma': [0.0, 0.1, 0.2, 0.3, 0.4],\n",
       "                                        'learning_rate': [0.05, 0.1, 0.15, 0.2,\n",
       "                                                          0.25, 0.3],\n",
       "                                        'max_depth': [3, 5, 6, 8],\n",
       "                                        'min_child_weight': [1, 3, 5, 7]},\n",
       "                   scoring='f1')"
      ]
     },
     "execution_count": 170,
     "metadata": {},
     "output_type": "execute_result"
    }
   ],
   "source": [
    "%time xg_r.fit(X_train_rus, y_train_rus)"
   ]
  },
  {
   "cell_type": "code",
   "execution_count": 171,
   "id": "f579fea5",
   "metadata": {},
   "outputs": [
    {
     "data": {
      "text/plain": [
       "0.772705529072286"
      ]
     },
     "execution_count": 171,
     "metadata": {},
     "output_type": "execute_result"
    }
   ],
   "source": [
    "xg_r.best_score_"
   ]
  },
  {
   "cell_type": "code",
   "execution_count": 172,
   "id": "51fc9376",
   "metadata": {},
   "outputs": [
    {
     "data": {
      "text/plain": [
       "{'min_child_weight': 1,\n",
       " 'max_depth': 5,\n",
       " 'learning_rate': 0.15,\n",
       " 'gamma': 0.3,\n",
       " 'colsample_bytree': 0.3}"
      ]
     },
     "execution_count": 172,
     "metadata": {},
     "output_type": "execute_result"
    }
   ],
   "source": [
    "xg_bp = xg_r.best_params_\n",
    "xg_bp"
   ]
  },
  {
   "cell_type": "code",
   "execution_count": 173,
   "id": "c44db42d",
   "metadata": {},
   "outputs": [],
   "source": [
    "xg_classifier = xgb.XGBClassifier(learning_rate = xg_bp[\"learning_rate\"],\n",
    "                                     min_child_weight = xg_bp['min_child_weight'],\n",
    "                                     max_depth = xg_bp['max_depth'],\n",
    "                                     gamma = xg_bp['gamma'],\n",
    "                                     colsample_bytree = xg_bp['colsample_bytree'])"
   ]
  },
  {
   "cell_type": "code",
   "execution_count": 174,
   "id": "7e0f66fd",
   "metadata": {},
   "outputs": [
    {
     "data": {
      "text/plain": [
       "XGBClassifier(base_score=0.5, booster='gbtree', callbacks=None,\n",
       "              colsample_bylevel=1, colsample_bynode=1, colsample_bytree=0.3,\n",
       "              early_stopping_rounds=None, enable_categorical=False,\n",
       "              eval_metric=None, gamma=0.3, gpu_id=-1, grow_policy='depthwise',\n",
       "              importance_type=None, interaction_constraints='',\n",
       "              learning_rate=0.15, max_bin=256, max_cat_to_onehot=4,\n",
       "              max_delta_step=0, max_depth=5, max_leaves=0, min_child_weight=1,\n",
       "              missing=nan, monotone_constraints='()', n_estimators=100,\n",
       "              n_jobs=0, num_parallel_tree=1, predictor='auto', random_state=0,\n",
       "              reg_alpha=0, reg_lambda=1, ...)"
      ]
     },
     "execution_count": 174,
     "metadata": {},
     "output_type": "execute_result"
    }
   ],
   "source": [
    "xg_classifier.fit(X_train_rus, y_train_rus)\n"
   ]
  },
  {
   "cell_type": "code",
   "execution_count": 175,
   "id": "04626c21",
   "metadata": {},
   "outputs": [
    {
     "name": "stdout",
     "output_type": "stream",
     "text": [
      "0.7693132001948368\n"
     ]
    }
   ],
   "source": [
    "y_test_pred_xg_rus = xg_classifier.predict(X_test_rus)\n",
    "print(accuracy_score(y_test_pred_xg_rus, y_test_rus))"
   ]
  },
  {
   "cell_type": "code",
   "execution_count": 176,
   "id": "7619a164",
   "metadata": {},
   "outputs": [
    {
     "data": {
      "text/plain": [
       "Text(0.5, 0, 'False Positive Rate')"
      ]
     },
     "execution_count": 176,
     "metadata": {},
     "output_type": "execute_result"
    },
    {
     "data": {
      "image/png": "[encoded data removed]",
      "text/plain": [
       "<Figure size 720x720 with 1 Axes>"
      ]
     },
     "metadata": {
      "needs_background": "light"
     },
     "output_type": "display_data"
    }
   ],
   "source": [
    "false_positive_rate, true_positive_rate, thresholds = roc_curve(y_test_rus, y_test_pred_xg_rus)\n",
    "roc_auc = auc(false_positive_rate, true_positive_rate)\n",
    "\n",
    "\n",
    "import matplotlib.pyplot as plt\n",
    "plt.figure(figsize=(10,10))\n",
    "plt.title('Receiver Operating Characteristic')\n",
    "plt.plot(false_positive_rate,true_positive_rate, color='red',label = 'AUC = %0.2f' % roc_auc)\n",
    "plt.legend(loc = 'lower right')\n",
    "plt.plot([0, 1], [0, 1],linestyle='--')\n",
    "plt.axis('tight')\n",
    "plt.ylabel('True Positive Rate')\n",
    "plt.xlabel('False Positive Rate')\n"
   ]
  },
  {
   "cell_type": "code",
   "execution_count": 177,
   "id": "4adb372d",
   "metadata": {},
   "outputs": [
    {
     "data": {
      "image/png": "[encoded data removed]",
      "text/plain": [
       "<Figure size 360x360 with 2 Axes>"
      ]
     },
     "metadata": {
      "needs_background": "light"
     },
     "output_type": "display_data"
    }
   ],
   "source": [
    "from sklearn.metrics import confusion_matrix\n",
    "cm = confusion_matrix(y_test_rus, y_test_pred_xg_rus)\n",
    "\n",
    "f, ax=plt.subplots(figsize=(5,5))\n",
    "sns.heatmap(cm, annot = True, linewidths = 0.5, linecolor = \"red\", fmt = \".0f\",ax = ax)\n",
    "plt.xlabel(\"y_pred\")\n",
    "plt.ylabel(\"y_true\")\n",
    "plt.show()"
   ]
  },
  {
   "cell_type": "code",
   "execution_count": 178,
   "id": "50acfca6",
   "metadata": {},
   "outputs": [
    {
     "name": "stdout",
     "output_type": "stream",
     "text": [
      "[Training Classification Report]\n",
      "              precision    recall  f1-score   support\n",
      "\n",
      "           0       0.80      0.75      0.77     15406\n",
      "           1       0.76      0.81      0.79     15389\n",
      "\n",
      "    accuracy                           0.78     30795\n",
      "   macro avg       0.78      0.78      0.78     30795\n",
      "weighted avg       0.78      0.78      0.78     30795\n",
      "\n",
      "[Test Classification Report]\n",
      "              precision    recall  f1-score   support\n",
      "\n",
      "           0       0.79      0.74      0.76      5124\n",
      "           1       0.75      0.80      0.78      5141\n",
      "\n",
      "    accuracy                           0.77     10265\n",
      "   macro avg       0.77      0.77      0.77     10265\n",
      "weighted avg       0.77      0.77      0.77     10265\n",
      "\n"
     ]
    }
   ],
   "source": [
    "from sklearn.metrics import classification_report\n",
    "# ref: http://scikit-learn.org/stable/modules/generated/sklearn.metrics.classification_report.html#sklearn.metrics.classification_report\n",
    "\n",
    "y_train_pred_xg_rus = xg_classifier.predict(X_train_rus)\n",
    "\n",
    "print(\"[Training Classification Report]\")\n",
    "print(classification_report(y_train_rus, y_train_pred_xg_rus))\n",
    "\n",
    "print(\"[Test Classification Report]\")\n",
    "print(classification_report(y_test_rus, y_test_pred_xg_rus))\n"
   ]
  },
  {
   "cell_type": "markdown",
   "id": "0969f78e",
   "metadata": {},
   "source": [
    "For XGBoost, our over sampling methods perform significantly better than the under sampling methods. "
   ]
  },
  {
   "cell_type": "code",
   "execution_count": 179,
   "id": "0a09cce5",
   "metadata": {},
   "outputs": [],
   "source": [
    "import gc\n",
    "from datetime import datetime \n",
    "from sklearn.model_selection import train_test_split\n",
    "from sklearn.model_selection import KFold\n",
    "from sklearn.metrics import roc_auc_score\n",
    "from sklearn.ensemble import RandomForestClassifier\n",
    "from sklearn.ensemble import AdaBoostClassifier\n",
    "from catboost import CatBoostClassifier\n",
    "from sklearn import svm\n",
    "from sklearn.ensemble import GradientBoostingClassifier\n",
    "from sklearn.model_selection import GridSearchCV"
   ]
  },
  {
   "cell_type": "markdown",
   "id": "9478a23a",
   "metadata": {},
   "source": [
    "##### ADABoost_RUS - SAMME"
   ]
  },
  {
   "cell_type": "markdown",
   "id": "767b3f0b",
   "metadata": {},
   "source": [
    "Since ADABoost have two algorithms 'Samme' & 'Samme.R' we will generate 3 model for each algorithm and compare them."
   ]
  },
  {
   "cell_type": "code",
   "execution_count": 109,
   "id": "0602a6e0",
   "metadata": {},
   "outputs": [],
   "source": [
    "ada_classifier_samme = AdaBoostClassifier(algorithm = 'SAMME', n_estimators = 1000)"
   ]
  },
  {
   "cell_type": "code",
   "execution_count": 110,
   "id": "8ba79a2f",
   "metadata": {},
   "outputs": [
    {
     "name": "stdout",
     "output_type": "stream",
     "text": [
      "Wall time: 26.1 s\n"
     ]
    },
    {
     "data": {
      "text/plain": [
       "AdaBoostClassifier(algorithm='SAMME', n_estimators=1000)"
      ]
     },
     "execution_count": 110,
     "metadata": {},
     "output_type": "execute_result"
    }
   ],
   "source": [
    "%time ada_classifier_samme.fit(X_train_rus, y_train_rus)"
   ]
  },
  {
   "cell_type": "code",
   "execution_count": 111,
   "id": "30ae4ca7",
   "metadata": {},
   "outputs": [
    {
     "name": "stdout",
     "output_type": "stream",
     "text": [
      "0.7642474427666829\n"
     ]
    }
   ],
   "source": [
    "y_test_pred_ada_samme_rus = ada_classifier_samme.predict(X_test_rus)\n",
    "print(accuracy_score(y_test_pred_ada_samme_rus, y_test_rus))"
   ]
  },
  {
   "cell_type": "code",
   "execution_count": 112,
   "id": "3d2b5494",
   "metadata": {},
   "outputs": [
    {
     "data": {
      "text/plain": [
       "Text(0.5, 0, 'False Positive Rate')"
      ]
     },
     "execution_count": 112,
     "metadata": {},
     "output_type": "execute_result"
    },
    {
     "data": {
      "image/png": "[encoded data removed]",
      "text/plain": [
       "<Figure size 720x720 with 1 Axes>"
      ]
     },
     "metadata": {
      "needs_background": "light"
     },
     "output_type": "display_data"
    }
   ],
   "source": [
    "false_positive_rate, true_positive_rate, thresholds = roc_curve(y_test_rus, y_test_pred_ada_samme_rus)\n",
    "roc_auc = auc(false_positive_rate, true_positive_rate)\n",
    "\n",
    "\n",
    "import matplotlib.pyplot as plt\n",
    "plt.figure(figsize=(10,10))\n",
    "plt.title('Receiver Operating Characteristic')\n",
    "plt.plot(false_positive_rate,true_positive_rate, color='red',label = 'AUC = %0.2f' % roc_auc)\n",
    "plt.legend(loc = 'lower right')\n",
    "plt.plot([0, 1], [0, 1],linestyle='--')\n",
    "plt.axis('tight')\n",
    "plt.ylabel('True Positive Rate')\n",
    "plt.xlabel('False Positive Rate')"
   ]
  },
  {
   "cell_type": "code",
   "execution_count": 113,
   "id": "ff85d23f",
   "metadata": {},
   "outputs": [
    {
     "data": {
      "image/png": "[encoded data removed]",
      "text/plain": [
       "<Figure size 360x360 with 2 Axes>"
      ]
     },
     "metadata": {
      "needs_background": "light"
     },
     "output_type": "display_data"
    }
   ],
   "source": [
    "\n",
    "from sklearn.metrics import confusion_matrix\n",
    "cm = confusion_matrix(y_test_rus, y_test_pred_ada_samme_rus)\n",
    "\n",
    "f, ax=plt.subplots(figsize=(5,5))\n",
    "sns.heatmap(cm, annot = True, linewidths = 0.5, linecolor = \"red\", fmt = \".0f\",ax = ax)\n",
    "plt.xlabel(\"y_pred\")\n",
    "plt.ylabel(\"y_true\")\n",
    "plt.show()\n"
   ]
  },
  {
   "cell_type": "code",
   "execution_count": 114,
   "id": "06c3a084",
   "metadata": {},
   "outputs": [
    {
     "name": "stdout",
     "output_type": "stream",
     "text": [
      "[Training Classification Report]\n",
      "              precision    recall  f1-score   support\n",
      "\n",
      "           0       0.77      0.75      0.76     15406\n",
      "           1       0.76      0.78      0.77     15389\n",
      "\n",
      "    accuracy                           0.76     30795\n",
      "   macro avg       0.76      0.76      0.76     30795\n",
      "weighted avg       0.76      0.76      0.76     30795\n",
      "\n",
      "[Test Classification Report]\n",
      "              precision    recall  f1-score   support\n",
      "\n",
      "           0       0.77      0.76      0.76      5124\n",
      "           1       0.76      0.77      0.77      5141\n",
      "\n",
      "    accuracy                           0.76     10265\n",
      "   macro avg       0.76      0.76      0.76     10265\n",
      "weighted avg       0.76      0.76      0.76     10265\n",
      "\n"
     ]
    }
   ],
   "source": [
    "from sklearn.metrics import classification_report\n",
    "# ref: http://scikit-learn.org/stable/modules/generated/sklearn.metrics.classification_report.html#sklearn.metrics.classification_report\n",
    "\n",
    "y_train_pred_ada_samme_rus = ada_classifier_samme.predict(X_train_rus)\n",
    "\n",
    "print(\"[Training Classification Report]\")\n",
    "print(classification_report(y_train_rus, y_train_pred_ada_samme_rus))\n",
    "\n",
    "print(\"[Test Classification Report]\")\n",
    "print(classification_report(y_test_rus, y_test_pred_ada_samme_rus))\n"
   ]
  },
  {
   "cell_type": "markdown",
   "id": "c77e1d02",
   "metadata": {},
   "source": [
    "##### ADABoost_adasyn - SAMME"
   ]
  },
  {
   "cell_type": "code",
   "execution_count": 115,
   "id": "3fc583bc",
   "metadata": {},
   "outputs": [
    {
     "name": "stdout",
     "output_type": "stream",
     "text": [
      "Wall time: 5min 26s\n"
     ]
    },
    {
     "data": {
      "text/plain": [
       "AdaBoostClassifier(algorithm='SAMME', n_estimators=1000)"
      ]
     },
     "execution_count": 115,
     "metadata": {},
     "output_type": "execute_result"
    }
   ],
   "source": [
    "%time ada_classifier_samme.fit(X_train_adasyn, y_train_adasyn)"
   ]
  },
  {
   "cell_type": "code",
   "execution_count": 116,
   "id": "c7112f8e",
   "metadata": {},
   "outputs": [
    {
     "name": "stdout",
     "output_type": "stream",
     "text": [
      "0.906613553030646\n"
     ]
    }
   ],
   "source": [
    "y_test_pred_ada_samme_adasyn = ada_classifier_samme.predict(X_test_adasyn)\n",
    "print(accuracy_score(y_test_pred_ada_samme_adasyn, y_test_adasyn))"
   ]
  },
  {
   "cell_type": "code",
   "execution_count": 117,
   "id": "6178d2ef",
   "metadata": {},
   "outputs": [
    {
     "data": {
      "text/plain": [
       "Text(0.5, 0, 'False Positive Rate')"
      ]
     },
     "execution_count": 117,
     "metadata": {},
     "output_type": "execute_result"
    },
    {
     "data": {
      "image/png": "[encoded data removed]",
      "text/plain": [
       "<Figure size 720x720 with 1 Axes>"
      ]
     },
     "metadata": {
      "needs_background": "light"
     },
     "output_type": "display_data"
    }
   ],
   "source": [
    "false_positive_rate, true_positive_rate, thresholds = roc_curve(y_test_adasyn, y_test_pred_ada_samme_adasyn)\n",
    "roc_auc = auc(false_positive_rate, true_positive_rate)\n",
    "\n",
    "\n",
    "import matplotlib.pyplot as plt\n",
    "plt.figure(figsize=(10,10))\n",
    "plt.title('Receiver Operating Characteristic')\n",
    "plt.plot(false_positive_rate,true_positive_rate, color='red',label = 'AUC = %0.2f' % roc_auc)\n",
    "plt.legend(loc = 'lower right')\n",
    "plt.plot([0, 1], [0, 1],linestyle='--')\n",
    "plt.axis('tight')\n",
    "plt.ylabel('True Positive Rate')\n",
    "plt.xlabel('False Positive Rate')"
   ]
  },
  {
   "cell_type": "code",
   "execution_count": 118,
   "id": "f59f36b2",
   "metadata": {},
   "outputs": [
    {
     "data": {
      "image/png": "[encoded data removed]",
      "text/plain": [
       "<Figure size 360x360 with 2 Axes>"
      ]
     },
     "metadata": {
      "needs_background": "light"
     },
     "output_type": "display_data"
    }
   ],
   "source": [
    "\n",
    "from sklearn.metrics import confusion_matrix\n",
    "cm = confusion_matrix(y_test_adasyn, y_test_pred_ada_samme_adasyn)\n",
    "\n",
    "f, ax=plt.subplots(figsize=(5,5))\n",
    "sns.heatmap(cm, annot = True, linewidths = 0.5, linecolor = \"red\", fmt = \".0f\",ax = ax)\n",
    "plt.xlabel(\"y_pred\")\n",
    "plt.ylabel(\"y_true\")\n",
    "plt.show()\n"
   ]
  },
  {
   "cell_type": "code",
   "execution_count": 119,
   "id": "46fccdbe",
   "metadata": {},
   "outputs": [
    {
     "name": "stdout",
     "output_type": "stream",
     "text": [
      "[Training Classification Report]\n",
      "              precision    recall  f1-score   support\n",
      "\n",
      "           0       0.90      0.92      0.91    164357\n",
      "           1       0.92      0.90      0.91    167008\n",
      "\n",
      "    accuracy                           0.91    331365\n",
      "   macro avg       0.91      0.91      0.91    331365\n",
      "weighted avg       0.91      0.91      0.91    331365\n",
      "\n",
      "[Test Classification Report]\n",
      "              precision    recall  f1-score   support\n",
      "\n",
      "           0       0.90      0.91      0.91     54959\n",
      "           1       0.91      0.90      0.91     55496\n",
      "\n",
      "    accuracy                           0.91    110455\n",
      "   macro avg       0.91      0.91      0.91    110455\n",
      "weighted avg       0.91      0.91      0.91    110455\n",
      "\n"
     ]
    }
   ],
   "source": [
    "from sklearn.metrics import classification_report\n",
    "# ref: http://scikit-learn.org/stable/modules/generated/sklearn.metrics.classification_report.html#sklearn.metrics.classification_report\n",
    "\n",
    "y_train_pred_ada_samme_adasyn = ada_classifier_samme.predict(X_train_adasyn)\n",
    "\n",
    "print(\"[Training Classification Report]\")\n",
    "print(classification_report(y_train_adasyn, y_train_pred_ada_samme_adasyn))\n",
    "\n",
    "print(\"[Test Classification Report]\")\n",
    "print(classification_report(y_test_adasyn, y_test_pred_ada_samme_adasyn))\n"
   ]
  },
  {
   "cell_type": "code",
   "execution_count": null,
   "id": "72c6a33a",
   "metadata": {},
   "outputs": [],
   "source": []
  },
  {
   "cell_type": "markdown",
   "id": "003d338c",
   "metadata": {},
   "source": [
    "##### ADABoost_smote - SAMME\n"
   ]
  },
  {
   "cell_type": "code",
   "execution_count": 120,
   "id": "296a0ab8",
   "metadata": {},
   "outputs": [
    {
     "name": "stdout",
     "output_type": "stream",
     "text": [
      "Wall time: 5min 23s\n"
     ]
    },
    {
     "data": {
      "text/plain": [
       "AdaBoostClassifier(algorithm='SAMME', n_estimators=1000)"
      ]
     },
     "execution_count": 120,
     "metadata": {},
     "output_type": "execute_result"
    }
   ],
   "source": [
    "%time ada_classifier_samme.fit(X_train_smote, y_train_smote)"
   ]
  },
  {
   "cell_type": "code",
   "execution_count": 121,
   "id": "aeb2fc7a",
   "metadata": {},
   "outputs": [
    {
     "name": "stdout",
     "output_type": "stream",
     "text": [
      "0.9055335680023345\n"
     ]
    }
   ],
   "source": [
    "y_test_pred_ada_samme_smote = ada_classifier_samme.predict(X_test_smote)\n",
    "print(accuracy_score(y_test_pred_ada_samme_smote, y_test_smote))"
   ]
  },
  {
   "cell_type": "code",
   "execution_count": 122,
   "id": "13b05ff3",
   "metadata": {},
   "outputs": [
    {
     "data": {
      "text/plain": [
       "Text(0.5, 0, 'False Positive Rate')"
      ]
     },
     "execution_count": 122,
     "metadata": {},
     "output_type": "execute_result"
    },
    {
     "data": {
      "image/png": "[encoded data removed]",
      "text/plain": [
       "<Figure size 720x720 with 1 Axes>"
      ]
     },
     "metadata": {
      "needs_background": "light"
     },
     "output_type": "display_data"
    }
   ],
   "source": [
    "false_positive_rate, true_positive_rate, thresholds = roc_curve(y_test_smote, y_test_pred_ada_samme_smote)\n",
    "roc_auc = auc(false_positive_rate, true_positive_rate)\n",
    "\n",
    "\n",
    "import matplotlib.pyplot as plt\n",
    "plt.figure(figsize=(10,10))\n",
    "plt.title('Receiver Operating Characteristic')\n",
    "plt.plot(false_positive_rate,true_positive_rate, color='red',label = 'AUC = %0.2f' % roc_auc)\n",
    "plt.legend(loc = 'lower right')\n",
    "plt.plot([0, 1], [0, 1],linestyle='--')\n",
    "plt.axis('tight')\n",
    "plt.ylabel('True Positive Rate')\n",
    "plt.xlabel('False Positive Rate')"
   ]
  },
  {
   "cell_type": "code",
   "execution_count": 123,
   "id": "12e48c83",
   "metadata": {},
   "outputs": [
    {
     "data": {
      "image/png": "[encoded data removed]",
      "text/plain": [
       "<Figure size 360x360 with 2 Axes>"
      ]
     },
     "metadata": {
      "needs_background": "light"
     },
     "output_type": "display_data"
    }
   ],
   "source": [
    "from sklearn.metrics import confusion_matrix\n",
    "cm = confusion_matrix(y_test_smote, y_test_pred_ada_samme_smote)\n",
    "\n",
    "f, ax=plt.subplots(figsize=(5,5))\n",
    "sns.heatmap(cm, annot = True, linewidths = 0.5, linecolor = \"red\", fmt = \".0f\",ax = ax)\n",
    "plt.xlabel(\"y_pred\")\n",
    "plt.ylabel(\"y_true\")\n",
    "plt.show()\n"
   ]
  },
  {
   "cell_type": "code",
   "execution_count": 124,
   "id": "3a6338f0",
   "metadata": {},
   "outputs": [
    {
     "name": "stdout",
     "output_type": "stream",
     "text": [
      "[Training Classification Report]\n",
      "              precision    recall  f1-score   support\n",
      "\n",
      "           0       0.90      0.91      0.91    164389\n",
      "           1       0.91      0.90      0.91    164585\n",
      "\n",
      "    accuracy                           0.91    328974\n",
      "   macro avg       0.91      0.91      0.91    328974\n",
      "weighted avg       0.91      0.91      0.91    328974\n",
      "\n",
      "[Test Classification Report]\n",
      "              precision    recall  f1-score   support\n",
      "\n",
      "           0       0.90      0.91      0.91     54927\n",
      "           1       0.91      0.90      0.90     54731\n",
      "\n",
      "    accuracy                           0.91    109658\n",
      "   macro avg       0.91      0.91      0.91    109658\n",
      "weighted avg       0.91      0.91      0.91    109658\n",
      "\n"
     ]
    }
   ],
   "source": [
    "from sklearn.metrics import classification_report\n",
    "# ref: http://scikit-learn.org/stable/modules/generated/sklearn.metrics.classification_report.html#sklearn.metrics.classification_report\n",
    "\n",
    "y_train_pred_ada_samme_smote = ada_classifier_samme.predict(X_train_smote)\n",
    "\n",
    "print(\"[Training Classification Report]\")\n",
    "print(classification_report(y_train_smote, y_train_pred_ada_samme_smote))\n",
    "\n",
    "print(\"[Test Classification Report]\")\n",
    "print(classification_report(y_test_smote, y_test_pred_ada_samme_smote))\n"
   ]
  },
  {
   "cell_type": "markdown",
   "id": "1e4e0cc1",
   "metadata": {},
   "source": [
    "We see the same pattern as before, our over sampling method is performing better than the under sampling method, with the number of correct predictions again over 90% and weighted f1 score 3 units below our best model which was XGBoost with ADASYN sampling method. "
   ]
  },
  {
   "cell_type": "markdown",
   "id": "0d23c0a7",
   "metadata": {},
   "source": [
    "##### ADABoost_rus - SAMME.R\n"
   ]
  },
  {
   "cell_type": "code",
   "execution_count": 125,
   "id": "523ab520",
   "metadata": {},
   "outputs": [],
   "source": [
    "ada_classifier_samme_r = AdaBoostClassifier(algorithm = 'SAMME.R', n_estimators = 1000)"
   ]
  },
  {
   "cell_type": "code",
   "execution_count": 126,
   "id": "3c6d4b6f",
   "metadata": {},
   "outputs": [
    {
     "name": "stdout",
     "output_type": "stream",
     "text": [
      "Wall time: 26.2 s\n"
     ]
    },
    {
     "data": {
      "text/plain": [
       "AdaBoostClassifier(n_estimators=1000)"
      ]
     },
     "execution_count": 126,
     "metadata": {},
     "output_type": "execute_result"
    }
   ],
   "source": [
    "%time ada_classifier_samme_r.fit(X_train_rus, y_train_rus)"
   ]
  },
  {
   "cell_type": "code",
   "execution_count": 127,
   "id": "eedbb6b5",
   "metadata": {},
   "outputs": [
    {
     "name": "stdout",
     "output_type": "stream",
     "text": [
      "0.7634680954700438\n"
     ]
    }
   ],
   "source": [
    "y_test_pred_ada_samme_r_rus = ada_classifier_samme_r.predict(X_test_rus)\n",
    "print(accuracy_score(y_test_pred_ada_samme_r_rus, y_test_rus))"
   ]
  },
  {
   "cell_type": "code",
   "execution_count": 128,
   "id": "4802cf84",
   "metadata": {},
   "outputs": [
    {
     "data": {
      "text/plain": [
       "Text(0.5, 0, 'False Positive Rate')"
      ]
     },
     "execution_count": 128,
     "metadata": {},
     "output_type": "execute_result"
    },
    {
     "data": {
      "image/png": "[encoded data removed]",
      "text/plain": [
       "<Figure size 720x720 with 1 Axes>"
      ]
     },
     "metadata": {
      "needs_background": "light"
     },
     "output_type": "display_data"
    }
   ],
   "source": [
    "false_positive_rate, true_positive_rate, thresholds = roc_curve(y_test_rus, y_test_pred_ada_samme_r_rus)\n",
    "roc_auc = auc(false_positive_rate, true_positive_rate)\n",
    "\n",
    "\n",
    "import matplotlib.pyplot as plt\n",
    "plt.figure(figsize=(10,10))\n",
    "plt.title('Receiver Operating Characteristic')\n",
    "plt.plot(false_positive_rate,true_positive_rate, color='red',label = 'AUC = %0.2f' % roc_auc)\n",
    "plt.legend(loc = 'lower right')\n",
    "plt.plot([0, 1], [0, 1],linestyle='--')\n",
    "plt.axis('tight')\n",
    "plt.ylabel('True Positive Rate')\n",
    "plt.xlabel('False Positive Rate')"
   ]
  },
  {
   "cell_type": "code",
   "execution_count": 129,
   "id": "0a006274",
   "metadata": {},
   "outputs": [
    {
     "data": {
      "image/png": "[encoded data removed]",
      "text/plain": [
       "<Figure size 360x360 with 2 Axes>"
      ]
     },
     "metadata": {
      "needs_background": "light"
     },
     "output_type": "display_data"
    }
   ],
   "source": [
    "\n",
    "from sklearn.metrics import confusion_matrix\n",
    "cm = confusion_matrix(y_test_rus, y_test_pred_ada_samme_r_rus)\n",
    "\n",
    "f, ax=plt.subplots(figsize=(5,5))\n",
    "sns.heatmap(cm, annot = True, linewidths = 0.5, linecolor = \"red\", fmt = \".0f\",ax = ax)\n",
    "plt.xlabel(\"y_pred\")\n",
    "plt.ylabel(\"y_true\")\n",
    "plt.show()\n"
   ]
  },
  {
   "cell_type": "code",
   "execution_count": 130,
   "id": "71ea9fab",
   "metadata": {},
   "outputs": [
    {
     "name": "stdout",
     "output_type": "stream",
     "text": [
      "[Training Classification Report]\n",
      "              precision    recall  f1-score   support\n",
      "\n",
      "           0       0.78      0.75      0.76     15406\n",
      "           1       0.76      0.78      0.77     15389\n",
      "\n",
      "    accuracy                           0.77     30795\n",
      "   macro avg       0.77      0.77      0.77     30795\n",
      "weighted avg       0.77      0.77      0.77     30795\n",
      "\n",
      "[Test Classification Report]\n",
      "              precision    recall  f1-score   support\n",
      "\n",
      "           0       0.77      0.75      0.76      5124\n",
      "           1       0.76      0.78      0.77      5141\n",
      "\n",
      "    accuracy                           0.76     10265\n",
      "   macro avg       0.76      0.76      0.76     10265\n",
      "weighted avg       0.76      0.76      0.76     10265\n",
      "\n"
     ]
    }
   ],
   "source": [
    "from sklearn.metrics import classification_report\n",
    "# ref: http://scikit-learn.org/stable/modules/generated/sklearn.metrics.classification_report.html#sklearn.metrics.classification_report\n",
    "\n",
    "y_train_pred_ada_samme_r_rus = ada_classifier_samme_r.predict(X_train_rus)\n",
    "\n",
    "print(\"[Training Classification Report]\")\n",
    "print(classification_report(y_train_rus, y_train_pred_ada_samme_r_rus))\n",
    "\n",
    "print(\"[Test Classification Report]\")\n",
    "print(classification_report(y_test_rus, y_test_pred_ada_samme_r_rus))"
   ]
  },
  {
   "cell_type": "code",
   "execution_count": null,
   "id": "f6640733",
   "metadata": {},
   "outputs": [],
   "source": []
  },
  {
   "cell_type": "markdown",
   "id": "03e42b04",
   "metadata": {},
   "source": [
    "##### ADABoost_adasyn - SAMME.R"
   ]
  },
  {
   "cell_type": "code",
   "execution_count": 131,
   "id": "0adbae26",
   "metadata": {},
   "outputs": [
    {
     "name": "stdout",
     "output_type": "stream",
     "text": [
      "Wall time: 6min 6s\n"
     ]
    },
    {
     "data": {
      "text/plain": [
       "AdaBoostClassifier(n_estimators=1000)"
      ]
     },
     "execution_count": 131,
     "metadata": {},
     "output_type": "execute_result"
    }
   ],
   "source": [
    "%time ada_classifier_samme_r.fit(X_train_adasyn, y_train_adasyn)"
   ]
  },
  {
   "cell_type": "code",
   "execution_count": 132,
   "id": "34a4a0f5",
   "metadata": {},
   "outputs": [
    {
     "name": "stdout",
     "output_type": "stream",
     "text": [
      "0.9288760128559141\n"
     ]
    }
   ],
   "source": [
    "y_test_pred_ada_samme_r_adasyn = ada_classifier_samme_r.predict(X_test_adasyn)\n",
    "print(accuracy_score(y_test_pred_ada_samme_r_adasyn, y_test_adasyn))"
   ]
  },
  {
   "cell_type": "code",
   "execution_count": 133,
   "id": "314797b2",
   "metadata": {},
   "outputs": [
    {
     "data": {
      "text/plain": [
       "Text(0.5, 0, 'False Positive Rate')"
      ]
     },
     "execution_count": 133,
     "metadata": {},
     "output_type": "execute_result"
    },
    {
     "data": {
      "image/png": "[encoded data removed]",
      "text/plain": [
       "<Figure size 720x720 with 1 Axes>"
      ]
     },
     "metadata": {
      "needs_background": "light"
     },
     "output_type": "display_data"
    }
   ],
   "source": [
    "false_positive_rate, true_positive_rate, thresholds = roc_curve(y_test_adasyn, y_test_pred_ada_samme_r_adasyn)\n",
    "roc_auc = auc(false_positive_rate, true_positive_rate)\n",
    "\n",
    "\n",
    "import matplotlib.pyplot as plt\n",
    "plt.figure(figsize=(10,10))\n",
    "plt.title('Receiver Operating Characteristic')\n",
    "plt.plot(false_positive_rate,true_positive_rate, color='red',label = 'AUC = %0.2f' % roc_auc)\n",
    "plt.legend(loc = 'lower right')\n",
    "plt.plot([0, 1], [0, 1],linestyle='--')\n",
    "plt.axis('tight')\n",
    "plt.ylabel('True Positive Rate')\n",
    "plt.xlabel('False Positive Rate')"
   ]
  },
  {
   "cell_type": "code",
   "execution_count": 134,
   "id": "11f6f5f1",
   "metadata": {},
   "outputs": [
    {
     "data": {
      "image/png": "[encoded data removed]",
      "text/plain": [
       "<Figure size 360x360 with 2 Axes>"
      ]
     },
     "metadata": {
      "needs_background": "light"
     },
     "output_type": "display_data"
    }
   ],
   "source": [
    "from sklearn.metrics import confusion_matrix\n",
    "cm = confusion_matrix(y_test_adasyn, y_test_pred_ada_samme_r_adasyn)\n",
    "\n",
    "f, ax=plt.subplots(figsize=(5,5))\n",
    "sns.heatmap(cm, annot = True, linewidths = 0.5, linecolor = \"red\", fmt = \".0f\",ax = ax)\n",
    "plt.xlabel(\"y_pred\")\n",
    "plt.ylabel(\"y_true\")\n",
    "plt.show()\n"
   ]
  },
  {
   "cell_type": "code",
   "execution_count": 135,
   "id": "849ceffa",
   "metadata": {},
   "outputs": [
    {
     "name": "stdout",
     "output_type": "stream",
     "text": [
      "[Training Classification Report]\n",
      "              precision    recall  f1-score   support\n",
      "\n",
      "           0       0.89      0.97      0.93    164357\n",
      "           1       0.97      0.89      0.93    167008\n",
      "\n",
      "    accuracy                           0.93    331365\n",
      "   macro avg       0.93      0.93      0.93    331365\n",
      "weighted avg       0.93      0.93      0.93    331365\n",
      "\n",
      "[Test Classification Report]\n",
      "              precision    recall  f1-score   support\n",
      "\n",
      "           0       0.90      0.97      0.93     54959\n",
      "           1       0.97      0.89      0.93     55496\n",
      "\n",
      "    accuracy                           0.93    110455\n",
      "   macro avg       0.93      0.93      0.93    110455\n",
      "weighted avg       0.93      0.93      0.93    110455\n",
      "\n"
     ]
    }
   ],
   "source": [
    "from sklearn.metrics import classification_report\n",
    "# ref: http://scikit-learn.org/stable/modules/generated/sklearn.metrics.classification_report.html#sklearn.metrics.classification_report\n",
    "\n",
    "y_train_pred_ada_samme_r_adasyn = ada_classifier_samme_r.predict(X_train_adasyn)\n",
    "\n",
    "print(\"[Training Classification Report]\")\n",
    "print(classification_report(y_train_adasyn, y_train_pred_ada_samme_r_adasyn))\n",
    "\n",
    "print(\"[Test Classification Report]\")\n",
    "print(classification_report(y_test_adasyn, y_test_pred_ada_samme_r_adasyn))"
   ]
  },
  {
   "cell_type": "markdown",
   "id": "b1aad314",
   "metadata": {},
   "source": [
    "##### ADABoost_smote - SAMME.R\n"
   ]
  },
  {
   "cell_type": "code",
   "execution_count": 136,
   "id": "d4f8bef4",
   "metadata": {},
   "outputs": [
    {
     "name": "stdout",
     "output_type": "stream",
     "text": [
      "Wall time: 6min 21s\n"
     ]
    },
    {
     "data": {
      "text/plain": [
       "AdaBoostClassifier(n_estimators=1000)"
      ]
     },
     "execution_count": 136,
     "metadata": {},
     "output_type": "execute_result"
    }
   ],
   "source": [
    "%time ada_classifier_samme_r.fit(X_train_smote, y_train_smote)"
   ]
  },
  {
   "cell_type": "code",
   "execution_count": 137,
   "id": "2a839877",
   "metadata": {},
   "outputs": [
    {
     "name": "stdout",
     "output_type": "stream",
     "text": [
      "0.9276751354210363\n"
     ]
    }
   ],
   "source": [
    "y_test_pred_ada_samme_r_smote = ada_classifier_samme_r.predict(X_test_smote)\n",
    "print(accuracy_score(y_test_pred_ada_samme_r_smote, y_test_smote))"
   ]
  },
  {
   "cell_type": "code",
   "execution_count": 138,
   "id": "b92e01d5",
   "metadata": {},
   "outputs": [
    {
     "data": {
      "text/plain": [
       "Text(0.5, 0, 'False Positive Rate')"
      ]
     },
     "execution_count": 138,
     "metadata": {},
     "output_type": "execute_result"
    },
    {
     "data": {
      "image/png": "[encoded data removed]",
      "text/plain": [
       "<Figure size 720x720 with 1 Axes>"
      ]
     },
     "metadata": {
      "needs_background": "light"
     },
     "output_type": "display_data"
    }
   ],
   "source": [
    "false_positive_rate, true_positive_rate, thresholds = roc_curve(y_test_smote, y_test_pred_ada_samme_r_smote)\n",
    "roc_auc = auc(false_positive_rate, true_positive_rate)\n",
    "\n",
    "\n",
    "import matplotlib.pyplot as plt\n",
    "plt.figure(figsize=(10,10))\n",
    "plt.title('Receiver Operating Characteristic')\n",
    "plt.plot(false_positive_rate,true_positive_rate, color='red',label = 'AUC = %0.2f' % roc_auc)\n",
    "plt.legend(loc = 'lower right')\n",
    "plt.plot([0, 1], [0, 1],linestyle='--')\n",
    "plt.axis('tight')\n",
    "plt.ylabel('True Positive Rate')\n",
    "plt.xlabel('False Positive Rate')"
   ]
  },
  {
   "cell_type": "code",
   "execution_count": 139,
   "id": "12051a90",
   "metadata": {},
   "outputs": [
    {
     "data": {
      "image/png": "[encoded data removed]",
      "text/plain": [
       "<Figure size 360x360 with 2 Axes>"
      ]
     },
     "metadata": {
      "needs_background": "light"
     },
     "output_type": "display_data"
    }
   ],
   "source": [
    "from sklearn.metrics import confusion_matrix\n",
    "cm = confusion_matrix(y_test_smote, y_test_pred_ada_samme_r_smote)\n",
    "\n",
    "f, ax=plt.subplots(figsize=(5,5))\n",
    "sns.heatmap(cm, annot = True, linewidths = 0.5, linecolor = \"red\", fmt = \".0f\",ax = ax)\n",
    "plt.xlabel(\"y_pred\")\n",
    "plt.ylabel(\"y_true\")\n",
    "plt.show()\n"
   ]
  },
  {
   "cell_type": "code",
   "execution_count": 140,
   "id": "ec542539",
   "metadata": {},
   "outputs": [
    {
     "name": "stdout",
     "output_type": "stream",
     "text": [
      "[Training Classification Report]\n",
      "              precision    recall  f1-score   support\n",
      "\n",
      "           0       0.89      0.97      0.93    164389\n",
      "           1       0.97      0.89      0.92    164585\n",
      "\n",
      "    accuracy                           0.93    328974\n",
      "   macro avg       0.93      0.93      0.93    328974\n",
      "weighted avg       0.93      0.93      0.93    328974\n",
      "\n",
      "[Test Classification Report]\n",
      "              precision    recall  f1-score   support\n",
      "\n",
      "           0       0.90      0.97      0.93     54927\n",
      "           1       0.96      0.89      0.92     54731\n",
      "\n",
      "    accuracy                           0.93    109658\n",
      "   macro avg       0.93      0.93      0.93    109658\n",
      "weighted avg       0.93      0.93      0.93    109658\n",
      "\n"
     ]
    }
   ],
   "source": [
    "from sklearn.metrics import classification_report\n",
    "# ref: http://scikit-learn.org/stable/modules/generated/sklearn.metrics.classification_report.html#sklearn.metrics.classification_report\n",
    "\n",
    "y_train_pred_ada_samme_r_smote = ada_classifier_samme_r.predict(X_train_smote)\n",
    "\n",
    "print(\"[Training Classification Report]\")\n",
    "print(classification_report(y_train_smote, y_train_pred_ada_samme_r_smote))\n",
    "\n",
    "print(\"[Test Classification Report]\")\n",
    "print(classification_report(y_test_smote, y_test_pred_ada_samme_r_smote))"
   ]
  },
  {
   "cell_type": "code",
   "execution_count": 183,
   "id": "623be2a4",
   "metadata": {},
   "outputs": [
    {
     "data": {
      "text/html": [
       "<div>\n",
       "<style scoped>\n",
       "    .dataframe tbody tr th:only-of-type {\n",
       "        vertical-align: middle;\n",
       "    }\n",
       "\n",
       "    .dataframe tbody tr th {\n",
       "        vertical-align: top;\n",
       "    }\n",
       "\n",
       "    .dataframe thead th {\n",
       "        text-align: right;\n",
       "    }\n",
       "</style>\n",
       "<table border=\"1\" class=\"dataframe\">\n",
       "  <thead>\n",
       "    <tr style=\"text-align: right;\">\n",
       "      <th></th>\n",
       "      <th>Model</th>\n",
       "      <th>Sampling</th>\n",
       "      <th>ROC_AUC</th>\n",
       "      <th>Weighted_train_f1</th>\n",
       "      <th>Weighted_test_f1</th>\n",
       "    </tr>\n",
       "  </thead>\n",
       "  <tbody>\n",
       "    <tr>\n",
       "      <th>0</th>\n",
       "      <td>RandomForest</td>\n",
       "      <td>RUS</td>\n",
       "      <td>0.76</td>\n",
       "      <td>0.76</td>\n",
       "      <td>0.76</td>\n",
       "    </tr>\n",
       "    <tr>\n",
       "      <th>1</th>\n",
       "      <td>RandomForest</td>\n",
       "      <td>ADASYN</td>\n",
       "      <td>0.83</td>\n",
       "      <td>0.83</td>\n",
       "      <td>0.83</td>\n",
       "    </tr>\n",
       "    <tr>\n",
       "      <th>2</th>\n",
       "      <td>RandomForest</td>\n",
       "      <td>SMOTE</td>\n",
       "      <td>0.83</td>\n",
       "      <td>0.83</td>\n",
       "      <td>0.83</td>\n",
       "    </tr>\n",
       "    <tr>\n",
       "      <th>3</th>\n",
       "      <td>XGBoost</td>\n",
       "      <td>RUS</td>\n",
       "      <td>0.93</td>\n",
       "      <td>0.93</td>\n",
       "      <td>0.93</td>\n",
       "    </tr>\n",
       "    <tr>\n",
       "      <th>4</th>\n",
       "      <td>XGBoost</td>\n",
       "      <td>ADASYN</td>\n",
       "      <td>0.94</td>\n",
       "      <td>0.94</td>\n",
       "      <td>0.94</td>\n",
       "    </tr>\n",
       "    <tr>\n",
       "      <th>5</th>\n",
       "      <td>XGBoost</td>\n",
       "      <td>SMOTE</td>\n",
       "      <td>0.93</td>\n",
       "      <td>0.94</td>\n",
       "      <td>0.93</td>\n",
       "    </tr>\n",
       "    <tr>\n",
       "      <th>6</th>\n",
       "      <td>ADA</td>\n",
       "      <td>RUS</td>\n",
       "      <td>0.76</td>\n",
       "      <td>0.76</td>\n",
       "      <td>0.76</td>\n",
       "    </tr>\n",
       "    <tr>\n",
       "      <th>7</th>\n",
       "      <td>ADA</td>\n",
       "      <td>ADASYN</td>\n",
       "      <td>0.91</td>\n",
       "      <td>0.91</td>\n",
       "      <td>0.91</td>\n",
       "    </tr>\n",
       "    <tr>\n",
       "      <th>8</th>\n",
       "      <td>ADA</td>\n",
       "      <td>SMOTE</td>\n",
       "      <td>0.91</td>\n",
       "      <td>0.91</td>\n",
       "      <td>0.91</td>\n",
       "    </tr>\n",
       "    <tr>\n",
       "      <th>9</th>\n",
       "      <td>ADA_SAMME.R</td>\n",
       "      <td>RUS</td>\n",
       "      <td>0.76</td>\n",
       "      <td>0.77</td>\n",
       "      <td>0.76</td>\n",
       "    </tr>\n",
       "    <tr>\n",
       "      <th>10</th>\n",
       "      <td>ADA_SAMME.R</td>\n",
       "      <td>ADASYN</td>\n",
       "      <td>0.93</td>\n",
       "      <td>0.93</td>\n",
       "      <td>0.93</td>\n",
       "    </tr>\n",
       "    <tr>\n",
       "      <th>11</th>\n",
       "      <td>ADA_SAMME.R</td>\n",
       "      <td>SMOTE</td>\n",
       "      <td>0.93</td>\n",
       "      <td>0.93</td>\n",
       "      <td>0.93</td>\n",
       "    </tr>\n",
       "  </tbody>\n",
       "</table>\n",
       "</div>"
      ],
      "text/plain": [
       "           Model Sampling  ROC_AUC  Weighted_train_f1  Weighted_test_f1\n",
       "0   RandomForest      RUS     0.76               0.76              0.76\n",
       "1   RandomForest   ADASYN     0.83               0.83              0.83\n",
       "2   RandomForest    SMOTE     0.83               0.83              0.83\n",
       "3        XGBoost      RUS     0.93               0.93              0.93\n",
       "4        XGBoost   ADASYN     0.94               0.94              0.94\n",
       "5        XGBoost    SMOTE     0.93               0.94              0.93\n",
       "6            ADA      RUS     0.76               0.76              0.76\n",
       "7            ADA   ADASYN     0.91               0.91              0.91\n",
       "8            ADA    SMOTE     0.91               0.91              0.91\n",
       "9    ADA_SAMME.R      RUS     0.76               0.77              0.76\n",
       "10   ADA_SAMME.R   ADASYN     0.93               0.93              0.93\n",
       "11   ADA_SAMME.R    SMOTE     0.93               0.93              0.93"
      ]
     },
     "execution_count": 183,
     "metadata": {},
     "output_type": "execute_result"
    }
   ],
   "source": [
    "models_dict = {\n",
    "    'Model': ['RandomForest', 'RandomForest', 'RandomForest', 'XGBoost', 'XGBoost', 'XGBoost', 'ADA', 'ADA', 'ADA', 'ADA_SAMME.R', 'ADA_SAMME.R', 'ADA_SAMME.R'],\n",
    "    'Sampling': ['RUS', 'ADASYN', 'SMOTE', 'RUS', 'ADASYN', 'SMOTE', 'RUS', 'ADASYN', 'SMOTE', 'RUS', 'ADASYN', 'SMOTE'],\n",
    "    'ROC_AUC': [0.76, 0.83, 0.83, 0.93, 0.94, 0.93, 0.76, 0.91, 0.91, 0.76, 0.93, 0.93],\n",
    "    'Weighted_train_f1': [0.76, 0.83, 0.83, 0.93, 0.94, 0.94, 0.76, 0.91, 0.91, 0.77, 0.93, 0.93],\n",
    "    'Weighted_test_f1': [0.76, 0.83, 0.83, 0.93, 0.94, 0.93, 0.76, 0.91, 0.91, 0.76, 0.93, 0.93]\n",
    "}\n",
    "\n",
    "model_df = pd.DataFrame(models_dict)\n",
    "\n",
    "model_df "
   ]
  },
  {
   "cell_type": "code",
   "execution_count": null,
   "id": "a7cbf05e",
   "metadata": {},
   "outputs": [],
   "source": []
  }
 ],
 "metadata": {
  "kernelspec": {
   "display_name": "Python 3 (ipykernel)",
   "language": "python",
   "name": "python3"
  },
  "language_info": {
   "codemirror_mode": {
    "name": "ipython",
    "version": 3
   },
   "file_extension": ".py",
   "mimetype": "text/x-python",
   "name": "python",
   "nbconvert_exporter": "python",
   "pygments_lexer": "ipython3",
   "version": "3.9.7"
  }
 },
 "nbformat": 4,
 "nbformat_minor": 5
}
