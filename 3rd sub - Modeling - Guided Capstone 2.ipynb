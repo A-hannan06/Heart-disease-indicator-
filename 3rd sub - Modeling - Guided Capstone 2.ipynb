{
 "cells": [
  {
   "cell_type": "markdown",
   "id": "a5f9c177",
   "metadata": {},
   "source": [
    "## MODELING"
   ]
  },
  {
   "cell_type": "code",
   "execution_count": 1,
   "id": "6d4c7fe7",
   "metadata": {},
   "outputs": [],
   "source": [
    "# !pip install xgboost\n",
    "# !pip install lightgbm\n"
   ]
  },
  {
   "cell_type": "markdown",
   "id": "818b534d",
   "metadata": {},
   "source": [
    "From the previous notebooks we confirmed that there is skewness in our data that needs our attention. We will generate random sampling methods, the idea is we create two over sampling methods and one under sampling method. Then we create models using those sampling methods, so for each model we can expect three. \n",
    "\n",
    "Throughout this notebook, we can expect a few things to see when a model is built. AUC-ROC score followed by the ROC curve, and then we will make sense of confusion matrix and classification reports for each model. \n",
    "\n",
    "Our clients want us to have a model that tells us how many we correctly identified as having a heart disease. \n",
    "\n",
    "we would like to completely avoid any situations where the patient has heart disease, but our model classifies as him not having it i.e., aim for high recall.\n",
    "\n",
    "Thus, the measure we will use to evaluate our models will be Recall. Recall is the fraction of the total amount of relevant instances that were actually retrieved, in simple terms, what percentage of actual positive predictions were correctly classified by the classifier. \n",
    "\n",
    "First we will import the modules, confirm that there is skewness in our target variable and go on about making sampling methods. \n"
   ]
  },
  {
   "cell_type": "code",
   "execution_count": 2,
   "id": "ee16a6ee",
   "metadata": {},
   "outputs": [],
   "source": [
    "import numpy as np\n",
    "import pandas as pd\n",
    "import matplotlib.pyplot as plt\n",
    "import seaborn as sns\n",
    "from sklearn import __version__ as sklearn_version\n",
    "\n",
    "from sklearn.preprocessing import LabelEncoder\n",
    "from category_encoders import TargetEncoder\n",
    "\n",
    "from sklearn.decomposition import PCA\n",
    "\n",
    "#Standardize a dataset along any axis. Center to the mean and component wise scale to unit variance.\n",
    "from sklearn.preprocessing import scale\n",
    "\n",
    "\n",
    "from sklearn.model_selection import train_test_split, cross_validate, GridSearchCV, learning_curve\n",
    "\n",
    "from sklearn.metrics import accuracy_score\n",
    "\n",
    "from sklearn.preprocessing import StandardScaler, MinMaxScaler\n",
    "\n",
    "from sklearn.metrics import r2_score, mean_squared_error, mean_absolute_error\n",
    "\n",
    "# Construct a Pipeline from the given estimators.\n",
    "from sklearn.pipeline import make_pipeline\n",
    "\n",
    "\n",
    "from sklearn.feature_selection import SelectKBest, f_regression\n",
    "import datetime\n"
   ]
  },
  {
   "cell_type": "code",
   "execution_count": 3,
   "id": "67a40f81",
   "metadata": {},
   "outputs": [],
   "source": [
    "hearts = pd.read_csv(\"C:\\\\Users\\\\hanna\\\\OneDrive\\\\Desktop\\\\All Folders\\\\Data Science\\\\SpringBoard\\\\Capstone 2\\\\Personal Key Indicators of Heart Disease\\\\heart_2020_cleaned.csv\")"
   ]
  },
  {
   "cell_type": "code",
   "execution_count": 4,
   "id": "ec71e137",
   "metadata": {},
   "outputs": [
    {
     "data": {
      "text/plain": [
       "No     0.914405\n",
       "Yes    0.085595\n",
       "Name: HeartDisease, dtype: float64"
      ]
     },
     "execution_count": 4,
     "metadata": {},
     "output_type": "execute_result"
    }
   ],
   "source": [
    "hearts['HeartDisease'].value_counts(normalize = True)"
   ]
  },
  {
   "cell_type": "code",
   "execution_count": 5,
   "id": "5d4f0dca",
   "metadata": {},
   "outputs": [],
   "source": [
    "X_train = pd.read_csv(\"C:\\\\Users\\\\hanna\\\\OneDrive\\\\Desktop\\\\All Folders\\\\Data Science\\\\SpringBoard\\\\Guided Capstone 2\\\\worked on excels\\\\X_train.csv\")\n",
    "X_test = pd.read_csv(\"C:\\\\Users\\\\hanna\\\\OneDrive\\\\Desktop\\\\All Folders\\\\Data Science\\\\SpringBoard\\\\Guided Capstone 2\\\\worked on excels\\\\X_test.csv\")\n",
    "y_train = pd.read_csv(\"C:\\\\Users\\\\hanna\\\\OneDrive\\\\Desktop\\\\All Folders\\\\Data Science\\\\SpringBoard\\\\Guided Capstone 2\\\\worked on excels\\\\y_train.csv\")\n",
    "y_test = pd.read_csv(\"C:\\\\Users\\\\hanna\\\\OneDrive\\\\Desktop\\\\All Folders\\\\Data Science\\\\SpringBoard\\\\Guided Capstone 2\\\\worked on excels\\\\y_test.csv\")\n"
   ]
  },
  {
   "cell_type": "code",
   "execution_count": 6,
   "id": "817338bd",
   "metadata": {},
   "outputs": [
    {
     "name": "stdout",
     "output_type": "stream",
     "text": [
      "\n",
      "\n",
      "X_train: <class 'pandas.core.frame.DataFrame'> (239846, 50)\n",
      "\n",
      "\n",
      "X_test <class 'pandas.core.frame.DataFrame'> (79949, 50)\n",
      "\n",
      "\n",
      "y_train <class 'pandas.core.frame.DataFrame'> (239846, 1)\n",
      "\n",
      "\n",
      "y_test <class 'pandas.core.frame.DataFrame'> (79949, 1)\n"
     ]
    }
   ],
   "source": [
    "print(\"\\n\")\n",
    "print(\"X_train:\", type(X_train), X_train.shape) \n",
    "\n",
    "# AJS:\n",
    "print(\"\\n\")\n",
    "print(\"X_test\", type(X_test), X_test.shape) \n",
    "\n",
    "print(\"\\n\")\n",
    "print(\"y_train\", type(y_train), y_train.shape) \n",
    "\n",
    "print(\"\\n\")\n",
    "print(\"y_test\", type(y_test), y_test.shape) \n"
   ]
  },
  {
   "cell_type": "markdown",
   "id": "032622bf",
   "metadata": {},
   "source": [
    "We need to convert y_train & y_test into series instead of a DataFrame."
   ]
  },
  {
   "cell_type": "code",
   "execution_count": 7,
   "id": "dfb182b0",
   "metadata": {},
   "outputs": [],
   "source": [
    "y_train = y_train.squeeze()\n",
    "y_test = y_test.squeeze()"
   ]
  },
  {
   "cell_type": "code",
   "execution_count": 8,
   "id": "44393892",
   "metadata": {},
   "outputs": [
    {
     "name": "stdout",
     "output_type": "stream",
     "text": [
      "\n",
      "\n",
      "y_train <class 'pandas.core.series.Series'> (239846,) 239846\n",
      "\n",
      "\n",
      "y_test <class 'pandas.core.series.Series'> (79949,) 79949\n"
     ]
    }
   ],
   "source": [
    "print(\"\\n\")\n",
    "print(\"y_train\", type(y_train), y_train.shape, len(y_train)) \n",
    "\n",
    "print(\"\\n\")\n",
    "print(\"y_test\", type(y_test), y_test.shape, len(y_test)) "
   ]
  },
  {
   "cell_type": "code",
   "execution_count": 9,
   "id": "e21990b5",
   "metadata": {},
   "outputs": [
    {
     "data": {
      "text/plain": [
       "(0    0.914403\n",
       " 1    0.085597\n",
       " Name: HeartDisease, dtype: float64,\n",
       " 0    0.914408\n",
       " 1    0.085592\n",
       " Name: HeartDisease, dtype: float64)"
      ]
     },
     "execution_count": 9,
     "metadata": {},
     "output_type": "execute_result"
    }
   ],
   "source": [
    "y_train.value_counts(normalize = True), y_test.value_counts(normalize = True)"
   ]
  },
  {
   "cell_type": "markdown",
   "id": "fdedba84",
   "metadata": {},
   "source": [
    "Our y_train and y_test set are as skewed as our target varible. "
   ]
  },
  {
   "cell_type": "markdown",
   "id": "e54df74d",
   "metadata": {},
   "source": [
    "What we want to do is take the skewness off, build models using the data with no skewness and then test those models again on the skewed data. Such a problem that there is no skewness is very unlikely in the real data, hence why we want to preserve our test set, so we can apply our models to a real world like set."
   ]
  },
  {
   "cell_type": "markdown",
   "id": "b16bea1f",
   "metadata": {},
   "source": [
    "### Over Sampling"
   ]
  },
  {
   "cell_type": "markdown",
   "id": "e5e62023",
   "metadata": {},
   "source": [
    "#### Smote on training set"
   ]
  },
  {
   "cell_type": "code",
   "execution_count": 10,
   "id": "978391c3",
   "metadata": {},
   "outputs": [],
   "source": [
    "from imblearn.over_sampling import SMOTE\n",
    "\n",
    "smote = SMOTE(random_state = 10)\n",
    "X_smote, y_smote = smote.fit_resample(X_train, y_train)\n"
   ]
  },
  {
   "cell_type": "code",
   "execution_count": 11,
   "id": "185f5cd1",
   "metadata": {},
   "outputs": [
    {
     "data": {
      "text/plain": [
       "((438632, 50), (438632,))"
      ]
     },
     "execution_count": 11,
     "metadata": {},
     "output_type": "execute_result"
    }
   ],
   "source": [
    "X_smote.shape, y_smote.shape\n"
   ]
  },
  {
   "cell_type": "code",
   "execution_count": 12,
   "id": "412831d5",
   "metadata": {},
   "outputs": [
    {
     "data": {
      "text/plain": [
       "0    0.5\n",
       "1    0.5\n",
       "Name: HeartDisease, dtype: float64"
      ]
     },
     "execution_count": 12,
     "metadata": {},
     "output_type": "execute_result"
    }
   ],
   "source": [
    "y_smote.value_counts(normalize = True)"
   ]
  },
  {
   "cell_type": "markdown",
   "id": "952cff57",
   "metadata": {},
   "source": [
    "#### ADASYN"
   ]
  },
  {
   "cell_type": "code",
   "execution_count": 13,
   "id": "de50e05d",
   "metadata": {},
   "outputs": [],
   "source": [
    "from imblearn.over_sampling import ADASYN\n",
    "\n",
    "X_adasyn, y_adasyn = ADASYN().fit_resample(X_train, y_train)"
   ]
  },
  {
   "cell_type": "code",
   "execution_count": 14,
   "id": "878fea95",
   "metadata": {},
   "outputs": [
    {
     "data": {
      "text/plain": [
       "((441820, 50), (441820,))"
      ]
     },
     "execution_count": 14,
     "metadata": {},
     "output_type": "execute_result"
    }
   ],
   "source": [
    "X_adasyn.shape, y_adasyn.shape"
   ]
  },
  {
   "cell_type": "code",
   "execution_count": 15,
   "id": "cf1ca8c5",
   "metadata": {},
   "outputs": [
    {
     "data": {
      "text/plain": [
       "1    0.503608\n",
       "0    0.496392\n",
       "Name: HeartDisease, dtype: float64"
      ]
     },
     "execution_count": 15,
     "metadata": {},
     "output_type": "execute_result"
    }
   ],
   "source": [
    "y_adasyn.value_counts(normalize = True)"
   ]
  },
  {
   "cell_type": "code",
   "execution_count": 16,
   "id": "65328d4e",
   "metadata": {},
   "outputs": [],
   "source": [
    "# X_train_adasyn, X_test_adasyn, y_train_adasyn, y_test_adasyn = train_test_split(X_adasyn, y_adasyn, random_state=5)"
   ]
  },
  {
   "cell_type": "code",
   "execution_count": 17,
   "id": "93653983",
   "metadata": {},
   "outputs": [],
   "source": [
    "# X_train_adasyn.shape, y_train_adasyn.shape, X_test_adasyn.shape, y_test_adasyn.shape"
   ]
  },
  {
   "cell_type": "markdown",
   "id": "195083e4",
   "metadata": {},
   "source": [
    "### Under Sampling"
   ]
  },
  {
   "cell_type": "markdown",
   "id": "f48d0ec4",
   "metadata": {},
   "source": [
    "#### Random Under Sampler"
   ]
  },
  {
   "cell_type": "code",
   "execution_count": 18,
   "id": "80f01b25",
   "metadata": {
    "scrolled": true
   },
   "outputs": [
    {
     "data": {
      "text/plain": [
       "((41060, 50), (41060,))"
      ]
     },
     "execution_count": 18,
     "metadata": {},
     "output_type": "execute_result"
    }
   ],
   "source": [
    "from imblearn.under_sampling import RandomUnderSampler\n",
    "\n",
    "rus = RandomUnderSampler()\n",
    "X_rus, y_rus, = rus.fit_resample(X_train, y_train)\n",
    "\n",
    "X_rus.shape, y_rus.shape"
   ]
  },
  {
   "cell_type": "code",
   "execution_count": 19,
   "id": "d8880061",
   "metadata": {},
   "outputs": [
    {
     "data": {
      "text/plain": [
       "0    0.5\n",
       "1    0.5\n",
       "Name: HeartDisease, dtype: float64"
      ]
     },
     "execution_count": 19,
     "metadata": {},
     "output_type": "execute_result"
    }
   ],
   "source": [
    "y_rus.value_counts(normalize = True)"
   ]
  },
  {
   "cell_type": "markdown",
   "id": "e3badc86",
   "metadata": {},
   "source": [
    "After applying sampling method, The skewness is off and the count has been even to a 50/50 rather than a 92/8."
   ]
  },
  {
   "cell_type": "markdown",
   "id": "48f76ad0",
   "metadata": {},
   "source": [
    "Our first model will be Random Forest, we will search for the best parameters using RandomizedSearchCV and then use those parameters to generate a model "
   ]
  },
  {
   "cell_type": "markdown",
   "id": "d1ecb49b",
   "metadata": {},
   "source": [
    "### Random Forest"
   ]
  },
  {
   "cell_type": "code",
   "execution_count": 22,
   "id": "b9b602f3",
   "metadata": {},
   "outputs": [],
   "source": [
    "from sklearn.model_selection import RandomizedSearchCV\n",
    "from sklearn.ensemble import RandomForestClassifier"
   ]
  },
  {
   "cell_type": "code",
   "execution_count": 23,
   "id": "1723d20c",
   "metadata": {},
   "outputs": [],
   "source": [
    "rf = RandomForestClassifier()"
   ]
  },
  {
   "cell_type": "code",
   "execution_count": 24,
   "id": "30d32b7b",
   "metadata": {},
   "outputs": [],
   "source": [
    "rf_param_grid = {\n",
    "                 'max_depth' : [4, 6, 8,10],\n",
    "                 'n_estimators': range(1,10),\n",
    "                 'max_features': ['sqrt', 'auto', 'log2'],\n",
    "                 'min_samples_split': [2, 3, 10,20],\n",
    "                 'min_samples_leaf': [1, 3, 10,18],\n",
    "                 'bootstrap': [True, False],\n",
    "                 \n",
    "                 }"
   ]
  },
  {
   "cell_type": "code",
   "execution_count": 25,
   "id": "e575a73f",
   "metadata": {},
   "outputs": [],
   "source": [
    "m_r = RandomizedSearchCV(param_distributions = rf_param_grid, \n",
    "                                    estimator = rf, scoring = \"f1\", \n",
    "                                    verbose = 0, n_iter = 100, cv = 5)"
   ]
  },
  {
   "cell_type": "markdown",
   "id": "9789ec9e",
   "metadata": {},
   "source": [
    "##### Random Forest - RUS"
   ]
  },
  {
   "cell_type": "code",
   "execution_count": 26,
   "id": "e005488f",
   "metadata": {},
   "outputs": [
    {
     "name": "stdout",
     "output_type": "stream",
     "text": [
      "Wall time: 59.1 s\n"
     ]
    },
    {
     "data": {
      "text/plain": [
       "RandomizedSearchCV(cv=5, estimator=RandomForestClassifier(), n_iter=100,\n",
       "                   param_distributions={'bootstrap': [True, False],\n",
       "                                        'max_depth': [4, 6, 8, 10],\n",
       "                                        'max_features': ['sqrt', 'auto',\n",
       "                                                         'log2'],\n",
       "                                        'min_samples_leaf': [1, 3, 10, 18],\n",
       "                                        'min_samples_split': [2, 3, 10, 20],\n",
       "                                        'n_estimators': range(1, 10)},\n",
       "                   scoring='f1')"
      ]
     },
     "execution_count": 26,
     "metadata": {},
     "output_type": "execute_result"
    }
   ],
   "source": [
    "%time m_r.fit(X_rus, y_rus)"
   ]
  },
  {
   "cell_type": "code",
   "execution_count": 27,
   "id": "16a3b71a",
   "metadata": {},
   "outputs": [
    {
     "data": {
      "text/plain": [
       "0.7511467170234879"
      ]
     },
     "execution_count": 27,
     "metadata": {},
     "output_type": "execute_result"
    }
   ],
   "source": [
    "m_r.best_score_"
   ]
  },
  {
   "cell_type": "code",
   "execution_count": 28,
   "id": "e5d9f20b",
   "metadata": {},
   "outputs": [
    {
     "data": {
      "text/plain": [
       "{'n_estimators': 8,\n",
       " 'min_samples_split': 3,\n",
       " 'min_samples_leaf': 18,\n",
       " 'max_features': 'sqrt',\n",
       " 'max_depth': 10,\n",
       " 'bootstrap': False}"
      ]
     },
     "execution_count": 28,
     "metadata": {},
     "output_type": "execute_result"
    }
   ],
   "source": [
    "m_r.best_params_"
   ]
  },
  {
   "cell_type": "code",
   "execution_count": 29,
   "id": "f7bbf371",
   "metadata": {},
   "outputs": [],
   "source": [
    "rf_bp = m_r.best_params_"
   ]
  },
  {
   "cell_type": "code",
   "execution_count": 30,
   "id": "3ae363e5",
   "metadata": {},
   "outputs": [],
   "source": [
    "rf_classifier = RandomForestClassifier(n_estimators = rf_bp[\"n_estimators\"],\n",
    "                                     min_samples_split = rf_bp['min_samples_split'],\n",
    "                                     min_samples_leaf = rf_bp['min_samples_leaf'],\n",
    "                                     max_features = rf_bp['max_features'],\n",
    "                                     max_depth = rf_bp['max_depth'],\n",
    "                                     bootstrap = rf_bp['bootstrap'])"
   ]
  },
  {
   "cell_type": "code",
   "execution_count": 31,
   "id": "fed11d0f",
   "metadata": {},
   "outputs": [
    {
     "data": {
      "text/plain": [
       "RandomForestClassifier(bootstrap=False, max_depth=10, max_features='sqrt',\n",
       "                       min_samples_leaf=18, min_samples_split=3,\n",
       "                       n_estimators=8)"
      ]
     },
     "execution_count": 31,
     "metadata": {},
     "output_type": "execute_result"
    }
   ],
   "source": [
    "rf_classifier.fit(X_rus, y_rus)"
   ]
  },
  {
   "cell_type": "code",
   "execution_count": 32,
   "id": "60ba6703",
   "metadata": {},
   "outputs": [
    {
     "name": "stdout",
     "output_type": "stream",
     "text": [
      "0.7543559018874533\n"
     ]
    }
   ],
   "source": [
    "y_test_pred_rf_rus = rf_classifier.predict(X_test)\n",
    "print(accuracy_score(y_test_pred_rf_rus, y_test))"
   ]
  },
  {
   "cell_type": "code",
   "execution_count": 130,
   "id": "90297473",
   "metadata": {},
   "outputs": [
    {
     "name": "stdout",
     "output_type": "stream",
     "text": [
      "\n",
      " AUC-ROC: 0.7474643876188357\n"
     ]
    },
    {
     "data": {
      "text/plain": [
       "Text(0.5, 0, 'False Positive Rate')"
      ]
     },
     "execution_count": 130,
     "metadata": {},
     "output_type": "execute_result"
    },
    {
     "data": {
      "image/png": "[encoded data removed]",
      "text/plain": [
       "<Figure size 720x720 with 1 Axes>"
      ]
     },
     "metadata": {
      "needs_background": "light"
     },
     "output_type": "display_data"
    }
   ],
   "source": [
    "from sklearn import metrics\n",
    "print(\"\\n AUC-ROC:\", metrics.roc_auc_score(y_test, y_test_pred_rf_rus))\n",
    "\n",
    "from sklearn.metrics import roc_curve, auc\n",
    "false_positive_rate, true_positive_rate, thresholds = roc_curve(y_test, y_test_pred_rf_rus)\n",
    "roc_auc = auc(false_positive_rate, true_positive_rate)\n",
    "\n",
    "\n",
    "import matplotlib.pyplot as plt\n",
    "plt.figure(figsize=(10,10))\n",
    "plt.title('Receiver Operating Characteristic')\n",
    "plt.plot(false_positive_rate,true_positive_rate, color='red',label = 'AUC = %0.2f' % roc_auc)\n",
    "plt.legend(loc = 'lower right')\n",
    "plt.plot([0, 1], [0, 1],linestyle='--')\n",
    "plt.axis('tight')\n",
    "plt.ylabel('True Positive Rate')\n",
    "plt.xlabel('False Positive Rate')"
   ]
  },
  {
   "cell_type": "markdown",
   "id": "c7f16bd4",
   "metadata": {},
   "source": [
    "The area under the curve is 0.76, which is significantly better than 0.55 which was generate from a basic logistic regression model."
   ]
  },
  {
   "cell_type": "code",
   "execution_count": 35,
   "id": "78a6aae2",
   "metadata": {},
   "outputs": [
    {
     "data": {
      "image/png": "[encoded data removed]",
      "text/plain": [
       "<Figure size 360x360 with 2 Axes>"
      ]
     },
     "metadata": {
      "needs_background": "light"
     },
     "output_type": "display_data"
    }
   ],
   "source": [
    "from sklearn.metrics import confusion_matrix\n",
    "cm = confusion_matrix(y_test, y_test_pred_rf_rus)\n",
    "\n",
    "f, ax=plt.subplots(figsize=(5,5))\n",
    "sns.heatmap(cm, annot = True, linewidths = 0.5, linecolor = \"red\", fmt = \".0f\",ax = ax)\n",
    "plt.xlabel(\"y_pred\")\n",
    "plt.ylabel(\"y_true\")\n",
    "plt.show()"
   ]
  },
  {
   "cell_type": "markdown",
   "id": "3dbc88b4",
   "metadata": {},
   "source": [
    "This classification matrix is a good start, however if we dive into classification report, it will be much more helpful."
   ]
  },
  {
   "cell_type": "markdown",
   "id": "5f6d0a46",
   "metadata": {},
   "source": [
    "- Precision is a measure of how many of the positive predictions made are correct (true positives)\n",
    "- Recall: over all the positive cases in the data, how many of the positive cases the classifier correctly predicted.\n",
    "- F1-Score is a measure combining both precision and recall."
   ]
  },
  {
   "cell_type": "code",
   "execution_count": 36,
   "id": "b9d1aad5",
   "metadata": {},
   "outputs": [
    {
     "name": "stdout",
     "output_type": "stream",
     "text": [
      "[Training Classification Report]\n",
      "              precision    recall  f1-score   support\n",
      "\n",
      "           0       0.75      0.76      0.76     20530\n",
      "           1       0.76      0.75      0.75     20530\n",
      "\n",
      "    accuracy                           0.75     41060\n",
      "   macro avg       0.75      0.75      0.75     41060\n",
      "weighted avg       0.75      0.75      0.75     41060\n",
      "\n",
      "[Test Classification Report]\n",
      "              precision    recall  f1-score   support\n",
      "\n",
      "           0       0.97      0.76      0.85     73106\n",
      "           1       0.22      0.74      0.34      6843\n",
      "\n",
      "    accuracy                           0.75     79949\n",
      "   macro avg       0.59      0.75      0.59     79949\n",
      "weighted avg       0.90      0.75      0.81     79949\n",
      "\n"
     ]
    }
   ],
   "source": [
    "from sklearn.metrics import classification_report\n",
    "# ref: http://scikit-learn.org/stable/modules/generated/sklearn.metrics.classification_report.html#sklearn.metrics.classification_report\n",
    "\n",
    "y_train_pred_rf_rus = rf_classifier.predict(X_rus)\n",
    "\n",
    "print(\"[Training Classification Report]\")\n",
    "print(classification_report(y_rus, y_train_pred_rf_rus))\n",
    "\n",
    "print(\"[Test Classification Report]\")\n",
    "print(classification_report(y_test, y_test_pred_rf_rus))"
   ]
  },
  {
   "cell_type": "markdown",
   "id": "2a100a86",
   "metadata": {},
   "source": [
    "This classification matrix tells us that we will be 74% (0.74 recall for 1) correct in identifying the relevant target variable which is 1."
   ]
  },
  {
   "cell_type": "markdown",
   "id": "f1627da3",
   "metadata": {},
   "source": [
    "##### Random Forest - ADASYN"
   ]
  },
  {
   "cell_type": "code",
   "execution_count": 37,
   "id": "2c97cc0d",
   "metadata": {},
   "outputs": [
    {
     "name": "stdout",
     "output_type": "stream",
     "text": [
      "Wall time: 14min 13s\n"
     ]
    },
    {
     "data": {
      "text/plain": [
       "RandomizedSearchCV(cv=5, estimator=RandomForestClassifier(), n_iter=100,\n",
       "                   param_distributions={'bootstrap': [True, False],\n",
       "                                        'max_depth': [4, 6, 8, 10],\n",
       "                                        'max_features': ['sqrt', 'auto',\n",
       "                                                         'log2'],\n",
       "                                        'min_samples_leaf': [1, 3, 10, 18],\n",
       "                                        'min_samples_split': [2, 3, 10, 20],\n",
       "                                        'n_estimators': range(1, 10)},\n",
       "                   scoring='f1')"
      ]
     },
     "execution_count": 37,
     "metadata": {},
     "output_type": "execute_result"
    }
   ],
   "source": [
    "%time m_r.fit(X_adasyn, y_adasyn)"
   ]
  },
  {
   "cell_type": "code",
   "execution_count": 38,
   "id": "3dcab613",
   "metadata": {},
   "outputs": [
    {
     "data": {
      "text/plain": [
       "0.8310829664355092"
      ]
     },
     "execution_count": 38,
     "metadata": {},
     "output_type": "execute_result"
    }
   ],
   "source": [
    "m_r.best_score_"
   ]
  },
  {
   "cell_type": "code",
   "execution_count": 39,
   "id": "909ce5f2",
   "metadata": {},
   "outputs": [
    {
     "data": {
      "text/plain": [
       "{'n_estimators': 7,\n",
       " 'min_samples_split': 10,\n",
       " 'min_samples_leaf': 3,\n",
       " 'max_features': 'sqrt',\n",
       " 'max_depth': 10,\n",
       " 'bootstrap': True}"
      ]
     },
     "execution_count": 39,
     "metadata": {},
     "output_type": "execute_result"
    }
   ],
   "source": [
    "m_r.best_params_"
   ]
  },
  {
   "cell_type": "code",
   "execution_count": 40,
   "id": "e8c93e78",
   "metadata": {},
   "outputs": [],
   "source": [
    "rf_bp = m_r.best_params_"
   ]
  },
  {
   "cell_type": "code",
   "execution_count": 41,
   "id": "24a3b9e9",
   "metadata": {},
   "outputs": [],
   "source": [
    "rf_classifier = RandomForestClassifier(n_estimators = rf_bp[\"n_estimators\"],\n",
    "                                     min_samples_split = rf_bp['min_samples_split'],\n",
    "                                     min_samples_leaf = rf_bp['min_samples_leaf'],\n",
    "                                     max_features = rf_bp['max_features'],\n",
    "                                     max_depth = rf_bp['max_depth'],\n",
    "                                     bootstrap = rf_bp['bootstrap'])"
   ]
  },
  {
   "cell_type": "code",
   "execution_count": 42,
   "id": "d29c5277",
   "metadata": {},
   "outputs": [
    {
     "data": {
      "text/plain": [
       "RandomForestClassifier(max_depth=10, max_features='sqrt', min_samples_leaf=3,\n",
       "                       min_samples_split=10, n_estimators=7)"
      ]
     },
     "execution_count": 42,
     "metadata": {},
     "output_type": "execute_result"
    }
   ],
   "source": [
    "rf_classifier.fit(X_adasyn, y_adasyn)"
   ]
  },
  {
   "cell_type": "code",
   "execution_count": 43,
   "id": "0d61ad94",
   "metadata": {},
   "outputs": [
    {
     "name": "stdout",
     "output_type": "stream",
     "text": [
      "0.8137062377265507\n"
     ]
    }
   ],
   "source": [
    "y_test_pred_rf_adasyn = rf_classifier.predict(X_test)\n",
    "print(accuracy_score(y_test_pred_rf_adasyn, y_test))"
   ]
  },
  {
   "cell_type": "code",
   "execution_count": 131,
   "id": "ceb233fb",
   "metadata": {},
   "outputs": [
    {
     "name": "stdout",
     "output_type": "stream",
     "text": [
      "\n",
      " AUC-ROC: 0.717199363221475\n"
     ]
    },
    {
     "data": {
      "text/plain": [
       "Text(0.5, 0, 'False Positive Rate')"
      ]
     },
     "execution_count": 131,
     "metadata": {},
     "output_type": "execute_result"
    },
    {
     "data": {
      "image/png": "[encoded data removed]",
      "text/plain": [
       "<Figure size 720x720 with 1 Axes>"
      ]
     },
     "metadata": {
      "needs_background": "light"
     },
     "output_type": "display_data"
    }
   ],
   "source": [
    "from sklearn import metrics\n",
    "print(\"\\n AUC-ROC:\", metrics.roc_auc_score(y_test, y_test_pred_rf_adasyn))\n",
    "\n",
    "\n",
    "from sklearn.metrics import roc_curve, auc\n",
    "false_positive_rate, true_positive_rate, thresholds = roc_curve(y_test, y_test_pred_rf_adasyn)\n",
    "roc_auc = auc(false_positive_rate, true_positive_rate)\n",
    "\n",
    "plt.figure(figsize=(10,10))\n",
    "plt.title('Receiver Operating Characteristic')\n",
    "plt.plot(false_positive_rate,true_positive_rate, color='red',label = 'AUC = %0.2f' % roc_auc)\n",
    "plt.legend(loc = 'lower right')\n",
    "plt.plot([0, 1], [0, 1],linestyle='--')\n",
    "plt.axis('tight')\n",
    "plt.ylabel('True Positive Rate')\n",
    "plt.xlabel('False Positive Rate')"
   ]
  },
  {
   "cell_type": "code",
   "execution_count": 46,
   "id": "a4410ae3",
   "metadata": {},
   "outputs": [
    {
     "data": {
      "image/png": "[encoded data removed]",
      "text/plain": [
       "<Figure size 360x360 with 2 Axes>"
      ]
     },
     "metadata": {
      "needs_background": "light"
     },
     "output_type": "display_data"
    }
   ],
   "source": [
    "from sklearn.metrics import confusion_matrix\n",
    "cm = confusion_matrix(y_test, y_test_pred_rf_adasyn)\n",
    "\n",
    "f, ax=plt.subplots(figsize=(5,5))\n",
    "sns.heatmap(cm, annot = True, linewidths = 0.5, linecolor = \"red\", fmt = \".0f\",ax = ax)\n",
    "plt.xlabel(\"y_pred\")\n",
    "plt.ylabel(\"y_true\")\n",
    "plt.show()"
   ]
  },
  {
   "cell_type": "code",
   "execution_count": 47,
   "id": "139e364b",
   "metadata": {},
   "outputs": [
    {
     "name": "stdout",
     "output_type": "stream",
     "text": [
      "[Training Classification Report]\n",
      "              precision    recall  f1-score   support\n",
      "\n",
      "           0       0.84      0.84      0.84    219316\n",
      "           1       0.84      0.84      0.84    222504\n",
      "\n",
      "    accuracy                           0.84    441820\n",
      "   macro avg       0.84      0.84      0.84    441820\n",
      "weighted avg       0.84      0.84      0.84    441820\n",
      "\n",
      "[Test Classification Report]\n",
      "              precision    recall  f1-score   support\n",
      "\n",
      "           0       0.96      0.83      0.89     73106\n",
      "           1       0.25      0.60      0.36      6843\n",
      "\n",
      "    accuracy                           0.81     79949\n",
      "   macro avg       0.60      0.72      0.62     79949\n",
      "weighted avg       0.90      0.81      0.85     79949\n",
      "\n"
     ]
    }
   ],
   "source": [
    "from sklearn.metrics import classification_report\n",
    "# ref: http://scikit-learn.org/stable/modules/generated/sklearn.metrics.classification_report.html#sklearn.metrics.classification_report\n",
    "\n",
    "y_train_pred_rf_adasyn = rf_classifier.predict(X_adasyn)\n",
    "\n",
    "print(\"[Training Classification Report]\")\n",
    "print(classification_report(y_adasyn, y_train_pred_rf_adasyn))\n",
    "\n",
    "print(\"[Test Classification Report]\")\n",
    "print(classification_report(y_test, y_test_pred_rf_adasyn))"
   ]
  },
  {
   "cell_type": "markdown",
   "id": "81b5bad3",
   "metadata": {},
   "source": [
    "Our target variable recall for class 1 has decreased from 0.74 to 0.60, in that way our under sampling model did better than over sampling, let us see if that stays the same with smote."
   ]
  },
  {
   "cell_type": "markdown",
   "id": "2c8e526a",
   "metadata": {},
   "source": [
    "##### Random Forest - SMOTE"
   ]
  },
  {
   "cell_type": "code",
   "execution_count": 48,
   "id": "a3fc0bf8",
   "metadata": {},
   "outputs": [
    {
     "name": "stdout",
     "output_type": "stream",
     "text": [
      "Wall time: 13min 46s\n"
     ]
    },
    {
     "data": {
      "text/plain": [
       "RandomizedSearchCV(cv=5, estimator=RandomForestClassifier(), n_iter=100,\n",
       "                   param_distributions={'bootstrap': [True, False],\n",
       "                                        'max_depth': [4, 6, 8, 10],\n",
       "                                        'max_features': ['sqrt', 'auto',\n",
       "                                                         'log2'],\n",
       "                                        'min_samples_leaf': [1, 3, 10, 18],\n",
       "                                        'min_samples_split': [2, 3, 10, 20],\n",
       "                                        'n_estimators': range(1, 10)},\n",
       "                   scoring='f1')"
      ]
     },
     "execution_count": 48,
     "metadata": {},
     "output_type": "execute_result"
    }
   ],
   "source": [
    "%time m_r.fit(X_smote, y_smote)"
   ]
  },
  {
   "cell_type": "code",
   "execution_count": 49,
   "id": "f04f1276",
   "metadata": {},
   "outputs": [
    {
     "data": {
      "text/plain": [
       "0.8337263220450991"
      ]
     },
     "execution_count": 49,
     "metadata": {},
     "output_type": "execute_result"
    }
   ],
   "source": [
    "m_r.best_score_"
   ]
  },
  {
   "cell_type": "code",
   "execution_count": 50,
   "id": "acab0eac",
   "metadata": {},
   "outputs": [
    {
     "data": {
      "text/plain": [
       "{'n_estimators': 9,\n",
       " 'min_samples_split': 3,\n",
       " 'min_samples_leaf': 3,\n",
       " 'max_features': 'auto',\n",
       " 'max_depth': 10,\n",
       " 'bootstrap': True}"
      ]
     },
     "execution_count": 50,
     "metadata": {},
     "output_type": "execute_result"
    }
   ],
   "source": [
    "m_r.best_params_"
   ]
  },
  {
   "cell_type": "code",
   "execution_count": 51,
   "id": "2e4d90a9",
   "metadata": {},
   "outputs": [],
   "source": [
    "rf_bp = m_r.best_params_"
   ]
  },
  {
   "cell_type": "code",
   "execution_count": 52,
   "id": "af692938",
   "metadata": {},
   "outputs": [],
   "source": [
    "rf_classifier = RandomForestClassifier(n_estimators = rf_bp[\"n_estimators\"],\n",
    "                                     min_samples_split = rf_bp['min_samples_split'],\n",
    "                                     min_samples_leaf = rf_bp['min_samples_leaf'],\n",
    "                                     max_features = rf_bp['max_features'],\n",
    "                                     max_depth = rf_bp['max_depth'],\n",
    "                                     bootstrap = rf_bp['bootstrap'])"
   ]
  },
  {
   "cell_type": "code",
   "execution_count": 53,
   "id": "6c9f2c2f",
   "metadata": {},
   "outputs": [
    {
     "data": {
      "text/plain": [
       "RandomForestClassifier(max_depth=10, min_samples_leaf=3, min_samples_split=3,\n",
       "                       n_estimators=9)"
      ]
     },
     "execution_count": 53,
     "metadata": {},
     "output_type": "execute_result"
    }
   ],
   "source": [
    "rf_classifier.fit(X_smote, y_smote)"
   ]
  },
  {
   "cell_type": "code",
   "execution_count": 54,
   "id": "8f2262f4",
   "metadata": {},
   "outputs": [
    {
     "name": "stdout",
     "output_type": "stream",
     "text": [
      "0.8219865164042077\n"
     ]
    }
   ],
   "source": [
    "y_test_pred_rf_smote = rf_classifier.predict(X_test)\n",
    "print(accuracy_score(y_test_pred_rf_smote, y_test))"
   ]
  },
  {
   "cell_type": "code",
   "execution_count": 55,
   "id": "7e5719aa",
   "metadata": {},
   "outputs": [
    {
     "name": "stdout",
     "output_type": "stream",
     "text": [
      "\n",
      " AUC-ROC: 0.7151704649324628\n"
     ]
    },
    {
     "data": {
      "text/plain": [
       "Text(0.5, 0, 'False Positive Rate')"
      ]
     },
     "execution_count": 55,
     "metadata": {},
     "output_type": "execute_result"
    },
    {
     "data": {
      "image/png": "[encoded data removed]",
      "text/plain": [
       "<Figure size 720x720 with 1 Axes>"
      ]
     },
     "metadata": {
      "needs_background": "light"
     },
     "output_type": "display_data"
    }
   ],
   "source": [
    "from sklearn import metrics\n",
    "print(\"\\n AUC-ROC:\", metrics.roc_auc_score(y_test, y_test_pred_rf_smote))\n",
    "\n",
    "from sklearn.metrics import roc_curve, auc\n",
    "false_positive_rate, true_positive_rate, thresholds = roc_curve(y_test, y_test_pred_rf_smote)\n",
    "roc_auc = auc(false_positive_rate, true_positive_rate)\n",
    "\n",
    "plt.figure(figsize=(10,10))\n",
    "plt.title('Receiver Operating Characteristic')\n",
    "plt.plot(false_positive_rate,true_positive_rate, color='red',label = 'AUC = %0.2f' % roc_auc)\n",
    "plt.legend(loc = 'lower right')\n",
    "plt.plot([0, 1], [0, 1],linestyle='--')\n",
    "plt.axis('tight')\n",
    "plt.ylabel('True Positive Rate')\n",
    "plt.xlabel('False Positive Rate')\n"
   ]
  },
  {
   "cell_type": "code",
   "execution_count": 56,
   "id": "7694dccb",
   "metadata": {},
   "outputs": [
    {
     "data": {
      "image/png": "[encoded data removed]",
      "text/plain": [
       "<Figure size 360x360 with 2 Axes>"
      ]
     },
     "metadata": {
      "needs_background": "light"
     },
     "output_type": "display_data"
    }
   ],
   "source": [
    "from sklearn.metrics import confusion_matrix\n",
    "cm = confusion_matrix(y_test, y_test_pred_rf_smote)\n",
    "\n",
    "f, ax = plt.subplots(figsize=(5,5))\n",
    "sns.heatmap(cm, annot = True, linewidths = 0.5, linecolor = \"red\", fmt = \".0f\",ax = ax)\n",
    "plt.xlabel(\"y_pred\")\n",
    "plt.ylabel(\"y_true\")\n",
    "plt.show()"
   ]
  },
  {
   "cell_type": "code",
   "execution_count": 57,
   "id": "74866c2f",
   "metadata": {},
   "outputs": [
    {
     "name": "stdout",
     "output_type": "stream",
     "text": [
      "[Training Classification Report]\n",
      "              precision    recall  f1-score   support\n",
      "\n",
      "           0       0.82      0.84      0.83    219316\n",
      "           1       0.84      0.82      0.83    219316\n",
      "\n",
      "    accuracy                           0.83    438632\n",
      "   macro avg       0.83      0.83      0.83    438632\n",
      "weighted avg       0.83      0.83      0.83    438632\n",
      "\n",
      "[Test Classification Report]\n",
      "              precision    recall  f1-score   support\n",
      "\n",
      "           0       0.96      0.84      0.90     73106\n",
      "           1       0.26      0.59      0.36      6843\n",
      "\n",
      "    accuracy                           0.82     79949\n",
      "   macro avg       0.61      0.72      0.63     79949\n",
      "weighted avg       0.90      0.82      0.85     79949\n",
      "\n"
     ]
    }
   ],
   "source": [
    "from sklearn.metrics import classification_report\n",
    "# ref: http://scikit-learn.org/stable/modules/generated/sklearn.metrics.classification_report.html#sklearn.metrics.classification_report\n",
    "\n",
    "y_train_pred_rf_smote = rf_classifier.predict(X_smote)\n",
    "\n",
    "print(\"[Training Classification Report]\")\n",
    "print(classification_report(y_smote, y_train_pred_rf_smote))\n",
    "\n",
    "print(\"[Test Classification Report]\")\n",
    "print(classification_report(y_test, y_test_pred_rf_smote))"
   ]
  },
  {
   "cell_type": "markdown",
   "id": "70b000fa",
   "metadata": {},
   "source": [
    "The Adasyn & Smote over sampling method are doing worse than RUS (Random Under Sampler) method for RF. The Roc_Auc more or less the same for all three, but the recall measure for our target variable class is 0.74 for RUS method, whereas 0.60 & 0.59 for ADASYN and SMOTE respectively."
   ]
  },
  {
   "cell_type": "markdown",
   "id": "56537c69",
   "metadata": {},
   "source": [
    "### XGBoost"
   ]
  },
  {
   "cell_type": "markdown",
   "id": "9703cf85",
   "metadata": {},
   "source": [
    "Again we will create a model and using RandomizedSearchCV to find the optimal parameters to run the model with. "
   ]
  },
  {
   "cell_type": "code",
   "execution_count": 58,
   "id": "c7b6f3db",
   "metadata": {},
   "outputs": [],
   "source": [
    "import xgboost as xgb\n",
    "\n",
    "xb = xgb.XGBClassifier()"
   ]
  },
  {
   "cell_type": "code",
   "execution_count": 59,
   "id": "3295e316",
   "metadata": {},
   "outputs": [
    {
     "data": {
      "text/plain": [
       "{'objective': 'binary:logistic',\n",
       " 'use_label_encoder': False,\n",
       " 'base_score': None,\n",
       " 'booster': None,\n",
       " 'callbacks': None,\n",
       " 'colsample_bylevel': None,\n",
       " 'colsample_bynode': None,\n",
       " 'colsample_bytree': None,\n",
       " 'early_stopping_rounds': None,\n",
       " 'enable_categorical': False,\n",
       " 'eval_metric': None,\n",
       " 'gamma': None,\n",
       " 'gpu_id': None,\n",
       " 'grow_policy': None,\n",
       " 'importance_type': None,\n",
       " 'interaction_constraints': None,\n",
       " 'learning_rate': None,\n",
       " 'max_bin': None,\n",
       " 'max_cat_to_onehot': None,\n",
       " 'max_delta_step': None,\n",
       " 'max_depth': None,\n",
       " 'max_leaves': None,\n",
       " 'min_child_weight': None,\n",
       " 'missing': nan,\n",
       " 'monotone_constraints': None,\n",
       " 'n_estimators': 100,\n",
       " 'n_jobs': None,\n",
       " 'num_parallel_tree': None,\n",
       " 'predictor': None,\n",
       " 'random_state': None,\n",
       " 'reg_alpha': None,\n",
       " 'reg_lambda': None,\n",
       " 'sampling_method': None,\n",
       " 'scale_pos_weight': None,\n",
       " 'subsample': None,\n",
       " 'tree_method': None,\n",
       " 'validate_parameters': None,\n",
       " 'verbosity': None}"
      ]
     },
     "execution_count": 59,
     "metadata": {},
     "output_type": "execute_result"
    }
   ],
   "source": [
    "xb.get_params()"
   ]
  },
  {
   "cell_type": "code",
   "execution_count": 60,
   "id": "05db5504",
   "metadata": {},
   "outputs": [],
   "source": [
    "xb_param_grid = {\n",
    "                 \"learning_rate\"    : [0.05, 0.10, 0.15, 0.20, 0.25, 0.30 ],\n",
    "                 \"max_depth\"        : [ 3, 5, 6, 8],\n",
    "                 \"min_child_weight\" : [ 1, 3, 5, 7],\n",
    "                 \"gamma\"            : [ 0.0, 0.1, 0.2 , 0.3, 0.4 ],\n",
    "                 \"colsample_bytree\" : [ 0.3, 0.4, 0.5 , 0.7 ]\n",
    "    }"
   ]
  },
  {
   "cell_type": "code",
   "execution_count": 61,
   "id": "a2b411c4",
   "metadata": {},
   "outputs": [],
   "source": [
    "xg_r = RandomizedSearchCV(param_distributions = xb_param_grid, \n",
    "                                    estimator = xb, scoring = \"f1\", \n",
    "                                    verbose = 0, n_iter = 10, cv = 5)\n"
   ]
  },
  {
   "cell_type": "markdown",
   "id": "61d9fa68",
   "metadata": {},
   "source": [
    "##### XGBoost - ADASYN"
   ]
  },
  {
   "cell_type": "code",
   "execution_count": 62,
   "id": "17983f86",
   "metadata": {},
   "outputs": [
    {
     "name": "stdout",
     "output_type": "stream",
     "text": [
      "Wall time: 13min 57s\n"
     ]
    },
    {
     "data": {
      "text/plain": [
       "RandomizedSearchCV(cv=5,\n",
       "                   estimator=XGBClassifier(base_score=None, booster=None,\n",
       "                                           callbacks=None,\n",
       "                                           colsample_bylevel=None,\n",
       "                                           colsample_bynode=None,\n",
       "                                           colsample_bytree=None,\n",
       "                                           early_stopping_rounds=None,\n",
       "                                           enable_categorical=False,\n",
       "                                           eval_metric=None, gamma=None,\n",
       "                                           gpu_id=None, grow_policy=None,\n",
       "                                           importance_type=None,\n",
       "                                           interaction_constraints=None,\n",
       "                                           learning_rate=None, max_bin=None,...\n",
       "                                           min_child_weight=None, missing=nan,\n",
       "                                           monotone_constraints=None,\n",
       "                                           n_estimators=100, n_jobs=None,\n",
       "                                           num_parallel_tree=None,\n",
       "                                           predictor=None, random_state=None,\n",
       "                                           reg_alpha=None, reg_lambda=None, ...),\n",
       "                   param_distributions={'colsample_bytree': [0.3, 0.4, 0.5,\n",
       "                                                             0.7],\n",
       "                                        'gamma': [0.0, 0.1, 0.2, 0.3, 0.4],\n",
       "                                        'learning_rate': [0.05, 0.1, 0.15, 0.2,\n",
       "                                                          0.25, 0.3],\n",
       "                                        'max_depth': [3, 5, 6, 8],\n",
       "                                        'min_child_weight': [1, 3, 5, 7]},\n",
       "                   scoring='f1')"
      ]
     },
     "execution_count": 62,
     "metadata": {},
     "output_type": "execute_result"
    }
   ],
   "source": [
    "%time xg_r.fit(X_adasyn, y_adasyn)"
   ]
  },
  {
   "cell_type": "code",
   "execution_count": 63,
   "id": "1e1d7a8e",
   "metadata": {},
   "outputs": [
    {
     "data": {
      "text/plain": [
       "0.9144211799634068"
      ]
     },
     "execution_count": 63,
     "metadata": {},
     "output_type": "execute_result"
    }
   ],
   "source": [
    "xg_r.best_score_"
   ]
  },
  {
   "cell_type": "code",
   "execution_count": 64,
   "id": "52ce85d1",
   "metadata": {},
   "outputs": [
    {
     "data": {
      "text/plain": [
       "{'min_child_weight': 3,\n",
       " 'max_depth': 8,\n",
       " 'learning_rate': 0.25,\n",
       " 'gamma': 0.4,\n",
       " 'colsample_bytree': 0.5}"
      ]
     },
     "execution_count": 64,
     "metadata": {},
     "output_type": "execute_result"
    }
   ],
   "source": [
    "xg_bp = xg_r.best_params_\n",
    "xg_bp"
   ]
  },
  {
   "cell_type": "code",
   "execution_count": 65,
   "id": "fc30b904",
   "metadata": {},
   "outputs": [],
   "source": [
    "xg_classifier = xgb.XGBClassifier(learning_rate = xg_bp[\"learning_rate\"],\n",
    "                                     min_child_weight = xg_bp['min_child_weight'],\n",
    "                                     max_depth = xg_bp['max_depth'],\n",
    "                                     gamma = xg_bp['gamma'],\n",
    "                                     colsample_bytree = xg_bp['colsample_bytree'])"
   ]
  },
  {
   "cell_type": "code",
   "execution_count": 66,
   "id": "3a4b70e3",
   "metadata": {},
   "outputs": [
    {
     "data": {
      "text/plain": [
       "XGBClassifier(base_score=0.5, booster='gbtree', callbacks=None,\n",
       "              colsample_bylevel=1, colsample_bynode=1, colsample_bytree=0.5,\n",
       "              early_stopping_rounds=None, enable_categorical=False,\n",
       "              eval_metric=None, gamma=0.4, gpu_id=-1, grow_policy='depthwise',\n",
       "              importance_type=None, interaction_constraints='',\n",
       "              learning_rate=0.25, max_bin=256, max_cat_to_onehot=4,\n",
       "              max_delta_step=0, max_depth=8, max_leaves=0, min_child_weight=3,\n",
       "              missing=nan, monotone_constraints='()', n_estimators=100,\n",
       "              n_jobs=0, num_parallel_tree=1, predictor='auto', random_state=0,\n",
       "              reg_alpha=0, reg_lambda=1, ...)"
      ]
     },
     "execution_count": 66,
     "metadata": {},
     "output_type": "execute_result"
    }
   ],
   "source": [
    "xg_classifier.fit(X_adasyn, y_adasyn)"
   ]
  },
  {
   "cell_type": "code",
   "execution_count": 67,
   "id": "d5025e10",
   "metadata": {},
   "outputs": [
    {
     "name": "stdout",
     "output_type": "stream",
     "text": [
      "0.9001238289409499\n"
     ]
    }
   ],
   "source": [
    "y_test_pred_xg_adasyn = xg_classifier.predict(X_test)\n",
    "print(accuracy_score(y_test_pred_xg_adasyn, y_test))"
   ]
  },
  {
   "cell_type": "code",
   "execution_count": 68,
   "id": "a1413dea",
   "metadata": {},
   "outputs": [
    {
     "data": {
      "text/plain": [
       "Text(0.5, 0, 'False Positive Rate')"
      ]
     },
     "execution_count": 68,
     "metadata": {},
     "output_type": "execute_result"
    },
    {
     "data": {
      "image/png": "[encoded data removed]",
      "text/plain": [
       "<Figure size 720x720 with 1 Axes>"
      ]
     },
     "metadata": {
      "needs_background": "light"
     },
     "output_type": "display_data"
    }
   ],
   "source": [
    "false_positive_rate, true_positive_rate, thresholds = roc_curve(y_test_pred_xg_adasyn, y_test)\n",
    "roc_auc = auc(false_positive_rate, true_positive_rate)\n",
    "\n",
    "\n",
    "import matplotlib.pyplot as plt\n",
    "plt.figure(figsize=(10,10))\n",
    "plt.title('Receiver Operating Characteristic')\n",
    "plt.plot(false_positive_rate,true_positive_rate, color='red',label = 'AUC = %0.2f' % roc_auc)\n",
    "plt.legend(loc = 'lower right')\n",
    "plt.plot([0, 1], [0, 1],linestyle='--')\n",
    "plt.axis('tight')\n",
    "plt.ylabel('True Positive Rate')\n",
    "plt.xlabel('False Positive Rate')"
   ]
  },
  {
   "cell_type": "code",
   "execution_count": 69,
   "id": "30707f43",
   "metadata": {},
   "outputs": [
    {
     "data": {
      "image/png": "[encoded data removed]",
      "text/plain": [
       "<Figure size 360x360 with 2 Axes>"
      ]
     },
     "metadata": {
      "needs_background": "light"
     },
     "output_type": "display_data"
    }
   ],
   "source": [
    "from sklearn.metrics import confusion_matrix\n",
    "cm = confusion_matrix(y_test_pred_xg_adasyn, y_test)\n",
    "\n",
    "f, ax=plt.subplots(figsize=(5,5))\n",
    "sns.heatmap(cm, annot = True, linewidths = 0.5, linecolor = \"red\", fmt = \".0f\",ax = ax)\n",
    "plt.xlabel(\"y_pred\")\n",
    "plt.ylabel(\"y_true\")\n",
    "plt.show()\n"
   ]
  },
  {
   "cell_type": "code",
   "execution_count": 70,
   "id": "10c6ef2f",
   "metadata": {},
   "outputs": [
    {
     "name": "stdout",
     "output_type": "stream",
     "text": [
      "[Training Classification Report]\n",
      "              precision    recall  f1-score   support\n",
      "\n",
      "           0       0.92      0.97      0.94    219316\n",
      "           1       0.97      0.91      0.94    222504\n",
      "\n",
      "    accuracy                           0.94    441820\n",
      "   macro avg       0.94      0.94      0.94    441820\n",
      "weighted avg       0.94      0.94      0.94    441820\n",
      "\n",
      "[Test Classification Report]\n",
      "              precision    recall  f1-score   support\n",
      "\n",
      "           0       0.93      0.97      0.95     73106\n",
      "           1       0.35      0.19      0.25      6843\n",
      "\n",
      "    accuracy                           0.90     79949\n",
      "   macro avg       0.64      0.58      0.60     79949\n",
      "weighted avg       0.88      0.90      0.89     79949\n",
      "\n"
     ]
    }
   ],
   "source": [
    "from sklearn.metrics import classification_report\n",
    "# ref: http://scikit-learn.org/stable/modules/generated/sklearn.metrics.classification_report.html#sklearn.metrics.classification_report\n",
    "\n",
    "y_train_pred_xg_adasyn = xg_classifier.predict(X_adasyn)\n",
    "\n",
    "print(\"[Training Classification Report]\")\n",
    "print(classification_report(y_adasyn, y_train_pred_xg_adasyn))\n",
    "\n",
    "print(\"[Test Classification Report]\")\n",
    "print(classification_report(y_test, y_test_pred_xg_adasyn))\n"
   ]
  },
  {
   "cell_type": "markdown",
   "id": "b7dd5329",
   "metadata": {},
   "source": [
    "The oversampling technique with XGBoost has done the worst by far in recall score for the target class with 0.19."
   ]
  },
  {
   "cell_type": "markdown",
   "id": "bfb2e4c6",
   "metadata": {},
   "source": [
    "##### XGBoost - SMOTE"
   ]
  },
  {
   "cell_type": "code",
   "execution_count": 71,
   "id": "1d889dea",
   "metadata": {},
   "outputs": [
    {
     "name": "stdout",
     "output_type": "stream",
     "text": [
      "Wall time: 15min 21s\n"
     ]
    },
    {
     "data": {
      "text/plain": [
       "RandomizedSearchCV(cv=5,\n",
       "                   estimator=XGBClassifier(base_score=None, booster=None,\n",
       "                                           callbacks=None,\n",
       "                                           colsample_bylevel=None,\n",
       "                                           colsample_bynode=None,\n",
       "                                           colsample_bytree=None,\n",
       "                                           early_stopping_rounds=None,\n",
       "                                           enable_categorical=False,\n",
       "                                           eval_metric=None, gamma=None,\n",
       "                                           gpu_id=None, grow_policy=None,\n",
       "                                           importance_type=None,\n",
       "                                           interaction_constraints=None,\n",
       "                                           learning_rate=None, max_bin=None,...\n",
       "                                           min_child_weight=None, missing=nan,\n",
       "                                           monotone_constraints=None,\n",
       "                                           n_estimators=100, n_jobs=None,\n",
       "                                           num_parallel_tree=None,\n",
       "                                           predictor=None, random_state=None,\n",
       "                                           reg_alpha=None, reg_lambda=None, ...),\n",
       "                   param_distributions={'colsample_bytree': [0.3, 0.4, 0.5,\n",
       "                                                             0.7],\n",
       "                                        'gamma': [0.0, 0.1, 0.2, 0.3, 0.4],\n",
       "                                        'learning_rate': [0.05, 0.1, 0.15, 0.2,\n",
       "                                                          0.25, 0.3],\n",
       "                                        'max_depth': [3, 5, 6, 8],\n",
       "                                        'min_child_weight': [1, 3, 5, 7]},\n",
       "                   scoring='f1')"
      ]
     },
     "execution_count": 71,
     "metadata": {},
     "output_type": "execute_result"
    }
   ],
   "source": [
    "%time xg_r.fit(X_smote, y_smote)"
   ]
  },
  {
   "cell_type": "code",
   "execution_count": 72,
   "id": "65b79640",
   "metadata": {},
   "outputs": [
    {
     "data": {
      "text/plain": [
       "0.9159734673696805"
      ]
     },
     "execution_count": 72,
     "metadata": {},
     "output_type": "execute_result"
    }
   ],
   "source": [
    "xg_r.best_score_"
   ]
  },
  {
   "cell_type": "code",
   "execution_count": 73,
   "id": "98f2243d",
   "metadata": {},
   "outputs": [
    {
     "data": {
      "text/plain": [
       "{'min_child_weight': 5,\n",
       " 'max_depth': 8,\n",
       " 'learning_rate': 0.3,\n",
       " 'gamma': 0.2,\n",
       " 'colsample_bytree': 0.7}"
      ]
     },
     "execution_count": 73,
     "metadata": {},
     "output_type": "execute_result"
    }
   ],
   "source": [
    "xg_bp = xg_r.best_params_\n",
    "xg_bp"
   ]
  },
  {
   "cell_type": "code",
   "execution_count": 74,
   "id": "7e5aa546",
   "metadata": {},
   "outputs": [],
   "source": [
    "xg_classifier = xgb.XGBClassifier(learning_rate = xg_bp[\"learning_rate\"],\n",
    "                                     min_child_weight = xg_bp['min_child_weight'],\n",
    "                                     max_depth = xg_bp['max_depth'],\n",
    "                                     gamma = xg_bp['gamma'],\n",
    "                                     colsample_bytree = xg_bp['colsample_bytree'])"
   ]
  },
  {
   "cell_type": "code",
   "execution_count": 75,
   "id": "0794f8d0",
   "metadata": {},
   "outputs": [
    {
     "data": {
      "text/plain": [
       "XGBClassifier(base_score=0.5, booster='gbtree', callbacks=None,\n",
       "              colsample_bylevel=1, colsample_bynode=1, colsample_bytree=0.7,\n",
       "              early_stopping_rounds=None, enable_categorical=False,\n",
       "              eval_metric=None, gamma=0.2, gpu_id=-1, grow_policy='depthwise',\n",
       "              importance_type=None, interaction_constraints='',\n",
       "              learning_rate=0.3, max_bin=256, max_cat_to_onehot=4,\n",
       "              max_delta_step=0, max_depth=8, max_leaves=0, min_child_weight=5,\n",
       "              missing=nan, monotone_constraints='()', n_estimators=100,\n",
       "              n_jobs=0, num_parallel_tree=1, predictor='auto', random_state=0,\n",
       "              reg_alpha=0, reg_lambda=1, ...)"
      ]
     },
     "execution_count": 75,
     "metadata": {},
     "output_type": "execute_result"
    }
   ],
   "source": [
    "xg_classifier.fit(X_smote, y_smote)"
   ]
  },
  {
   "cell_type": "code",
   "execution_count": 76,
   "id": "e2979df6",
   "metadata": {},
   "outputs": [
    {
     "name": "stdout",
     "output_type": "stream",
     "text": [
      "0.9019875170421143\n"
     ]
    }
   ],
   "source": [
    "y_test_pred_xg_smote = xg_classifier.predict(X_test)\n",
    "print(accuracy_score(y_test_pred_xg_smote, y_test))"
   ]
  },
  {
   "cell_type": "code",
   "execution_count": 77,
   "id": "5724ae11",
   "metadata": {},
   "outputs": [
    {
     "data": {
      "text/plain": [
       "Text(0.5, 0, 'False Positive Rate')"
      ]
     },
     "execution_count": 77,
     "metadata": {},
     "output_type": "execute_result"
    },
    {
     "data": {
      "image/png": "[encoded data removed]",
      "text/plain": [
       "<Figure size 720x720 with 1 Axes>"
      ]
     },
     "metadata": {
      "needs_background": "light"
     },
     "output_type": "display_data"
    }
   ],
   "source": [
    "false_positive_rate, true_positive_rate, thresholds = roc_curve(y_test, y_test_pred_xg_smote)\n",
    "roc_auc = auc(false_positive_rate, true_positive_rate)\n",
    "\n",
    "\n",
    "import matplotlib.pyplot as plt\n",
    "\n",
    "plt.figure(figsize=(10,10))\n",
    "plt.title('Receiver Operating Characteristic')\n",
    "plt.plot(false_positive_rate,true_positive_rate, color='red',label = 'AUC = %0.2f' % roc_auc)\n",
    "plt.legend(loc = 'lower right')\n",
    "plt.plot([0, 1], [0, 1],linestyle='--')\n",
    "plt.axis('tight')\n",
    "plt.ylabel('True Positive Rate')\n",
    "plt.xlabel('False Positive Rate')"
   ]
  },
  {
   "cell_type": "code",
   "execution_count": 78,
   "id": "cf38fb42",
   "metadata": {},
   "outputs": [
    {
     "data": {
      "image/png": "[encoded data removed]",
      "text/plain": [
       "<Figure size 360x360 with 2 Axes>"
      ]
     },
     "metadata": {
      "needs_background": "light"
     },
     "output_type": "display_data"
    }
   ],
   "source": [
    "from sklearn.metrics import confusion_matrix\n",
    "cm = confusion_matrix(y_test, y_test_pred_xg_smote)\n",
    "\n",
    "f, ax=plt.subplots(figsize=(5,5))\n",
    "sns.heatmap(cm, annot = True, linewidths = 0.5, linecolor = \"red\", fmt = \".0f\",ax = ax)\n",
    "plt.xlabel(\"y_pred\")\n",
    "plt.ylabel(\"y_true\")\n",
    "plt.show()\n"
   ]
  },
  {
   "cell_type": "code",
   "execution_count": 79,
   "id": "6b15277b",
   "metadata": {},
   "outputs": [
    {
     "name": "stdout",
     "output_type": "stream",
     "text": [
      "[Training Classification Report]\n",
      "              precision    recall  f1-score   support\n",
      "\n",
      "           0       0.92      0.98      0.95    219316\n",
      "           1       0.97      0.91      0.94    219316\n",
      "\n",
      "    accuracy                           0.94    438632\n",
      "   macro avg       0.95      0.94      0.94    438632\n",
      "weighted avg       0.95      0.94      0.94    438632\n",
      "\n",
      "[Test Classification Report]\n",
      "              precision    recall  f1-score   support\n",
      "\n",
      "           0       0.93      0.97      0.95     73106\n",
      "           1       0.36      0.19      0.25      6843\n",
      "\n",
      "    accuracy                           0.90     79949\n",
      "   macro avg       0.64      0.58      0.60     79949\n",
      "weighted avg       0.88      0.90      0.89     79949\n",
      "\n"
     ]
    }
   ],
   "source": [
    "from sklearn.metrics import classification_report\n",
    "# ref: http://scikit-learn.org/stable/modules/generated/sklearn.metrics.classification_report.html#sklearn.metrics.classification_report\n",
    "\n",
    "y_train_pred_xg_smote = xg_classifier.predict(X_smote)\n",
    "\n",
    "print(\"[Training Classification Report]\")\n",
    "print(classification_report(y_smote, y_train_pred_xg_smote))\n",
    "\n",
    "print(\"[Test Classification Report]\")\n",
    "print(classification_report(y_test, y_test_pred_xg_smote))\n"
   ]
  },
  {
   "cell_type": "markdown",
   "id": "1a4b6b06",
   "metadata": {},
   "source": [
    "Again, we see that oversampling method is leading us to a low recall score which we are trying to avoid."
   ]
  },
  {
   "cell_type": "markdown",
   "id": "c7b186ea",
   "metadata": {},
   "source": [
    "##### XGBoost - RUS"
   ]
  },
  {
   "cell_type": "code",
   "execution_count": 80,
   "id": "71fc8785",
   "metadata": {},
   "outputs": [
    {
     "name": "stdout",
     "output_type": "stream",
     "text": [
      "Wall time: 1min 19s\n"
     ]
    },
    {
     "data": {
      "text/plain": [
       "RandomizedSearchCV(cv=5,\n",
       "                   estimator=XGBClassifier(base_score=None, booster=None,\n",
       "                                           callbacks=None,\n",
       "                                           colsample_bylevel=None,\n",
       "                                           colsample_bynode=None,\n",
       "                                           colsample_bytree=None,\n",
       "                                           early_stopping_rounds=None,\n",
       "                                           enable_categorical=False,\n",
       "                                           eval_metric=None, gamma=None,\n",
       "                                           gpu_id=None, grow_policy=None,\n",
       "                                           importance_type=None,\n",
       "                                           interaction_constraints=None,\n",
       "                                           learning_rate=None, max_bin=None,...\n",
       "                                           min_child_weight=None, missing=nan,\n",
       "                                           monotone_constraints=None,\n",
       "                                           n_estimators=100, n_jobs=None,\n",
       "                                           num_parallel_tree=None,\n",
       "                                           predictor=None, random_state=None,\n",
       "                                           reg_alpha=None, reg_lambda=None, ...),\n",
       "                   param_distributions={'colsample_bytree': [0.3, 0.4, 0.5,\n",
       "                                                             0.7],\n",
       "                                        'gamma': [0.0, 0.1, 0.2, 0.3, 0.4],\n",
       "                                        'learning_rate': [0.05, 0.1, 0.15, 0.2,\n",
       "                                                          0.25, 0.3],\n",
       "                                        'max_depth': [3, 5, 6, 8],\n",
       "                                        'min_child_weight': [1, 3, 5, 7]},\n",
       "                   scoring='f1')"
      ]
     },
     "execution_count": 80,
     "metadata": {},
     "output_type": "execute_result"
    }
   ],
   "source": [
    "%time xg_r.fit(X_rus, y_rus)"
   ]
  },
  {
   "cell_type": "code",
   "execution_count": 81,
   "id": "f579fea5",
   "metadata": {},
   "outputs": [
    {
     "data": {
      "text/plain": [
       "0.7737666671233654"
      ]
     },
     "execution_count": 81,
     "metadata": {},
     "output_type": "execute_result"
    }
   ],
   "source": [
    "xg_r.best_score_"
   ]
  },
  {
   "cell_type": "code",
   "execution_count": 82,
   "id": "51fc9376",
   "metadata": {},
   "outputs": [
    {
     "data": {
      "text/plain": [
       "{'min_child_weight': 1,\n",
       " 'max_depth': 5,\n",
       " 'learning_rate': 0.1,\n",
       " 'gamma': 0.0,\n",
       " 'colsample_bytree': 0.5}"
      ]
     },
     "execution_count": 82,
     "metadata": {},
     "output_type": "execute_result"
    }
   ],
   "source": [
    "xg_bp = xg_r.best_params_\n",
    "xg_bp"
   ]
  },
  {
   "cell_type": "code",
   "execution_count": 83,
   "id": "c44db42d",
   "metadata": {},
   "outputs": [],
   "source": [
    "xg_classifier = xgb.XGBClassifier(learning_rate = xg_bp[\"learning_rate\"],\n",
    "                                     min_child_weight = xg_bp['min_child_weight'],\n",
    "                                     max_depth = xg_bp['max_depth'],\n",
    "                                     gamma = xg_bp['gamma'],\n",
    "                                     colsample_bytree = xg_bp['colsample_bytree'])"
   ]
  },
  {
   "cell_type": "code",
   "execution_count": 84,
   "id": "7e0f66fd",
   "metadata": {},
   "outputs": [
    {
     "data": {
      "text/plain": [
       "XGBClassifier(base_score=0.5, booster='gbtree', callbacks=None,\n",
       "              colsample_bylevel=1, colsample_bynode=1, colsample_bytree=0.5,\n",
       "              early_stopping_rounds=None, enable_categorical=False,\n",
       "              eval_metric=None, gamma=0.0, gpu_id=-1, grow_policy='depthwise',\n",
       "              importance_type=None, interaction_constraints='',\n",
       "              learning_rate=0.1, max_bin=256, max_cat_to_onehot=4,\n",
       "              max_delta_step=0, max_depth=5, max_leaves=0, min_child_weight=1,\n",
       "              missing=nan, monotone_constraints='()', n_estimators=100,\n",
       "              n_jobs=0, num_parallel_tree=1, predictor='auto', random_state=0,\n",
       "              reg_alpha=0, reg_lambda=1, ...)"
      ]
     },
     "execution_count": 84,
     "metadata": {},
     "output_type": "execute_result"
    }
   ],
   "source": [
    "xg_classifier.fit(X_rus, y_rus)\n"
   ]
  },
  {
   "cell_type": "code",
   "execution_count": 85,
   "id": "04626c21",
   "metadata": {},
   "outputs": [
    {
     "name": "stdout",
     "output_type": "stream",
     "text": [
      "0.7406346545923026\n"
     ]
    }
   ],
   "source": [
    "y_test_pred_xg_rus = xg_classifier.predict(X_test)\n",
    "print(accuracy_score(y_test_pred_xg_rus, y_test))"
   ]
  },
  {
   "cell_type": "code",
   "execution_count": 86,
   "id": "7619a164",
   "metadata": {},
   "outputs": [
    {
     "data": {
      "text/plain": [
       "Text(0.5, 0, 'False Positive Rate')"
      ]
     },
     "execution_count": 86,
     "metadata": {},
     "output_type": "execute_result"
    },
    {
     "data": {
      "image/png": "[encoded data removed]",
      "text/plain": [
       "<Figure size 720x720 with 1 Axes>"
      ]
     },
     "metadata": {
      "needs_background": "light"
     },
     "output_type": "display_data"
    }
   ],
   "source": [
    "false_positive_rate, true_positive_rate, thresholds = roc_curve(y_test, y_test_pred_xg_rus)\n",
    "roc_auc = auc(false_positive_rate, true_positive_rate)\n",
    "\n",
    "\n",
    "import matplotlib.pyplot as plt\n",
    "plt.figure(figsize=(10,10))\n",
    "plt.title('Receiver Operating Characteristic')\n",
    "plt.plot(false_positive_rate,true_positive_rate, color='red',label = 'AUC = %0.2f' % roc_auc)\n",
    "plt.legend(loc = 'lower right')\n",
    "plt.plot([0, 1], [0, 1],linestyle='--')\n",
    "plt.axis('tight')\n",
    "plt.ylabel('True Positive Rate')\n",
    "plt.xlabel('False Positive Rate')\n"
   ]
  },
  {
   "cell_type": "code",
   "execution_count": 87,
   "id": "4adb372d",
   "metadata": {},
   "outputs": [
    {
     "data": {
      "image/png": "[encoded data removed]",
      "text/plain": [
       "<Figure size 360x360 with 2 Axes>"
      ]
     },
     "metadata": {
      "needs_background": "light"
     },
     "output_type": "display_data"
    }
   ],
   "source": [
    "from sklearn.metrics import confusion_matrix\n",
    "cm = confusion_matrix(y_test, y_test_pred_xg_rus)\n",
    "\n",
    "f, ax=plt.subplots(figsize=(5,5))\n",
    "sns.heatmap(cm, annot = True, linewidths = 0.5, linecolor = \"red\", fmt = \".0f\",ax = ax)\n",
    "plt.xlabel(\"y_pred\")\n",
    "plt.ylabel(\"y_true\")\n",
    "plt.show()"
   ]
  },
  {
   "cell_type": "code",
   "execution_count": 88,
   "id": "50acfca6",
   "metadata": {},
   "outputs": [
    {
     "name": "stdout",
     "output_type": "stream",
     "text": [
      "[Training Classification Report]\n",
      "              precision    recall  f1-score   support\n",
      "\n",
      "           0       0.79      0.74      0.77     20530\n",
      "           1       0.76      0.81      0.78     20530\n",
      "\n",
      "    accuracy                           0.78     41060\n",
      "   macro avg       0.78      0.78      0.77     41060\n",
      "weighted avg       0.78      0.78      0.77     41060\n",
      "\n",
      "[Test Classification Report]\n",
      "              precision    recall  f1-score   support\n",
      "\n",
      "           0       0.97      0.74      0.84     73106\n",
      "           1       0.22      0.79      0.34      6843\n",
      "\n",
      "    accuracy                           0.74     79949\n",
      "   macro avg       0.60      0.76      0.59     79949\n",
      "weighted avg       0.91      0.74      0.80     79949\n",
      "\n"
     ]
    }
   ],
   "source": [
    "from sklearn.metrics import classification_report\n",
    "# ref: http://scikit-learn.org/stable/modules/generated/sklearn.metrics.classification_report.html#sklearn.metrics.classification_report\n",
    "\n",
    "y_train_pred_xg_rus = xg_classifier.predict(X_rus)\n",
    "\n",
    "print(\"[Training Classification Report]\")\n",
    "print(classification_report(y_rus, y_train_pred_xg_rus))\n",
    "\n",
    "print(\"[Test Classification Report]\")\n",
    "print(classification_report(y_test, y_test_pred_xg_rus))\n"
   ]
  },
  {
   "cell_type": "markdown",
   "id": "32c239f3",
   "metadata": {},
   "source": [
    "XGBoost with under sampling did the best by far in recall with 0.79, a 5 point jump from our previous best. We again see that undersampling provides us with low precision - high recall and oversampling does the opposite."
   ]
  },
  {
   "cell_type": "markdown",
   "id": "a61c4c3b",
   "metadata": {},
   "source": [
    "#### ADABoost_rus"
   ]
  },
  {
   "cell_type": "markdown",
   "id": "767b3f0b",
   "metadata": {},
   "source": [
    "Since ADABoost have two algorithms 'Samme' & 'Samme.R' we will generate 3 model for each algorithm and compare them."
   ]
  },
  {
   "cell_type": "code",
   "execution_count": 89,
   "id": "0602a6e0",
   "metadata": {},
   "outputs": [],
   "source": [
    "from sklearn.ensemble import AdaBoostClassifier\n",
    "ada_classifier_samme = AdaBoostClassifier(algorithm = 'SAMME', n_estimators = 1000)"
   ]
  },
  {
   "cell_type": "code",
   "execution_count": 90,
   "id": "8ba79a2f",
   "metadata": {},
   "outputs": [
    {
     "name": "stdout",
     "output_type": "stream",
     "text": [
      "Wall time: 43.2 s\n"
     ]
    },
    {
     "data": {
      "text/plain": [
       "AdaBoostClassifier(algorithm='SAMME', n_estimators=1000)"
      ]
     },
     "execution_count": 90,
     "metadata": {},
     "output_type": "execute_result"
    }
   ],
   "source": [
    "%time ada_classifier_samme.fit(X_rus, y_rus)"
   ]
  },
  {
   "cell_type": "code",
   "execution_count": 91,
   "id": "30ae4ca7",
   "metadata": {},
   "outputs": [
    {
     "name": "stdout",
     "output_type": "stream",
     "text": [
      "0.7569700684186169\n"
     ]
    }
   ],
   "source": [
    "y_test_pred_ada_samme_rus = ada_classifier_samme.predict(X_test)\n",
    "print(accuracy_score(y_test_pred_ada_samme_rus, y_test))"
   ]
  },
  {
   "cell_type": "code",
   "execution_count": 92,
   "id": "3d2b5494",
   "metadata": {},
   "outputs": [
    {
     "data": {
      "text/plain": [
       "Text(0.5, 0, 'False Positive Rate')"
      ]
     },
     "execution_count": 92,
     "metadata": {},
     "output_type": "execute_result"
    },
    {
     "data": {
      "image/png": "[encoded data removed]",
      "text/plain": [
       "<Figure size 720x720 with 1 Axes>"
      ]
     },
     "metadata": {
      "needs_background": "light"
     },
     "output_type": "display_data"
    }
   ],
   "source": [
    "false_positive_rate, true_positive_rate, thresholds = roc_curve(y_test, y_test_pred_ada_samme_rus)\n",
    "roc_auc = auc(false_positive_rate, true_positive_rate)\n",
    "\n",
    "\n",
    "import matplotlib.pyplot as plt\n",
    "plt.figure(figsize=(10,10))\n",
    "plt.title('Receiver Operating Characteristic')\n",
    "plt.plot(false_positive_rate,true_positive_rate, color='red',label = 'AUC = %0.2f' % roc_auc)\n",
    "plt.legend(loc = 'lower right')\n",
    "plt.plot([0, 1], [0, 1],linestyle='--')\n",
    "plt.axis('tight')\n",
    "plt.ylabel('True Positive Rate')\n",
    "plt.xlabel('False Positive Rate')"
   ]
  },
  {
   "cell_type": "code",
   "execution_count": 93,
   "id": "ff85d23f",
   "metadata": {},
   "outputs": [
    {
     "data": {
      "image/png": "[encoded data removed]",
      "text/plain": [
       "<Figure size 360x360 with 2 Axes>"
      ]
     },
     "metadata": {
      "needs_background": "light"
     },
     "output_type": "display_data"
    }
   ],
   "source": [
    "\n",
    "from sklearn.metrics import confusion_matrix\n",
    "cm = confusion_matrix(y_test, y_test_pred_ada_samme_rus)\n",
    "\n",
    "f, ax=plt.subplots(figsize=(5,5))\n",
    "sns.heatmap(cm, annot = True, linewidths = 0.5, linecolor = \"red\", fmt = \".0f\",ax = ax)\n",
    "plt.xlabel(\"y_pred\")\n",
    "plt.ylabel(\"y_true\")\n",
    "plt.show()\n"
   ]
  },
  {
   "cell_type": "code",
   "execution_count": 94,
   "id": "06c3a084",
   "metadata": {},
   "outputs": [
    {
     "name": "stdout",
     "output_type": "stream",
     "text": [
      "[Training Classification Report]\n",
      "              precision    recall  f1-score   support\n",
      "\n",
      "           0       0.77      0.75      0.76     20530\n",
      "           1       0.76      0.77      0.77     20530\n",
      "\n",
      "    accuracy                           0.76     41060\n",
      "   macro avg       0.76      0.76      0.76     41060\n",
      "weighted avg       0.76      0.76      0.76     41060\n",
      "\n",
      "[Test Classification Report]\n",
      "              precision    recall  f1-score   support\n",
      "\n",
      "           0       0.97      0.76      0.85     73106\n",
      "           1       0.23      0.77      0.35      6843\n",
      "\n",
      "    accuracy                           0.76     79949\n",
      "   macro avg       0.60      0.76      0.60     79949\n",
      "weighted avg       0.91      0.76      0.81     79949\n",
      "\n"
     ]
    }
   ],
   "source": [
    "from sklearn.metrics import classification_report\n",
    "# ref: http://scikit-learn.org/stable/modules/generated/sklearn.metrics.classification_report.html#sklearn.metrics.classification_report\n",
    "\n",
    "y_train_pred_ada_samme_rus = ada_classifier_samme.predict(X_rus)\n",
    "\n",
    "print(\"[Training Classification Report]\")\n",
    "print(classification_report(y_rus, y_train_pred_ada_samme_rus))\n",
    "\n",
    "print(\"[Test Classification Report]\")\n",
    "print(classification_report(y_test, y_test_pred_ada_samme_rus))\n"
   ]
  },
  {
   "cell_type": "markdown",
   "id": "c77e1d02",
   "metadata": {},
   "source": [
    "##### ADABoost_adasyn - SAMME"
   ]
  },
  {
   "cell_type": "code",
   "execution_count": 95,
   "id": "3fc583bc",
   "metadata": {},
   "outputs": [
    {
     "name": "stdout",
     "output_type": "stream",
     "text": [
      "Wall time: 10min\n"
     ]
    },
    {
     "data": {
      "text/plain": [
       "AdaBoostClassifier(algorithm='SAMME', n_estimators=1000)"
      ]
     },
     "execution_count": 95,
     "metadata": {},
     "output_type": "execute_result"
    }
   ],
   "source": [
    "%time ada_classifier_samme.fit(X_adasyn, y_adasyn)"
   ]
  },
  {
   "cell_type": "code",
   "execution_count": 96,
   "id": "c7112f8e",
   "metadata": {},
   "outputs": [
    {
     "name": "stdout",
     "output_type": "stream",
     "text": [
      "0.8734193048068143\n"
     ]
    }
   ],
   "source": [
    "y_test_pred_ada_samme_adasyn = ada_classifier_samme.predict(X_test)\n",
    "print(accuracy_score(y_test_pred_ada_samme_adasyn, y_test))"
   ]
  },
  {
   "cell_type": "code",
   "execution_count": 97,
   "id": "6178d2ef",
   "metadata": {},
   "outputs": [
    {
     "data": {
      "text/plain": [
       "Text(0.5, 0, 'False Positive Rate')"
      ]
     },
     "execution_count": 97,
     "metadata": {},
     "output_type": "execute_result"
    },
    {
     "data": {
      "image/png": "[encoded data removed]",
      "text/plain": [
       "<Figure size 720x720 with 1 Axes>"
      ]
     },
     "metadata": {
      "needs_background": "light"
     },
     "output_type": "display_data"
    }
   ],
   "source": [
    "false_positive_rate, true_positive_rate, thresholds = roc_curve(y_test, y_test_pred_ada_samme_adasyn)\n",
    "roc_auc = auc(false_positive_rate, true_positive_rate)\n",
    "\n",
    "\n",
    "import matplotlib.pyplot as plt\n",
    "plt.figure(figsize=(10,10))\n",
    "plt.title('Receiver Operating Characteristic')\n",
    "plt.plot(false_positive_rate,true_positive_rate, color='red',label = 'AUC = %0.2f' % roc_auc)\n",
    "plt.legend(loc = 'lower right')\n",
    "plt.plot([0, 1], [0, 1],linestyle='--')\n",
    "plt.axis('tight')\n",
    "plt.ylabel('True Positive Rate')\n",
    "plt.xlabel('False Positive Rate')"
   ]
  },
  {
   "cell_type": "code",
   "execution_count": 98,
   "id": "f59f36b2",
   "metadata": {},
   "outputs": [
    {
     "data": {
      "image/png": "[encoded data removed]",
      "text/plain": [
       "<Figure size 360x360 with 2 Axes>"
      ]
     },
     "metadata": {
      "needs_background": "light"
     },
     "output_type": "display_data"
    }
   ],
   "source": [
    "\n",
    "from sklearn.metrics import confusion_matrix\n",
    "cm = confusion_matrix(y_test, y_test_pred_ada_samme_adasyn)\n",
    "\n",
    "f, ax=plt.subplots(figsize=(5,5))\n",
    "sns.heatmap(cm, annot = True, linewidths = 0.5, linecolor = \"red\", fmt = \".0f\",ax = ax)\n",
    "plt.xlabel(\"y_pred\")\n",
    "plt.ylabel(\"y_true\")\n",
    "plt.show()\n"
   ]
  },
  {
   "cell_type": "code",
   "execution_count": 99,
   "id": "46fccdbe",
   "metadata": {},
   "outputs": [
    {
     "name": "stdout",
     "output_type": "stream",
     "text": [
      "[Training Classification Report]\n",
      "              precision    recall  f1-score   support\n",
      "\n",
      "           0       0.90      0.92      0.91    219316\n",
      "           1       0.92      0.90      0.91    222504\n",
      "\n",
      "    accuracy                           0.91    441820\n",
      "   macro avg       0.91      0.91      0.91    441820\n",
      "weighted avg       0.91      0.91      0.91    441820\n",
      "\n",
      "[Test Classification Report]\n",
      "              precision    recall  f1-score   support\n",
      "\n",
      "           0       0.94      0.92      0.93     73106\n",
      "           1       0.32      0.42      0.36      6843\n",
      "\n",
      "    accuracy                           0.87     79949\n",
      "   macro avg       0.63      0.67      0.65     79949\n",
      "weighted avg       0.89      0.87      0.88     79949\n",
      "\n"
     ]
    }
   ],
   "source": [
    "from sklearn.metrics import classification_report\n",
    "# ref: http://scikit-learn.org/stable/modules/generated/sklearn.metrics.classification_report.html#sklearn.metrics.classification_report\n",
    "\n",
    "y_train_pred_ada_samme_adasyn = ada_classifier_samme.predict(X_adasyn)\n",
    "\n",
    "print(\"[Training Classification Report]\")\n",
    "print(classification_report(y_adasyn, y_train_pred_ada_samme_adasyn))\n",
    "\n",
    "print(\"[Test Classification Report]\")\n",
    "print(classification_report(y_test, y_test_pred_ada_samme_adasyn))\n"
   ]
  },
  {
   "cell_type": "code",
   "execution_count": null,
   "id": "72c6a33a",
   "metadata": {},
   "outputs": [],
   "source": []
  },
  {
   "cell_type": "markdown",
   "id": "003d338c",
   "metadata": {},
   "source": [
    "##### ADABoost_smote - SAMME\n"
   ]
  },
  {
   "cell_type": "code",
   "execution_count": 100,
   "id": "296a0ab8",
   "metadata": {},
   "outputs": [
    {
     "name": "stdout",
     "output_type": "stream",
     "text": [
      "Wall time: 8min 1s\n"
     ]
    },
    {
     "data": {
      "text/plain": [
       "AdaBoostClassifier(algorithm='SAMME', n_estimators=1000)"
      ]
     },
     "execution_count": 100,
     "metadata": {},
     "output_type": "execute_result"
    }
   ],
   "source": [
    "%time ada_classifier_samme.fit(X_smote, y_smote)"
   ]
  },
  {
   "cell_type": "code",
   "execution_count": 101,
   "id": "aeb2fc7a",
   "metadata": {},
   "outputs": [
    {
     "name": "stdout",
     "output_type": "stream",
     "text": [
      "0.8746701021901462\n"
     ]
    }
   ],
   "source": [
    "y_test_pred_ada_samme_smote = ada_classifier_samme.predict(X_test)\n",
    "print(accuracy_score(y_test_pred_ada_samme_smote, y_test))"
   ]
  },
  {
   "cell_type": "code",
   "execution_count": 102,
   "id": "13b05ff3",
   "metadata": {},
   "outputs": [
    {
     "data": {
      "text/plain": [
       "Text(0.5, 0, 'False Positive Rate')"
      ]
     },
     "execution_count": 102,
     "metadata": {},
     "output_type": "execute_result"
    },
    {
     "data": {
      "image/png": "[encoded data removed]",
      "text/plain": [
       "<Figure size 720x720 with 1 Axes>"
      ]
     },
     "metadata": {
      "needs_background": "light"
     },
     "output_type": "display_data"
    }
   ],
   "source": [
    "false_positive_rate, true_positive_rate, thresholds = roc_curve(y_test, y_test_pred_ada_samme_smote)\n",
    "roc_auc = auc(false_positive_rate, true_positive_rate)\n",
    "\n",
    "\n",
    "import matplotlib.pyplot as plt\n",
    "plt.figure(figsize=(10,10))\n",
    "plt.title('Receiver Operating Characteristic')\n",
    "plt.plot(false_positive_rate,true_positive_rate, color='red',label = 'AUC = %0.2f' % roc_auc)\n",
    "plt.legend(loc = 'lower right')\n",
    "plt.plot([0, 1], [0, 1],linestyle='--')\n",
    "plt.axis('tight')\n",
    "plt.ylabel('True Positive Rate')\n",
    "plt.xlabel('False Positive Rate')"
   ]
  },
  {
   "cell_type": "code",
   "execution_count": 103,
   "id": "12e48c83",
   "metadata": {},
   "outputs": [
    {
     "data": {
      "image/png": "[encoded data removed]",
      "text/plain": [
       "<Figure size 360x360 with 2 Axes>"
      ]
     },
     "metadata": {
      "needs_background": "light"
     },
     "output_type": "display_data"
    }
   ],
   "source": [
    "from sklearn.metrics import confusion_matrix\n",
    "cm = confusion_matrix(y_test, y_test_pred_ada_samme_smote)\n",
    "\n",
    "f, ax=plt.subplots(figsize=(5,5))\n",
    "sns.heatmap(cm, annot = True, linewidths = 0.5, linecolor = \"red\", fmt = \".0f\",ax = ax)\n",
    "plt.xlabel(\"y_pred\")\n",
    "plt.ylabel(\"y_true\")\n",
    "plt.show()\n"
   ]
  },
  {
   "cell_type": "code",
   "execution_count": 104,
   "id": "3a6338f0",
   "metadata": {},
   "outputs": [
    {
     "name": "stdout",
     "output_type": "stream",
     "text": [
      "[Training Classification Report]\n",
      "              precision    recall  f1-score   support\n",
      "\n",
      "           0       0.90      0.92      0.91    219316\n",
      "           1       0.92      0.90      0.91    219316\n",
      "\n",
      "    accuracy                           0.91    438632\n",
      "   macro avg       0.91      0.91      0.91    438632\n",
      "weighted avg       0.91      0.91      0.91    438632\n",
      "\n",
      "[Test Classification Report]\n",
      "              precision    recall  f1-score   support\n",
      "\n",
      "           0       0.94      0.92      0.93     73106\n",
      "           1       0.32      0.42      0.36      6843\n",
      "\n",
      "    accuracy                           0.87     79949\n",
      "   macro avg       0.63      0.67      0.65     79949\n",
      "weighted avg       0.89      0.87      0.88     79949\n",
      "\n"
     ]
    }
   ],
   "source": [
    "from sklearn.metrics import classification_report\n",
    "# ref: http://scikit-learn.org/stable/modules/generated/sklearn.metrics.classification_report.html#sklearn.metrics.classification_report\n",
    "\n",
    "y_train_pred_ada_samme_smote = ada_classifier_samme.predict(X_smote)\n",
    "\n",
    "print(\"[Training Classification Report]\")\n",
    "print(classification_report(y_smote, y_train_pred_ada_samme_smote))\n",
    "\n",
    "print(\"[Test Classification Report]\")\n",
    "print(classification_report(y_test, y_test_pred_ada_samme_smote))\n"
   ]
  },
  {
   "cell_type": "markdown",
   "id": "1e4e0cc1",
   "metadata": {},
   "source": [
    "We see the same pattern as before, our over sampling method is performing better than the under sampling method, with the number of correct predictions again over 90% and weighted f1 score 3 units below our best model which was XGBoost with ADASYN sampling method. "
   ]
  },
  {
   "cell_type": "markdown",
   "id": "0d23c0a7",
   "metadata": {},
   "source": [
    "##### ADABoost_rus - SAMME.R\n"
   ]
  },
  {
   "cell_type": "code",
   "execution_count": 105,
   "id": "523ab520",
   "metadata": {},
   "outputs": [],
   "source": [
    "ada_classifier_samme_r = AdaBoostClassifier(algorithm = 'SAMME.R', n_estimators = 1000)"
   ]
  },
  {
   "cell_type": "code",
   "execution_count": 106,
   "id": "3c6d4b6f",
   "metadata": {},
   "outputs": [
    {
     "name": "stdout",
     "output_type": "stream",
     "text": [
      "Wall time: 35.6 s\n"
     ]
    },
    {
     "data": {
      "text/plain": [
       "AdaBoostClassifier(n_estimators=1000)"
      ]
     },
     "execution_count": 106,
     "metadata": {},
     "output_type": "execute_result"
    }
   ],
   "source": [
    "%time ada_classifier_samme_r.fit(X_rus, y_rus)"
   ]
  },
  {
   "cell_type": "code",
   "execution_count": 107,
   "id": "eedbb6b5",
   "metadata": {},
   "outputs": [
    {
     "name": "stdout",
     "output_type": "stream",
     "text": [
      "0.754818696919286\n"
     ]
    }
   ],
   "source": [
    "y_test_pred_ada_samme_r_rus = ada_classifier_samme_r.predict(X_test)\n",
    "print(accuracy_score(y_test_pred_ada_samme_r_rus, y_test))"
   ]
  },
  {
   "cell_type": "code",
   "execution_count": 108,
   "id": "4802cf84",
   "metadata": {},
   "outputs": [
    {
     "data": {
      "text/plain": [
       "Text(0.5, 0, 'False Positive Rate')"
      ]
     },
     "execution_count": 108,
     "metadata": {},
     "output_type": "execute_result"
    },
    {
     "data": {
      "image/png": "[encoded data removed]",
      "text/plain": [
       "<Figure size 720x720 with 1 Axes>"
      ]
     },
     "metadata": {
      "needs_background": "light"
     },
     "output_type": "display_data"
    }
   ],
   "source": [
    "false_positive_rate, true_positive_rate, thresholds = roc_curve(y_test, y_test_pred_ada_samme_r_rus)\n",
    "roc_auc = auc(false_positive_rate, true_positive_rate)\n",
    "\n",
    "\n",
    "import matplotlib.pyplot as plt\n",
    "plt.figure(figsize=(10,10))\n",
    "plt.title('Receiver Operating Characteristic')\n",
    "plt.plot(false_positive_rate,true_positive_rate, color='red',label = 'AUC = %0.2f' % roc_auc)\n",
    "plt.legend(loc = 'lower right')\n",
    "plt.plot([0, 1], [0, 1],linestyle='--')\n",
    "plt.axis('tight')\n",
    "plt.ylabel('True Positive Rate')\n",
    "plt.xlabel('False Positive Rate')"
   ]
  },
  {
   "cell_type": "code",
   "execution_count": 109,
   "id": "0a006274",
   "metadata": {},
   "outputs": [
    {
     "data": {
      "image/png": "[encoded data removed]",
      "text/plain": [
       "<Figure size 360x360 with 2 Axes>"
      ]
     },
     "metadata": {
      "needs_background": "light"
     },
     "output_type": "display_data"
    }
   ],
   "source": [
    "\n",
    "from sklearn.metrics import confusion_matrix\n",
    "cm = confusion_matrix(y_test, y_test_pred_ada_samme_r_rus)\n",
    "\n",
    "f, ax=plt.subplots(figsize=(5,5))\n",
    "sns.heatmap(cm, annot = True, linewidths = 0.5, linecolor = \"red\", fmt = \".0f\",ax = ax)\n",
    "plt.xlabel(\"y_pred\")\n",
    "plt.ylabel(\"y_true\")\n",
    "plt.show()\n"
   ]
  },
  {
   "cell_type": "code",
   "execution_count": 110,
   "id": "71ea9fab",
   "metadata": {},
   "outputs": [
    {
     "name": "stdout",
     "output_type": "stream",
     "text": [
      "[Training Classification Report]\n",
      "              precision    recall  f1-score   support\n",
      "\n",
      "           0       0.77      0.75      0.76     20530\n",
      "           1       0.76      0.78      0.77     20530\n",
      "\n",
      "    accuracy                           0.77     41060\n",
      "   macro avg       0.77      0.77      0.77     41060\n",
      "weighted avg       0.77      0.77      0.77     41060\n",
      "\n",
      "[Test Classification Report]\n",
      "              precision    recall  f1-score   support\n",
      "\n",
      "           0       0.97      0.75      0.85     73106\n",
      "           1       0.23      0.77      0.35      6843\n",
      "\n",
      "    accuracy                           0.75     79949\n",
      "   macro avg       0.60      0.76      0.60     79949\n",
      "weighted avg       0.91      0.75      0.81     79949\n",
      "\n"
     ]
    }
   ],
   "source": [
    "from sklearn.metrics import classification_report\n",
    "# ref: http://scikit-learn.org/stable/modules/generated/sklearn.metrics.classification_report.html#sklearn.metrics.classification_report\n",
    "\n",
    "y_train_pred_ada_samme_r_rus = ada_classifier_samme_r.predict(X_rus)\n",
    "\n",
    "print(\"[Training Classification Report]\")\n",
    "print(classification_report(y_rus, y_train_pred_ada_samme_r_rus))\n",
    "\n",
    "print(\"[Test Classification Report]\")\n",
    "print(classification_report(y_test, y_test_pred_ada_samme_r_rus))"
   ]
  },
  {
   "cell_type": "code",
   "execution_count": 111,
   "id": "51b9285c",
   "metadata": {},
   "outputs": [
    {
     "name": "stdout",
     "output_type": "stream",
     "text": [
      "[Training Classification Report]\n",
      "              precision    recall  f1-score   support\n",
      "\n",
      "           0       0.77      0.75      0.76     20530\n",
      "           1       0.76      0.78      0.77     20530\n",
      "\n",
      "    accuracy                           0.77     41060\n",
      "   macro avg       0.77      0.77      0.77     41060\n",
      "weighted avg       0.77      0.77      0.77     41060\n",
      "\n",
      "[Test Classification Report]\n",
      "              precision    recall  f1-score   support\n",
      "\n",
      "           0       0.97      0.75      0.85     73106\n",
      "           1       0.23      0.77      0.35      6843\n",
      "\n",
      "    accuracy                           0.75     79949\n",
      "   macro avg       0.60      0.76      0.60     79949\n",
      "weighted avg       0.91      0.75      0.81     79949\n",
      "\n"
     ]
    }
   ],
   "source": [
    "from sklearn.metrics import classification_report\n",
    "# ref: http://scikit-learn.org/stable/modules/generated/sklearn.metrics.classification_report.html#sklearn.metrics.classification_report\n",
    "\n",
    "y_train_pred_ada_samme_r_rus = ada_classifier_samme_r.predict(X_rus)\n",
    "\n",
    "print(\"[Training Classification Report]\")\n",
    "print(classification_report(y_rus, y_train_pred_ada_samme_r_rus))\n",
    "\n",
    "print(\"[Test Classification Report]\")\n",
    "print(classification_report(y_test, y_test_pred_ada_samme_r_rus))"
   ]
  },
  {
   "cell_type": "markdown",
   "id": "03e42b04",
   "metadata": {},
   "source": [
    "##### ADABoost_adasyn - SAMME.R"
   ]
  },
  {
   "cell_type": "code",
   "execution_count": 112,
   "id": "0adbae26",
   "metadata": {},
   "outputs": [
    {
     "name": "stdout",
     "output_type": "stream",
     "text": [
      "Wall time: 9min 39s\n"
     ]
    },
    {
     "data": {
      "text/plain": [
       "AdaBoostClassifier(n_estimators=1000)"
      ]
     },
     "execution_count": 112,
     "metadata": {},
     "output_type": "execute_result"
    }
   ],
   "source": [
    "%time ada_classifier_samme_r.fit(X_adasyn, y_adasyn)"
   ]
  },
  {
   "cell_type": "code",
   "execution_count": 113,
   "id": "34a4a0f5",
   "metadata": {},
   "outputs": [
    {
     "name": "stdout",
     "output_type": "stream",
     "text": [
      "0.9068155949417753\n"
     ]
    }
   ],
   "source": [
    "y_test_pred_ada_samme_r_adasyn = ada_classifier_samme_r.predict(X_test)\n",
    "print(accuracy_score(y_test_pred_ada_samme_r_adasyn, y_test))"
   ]
  },
  {
   "cell_type": "code",
   "execution_count": 114,
   "id": "314797b2",
   "metadata": {},
   "outputs": [
    {
     "data": {
      "text/plain": [
       "Text(0.5, 0, 'False Positive Rate')"
      ]
     },
     "execution_count": 114,
     "metadata": {},
     "output_type": "execute_result"
    },
    {
     "data": {
      "image/png": "[encoded data removed]",
      "text/plain": [
       "<Figure size 720x720 with 1 Axes>"
      ]
     },
     "metadata": {
      "needs_background": "light"
     },
     "output_type": "display_data"
    }
   ],
   "source": [
    "false_positive_rate, true_positive_rate, thresholds = roc_curve(y_test, y_test_pred_ada_samme_r_adasyn)\n",
    "roc_auc = auc(false_positive_rate, true_positive_rate)\n",
    "\n",
    "\n",
    "import matplotlib.pyplot as plt\n",
    "plt.figure(figsize=(10,10))\n",
    "plt.title('Receiver Operating Characteristic')\n",
    "plt.plot(false_positive_rate,true_positive_rate, color='red',label = 'AUC = %0.2f' % roc_auc)\n",
    "plt.legend(loc = 'lower right')\n",
    "plt.plot([0, 1], [0, 1],linestyle='--')\n",
    "plt.axis('tight')\n",
    "plt.ylabel('True Positive Rate')\n",
    "plt.xlabel('False Positive Rate')"
   ]
  },
  {
   "cell_type": "code",
   "execution_count": 115,
   "id": "11f6f5f1",
   "metadata": {},
   "outputs": [
    {
     "data": {
      "image/png": "[encoded data removed]",
      "text/plain": [
       "<Figure size 360x360 with 2 Axes>"
      ]
     },
     "metadata": {
      "needs_background": "light"
     },
     "output_type": "display_data"
    }
   ],
   "source": [
    "from sklearn.metrics import confusion_matrix\n",
    "cm = confusion_matrix(y_test, y_test_pred_ada_samme_r_adasyn)\n",
    "\n",
    "f, ax=plt.subplots(figsize=(5,5))\n",
    "sns.heatmap(cm, annot = True, linewidths = 0.5, linecolor = \"red\", fmt = \".0f\",ax = ax)\n",
    "plt.xlabel(\"y_pred\")\n",
    "plt.ylabel(\"y_true\")\n",
    "plt.show()\n"
   ]
  },
  {
   "cell_type": "code",
   "execution_count": 116,
   "id": "849ceffa",
   "metadata": {},
   "outputs": [
    {
     "name": "stdout",
     "output_type": "stream",
     "text": [
      "[Training Classification Report]\n",
      "              precision    recall  f1-score   support\n",
      "\n",
      "           0       0.89      0.97      0.93    219316\n",
      "           1       0.97      0.89      0.93    222504\n",
      "\n",
      "    accuracy                           0.93    441820\n",
      "   macro avg       0.93      0.93      0.93    441820\n",
      "weighted avg       0.93      0.93      0.93    441820\n",
      "\n",
      "[Test Classification Report]\n",
      "              precision    recall  f1-score   support\n",
      "\n",
      "           0       0.93      0.97      0.95     73106\n",
      "           1       0.41      0.21      0.28      6843\n",
      "\n",
      "    accuracy                           0.91     79949\n",
      "   macro avg       0.67      0.59      0.62     79949\n",
      "weighted avg       0.89      0.91      0.89     79949\n",
      "\n"
     ]
    }
   ],
   "source": [
    "from sklearn.metrics import classification_report\n",
    "# ref: http://scikit-learn.org/stable/modules/generated/sklearn.metrics.classification_report.html#sklearn.metrics.classification_report\n",
    "\n",
    "y_train_pred_ada_samme_r_adasyn = ada_classifier_samme_r.predict(X_adasyn)\n",
    "\n",
    "print(\"[Training Classification Report]\")\n",
    "print(classification_report(y_adasyn, y_train_pred_ada_samme_r_adasyn))\n",
    "\n",
    "print(\"[Test Classification Report]\")\n",
    "print(classification_report(y_test, y_test_pred_ada_samme_r_adasyn))"
   ]
  },
  {
   "cell_type": "markdown",
   "id": "b1aad314",
   "metadata": {},
   "source": [
    "##### ADABoost_smote - SAMME.R\n"
   ]
  },
  {
   "cell_type": "code",
   "execution_count": 117,
   "id": "d4f8bef4",
   "metadata": {},
   "outputs": [
    {
     "name": "stdout",
     "output_type": "stream",
     "text": [
      "Wall time: 8min 14s\n"
     ]
    },
    {
     "data": {
      "text/plain": [
       "AdaBoostClassifier(n_estimators=1000)"
      ]
     },
     "execution_count": 117,
     "metadata": {},
     "output_type": "execute_result"
    }
   ],
   "source": [
    "%time ada_classifier_samme_r.fit(X_smote, y_smote)"
   ]
  },
  {
   "cell_type": "code",
   "execution_count": 118,
   "id": "2a839877",
   "metadata": {},
   "outputs": [
    {
     "name": "stdout",
     "output_type": "stream",
     "text": [
      "0.9059525447472764\n"
     ]
    }
   ],
   "source": [
    "y_test_pred_ada_samme_r_smote = ada_classifier_samme_r.predict(X_test)\n",
    "print(accuracy_score(y_test_pred_ada_samme_r_smote, y_test))"
   ]
  },
  {
   "cell_type": "code",
   "execution_count": 119,
   "id": "b92e01d5",
   "metadata": {},
   "outputs": [
    {
     "data": {
      "text/plain": [
       "Text(0.5, 0, 'False Positive Rate')"
      ]
     },
     "execution_count": 119,
     "metadata": {},
     "output_type": "execute_result"
    },
    {
     "data": {
      "image/png": "[encoded data removed]",
      "text/plain": [
       "<Figure size 720x720 with 1 Axes>"
      ]
     },
     "metadata": {
      "needs_background": "light"
     },
     "output_type": "display_data"
    }
   ],
   "source": [
    "false_positive_rate, true_positive_rate, thresholds = roc_curve(y_test, y_test_pred_ada_samme_r_smote)\n",
    "roc_auc = auc(false_positive_rate, true_positive_rate)\n",
    "\n",
    "\n",
    "import matplotlib.pyplot as plt\n",
    "plt.figure(figsize=(10,10))\n",
    "plt.title('Receiver Operating Characteristic')\n",
    "plt.plot(false_positive_rate,true_positive_rate, color='red',label = 'AUC = %0.2f' % roc_auc)\n",
    "plt.legend(loc = 'lower right')\n",
    "plt.plot([0, 1], [0, 1],linestyle='--')\n",
    "plt.axis('tight')\n",
    "plt.ylabel('True Positive Rate')\n",
    "plt.xlabel('False Positive Rate')"
   ]
  },
  {
   "cell_type": "code",
   "execution_count": 120,
   "id": "12051a90",
   "metadata": {},
   "outputs": [
    {
     "data": {
      "image/png": "[encoded data removed]",
      "text/plain": [
       "<Figure size 360x360 with 2 Axes>"
      ]
     },
     "metadata": {
      "needs_background": "light"
     },
     "output_type": "display_data"
    }
   ],
   "source": [
    "from sklearn.metrics import confusion_matrix\n",
    "cm = confusion_matrix(y_test, y_test_pred_ada_samme_r_smote)\n",
    "\n",
    "f, ax=plt.subplots(figsize=(5,5))\n",
    "sns.heatmap(cm, annot = True, linewidths = 0.5, linecolor = \"red\", fmt = \".0f\",ax = ax)\n",
    "plt.xlabel(\"y_pred\")\n",
    "plt.ylabel(\"y_true\")\n",
    "plt.show()\n"
   ]
  },
  {
   "cell_type": "code",
   "execution_count": 121,
   "id": "ec542539",
   "metadata": {},
   "outputs": [
    {
     "name": "stdout",
     "output_type": "stream",
     "text": [
      "[Training Classification Report]\n",
      "              precision    recall  f1-score   support\n",
      "\n",
      "           0       0.89      0.97      0.93    219316\n",
      "           1       0.97      0.89      0.92    219316\n",
      "\n",
      "    accuracy                           0.93    438632\n",
      "   macro avg       0.93      0.93      0.93    438632\n",
      "weighted avg       0.93      0.93      0.93    438632\n",
      "\n",
      "[Test Classification Report]\n",
      "              precision    recall  f1-score   support\n",
      "\n",
      "           0       0.93      0.97      0.95     73106\n",
      "           1       0.41      0.22      0.29      6843\n",
      "\n",
      "    accuracy                           0.91     79949\n",
      "   macro avg       0.67      0.60      0.62     79949\n",
      "weighted avg       0.89      0.91      0.89     79949\n",
      "\n"
     ]
    }
   ],
   "source": [
    "from sklearn.metrics import classification_report\n",
    "# ref: http://scikit-learn.org/stable/modules/generated/sklearn.metrics.classification_report.html#sklearn.metrics.classification_report\n",
    "\n",
    "y_train_pred_ada_samme_r_smote = ada_classifier_samme_r.predict(X_smote)\n",
    "\n",
    "print(\"[Training Classification Report]\")\n",
    "print(classification_report(y_smote, y_train_pred_ada_samme_r_smote))\n",
    "\n",
    "print(\"[Test Classification Report]\")\n",
    "print(classification_report(y_test, y_test_pred_ada_samme_r_smote))"
   ]
  },
  {
   "cell_type": "code",
   "execution_count": 135,
   "id": "7a184a7c",
   "metadata": {},
   "outputs": [
    {
     "data": {
      "text/html": [
       "<div>\n",
       "<style scoped>\n",
       "    .dataframe tbody tr th:only-of-type {\n",
       "        vertical-align: middle;\n",
       "    }\n",
       "\n",
       "    .dataframe tbody tr th {\n",
       "        vertical-align: top;\n",
       "    }\n",
       "\n",
       "    .dataframe thead th {\n",
       "        text-align: right;\n",
       "    }\n",
       "</style>\n",
       "<table border=\"1\" class=\"dataframe\">\n",
       "  <thead>\n",
       "    <tr style=\"text-align: right;\">\n",
       "      <th></th>\n",
       "      <th>Model</th>\n",
       "      <th>Sampling</th>\n",
       "      <th>Precision</th>\n",
       "      <th>Recall</th>\n",
       "    </tr>\n",
       "  </thead>\n",
       "  <tbody>\n",
       "    <tr>\n",
       "      <th>0</th>\n",
       "      <td>Random Forest</td>\n",
       "      <td>RUS</td>\n",
       "      <td>0.22</td>\n",
       "      <td>0.74</td>\n",
       "    </tr>\n",
       "    <tr>\n",
       "      <th>1</th>\n",
       "      <td>Random Forest</td>\n",
       "      <td>ADASYN</td>\n",
       "      <td>0.25</td>\n",
       "      <td>0.60</td>\n",
       "    </tr>\n",
       "    <tr>\n",
       "      <th>2</th>\n",
       "      <td>Random Forest</td>\n",
       "      <td>SMOTE</td>\n",
       "      <td>0.26</td>\n",
       "      <td>0.59</td>\n",
       "    </tr>\n",
       "    <tr>\n",
       "      <th>3</th>\n",
       "      <td>XGBoost</td>\n",
       "      <td>RUS</td>\n",
       "      <td>0.22</td>\n",
       "      <td>0.79</td>\n",
       "    </tr>\n",
       "    <tr>\n",
       "      <th>4</th>\n",
       "      <td>XGBoost</td>\n",
       "      <td>ADASYN</td>\n",
       "      <td>0.35</td>\n",
       "      <td>0.19</td>\n",
       "    </tr>\n",
       "    <tr>\n",
       "      <th>5</th>\n",
       "      <td>XGBoost</td>\n",
       "      <td>SMOTE</td>\n",
       "      <td>0.36</td>\n",
       "      <td>0.19</td>\n",
       "    </tr>\n",
       "    <tr>\n",
       "      <th>6</th>\n",
       "      <td>ADABoost</td>\n",
       "      <td>RUS</td>\n",
       "      <td>0.23</td>\n",
       "      <td>0.77</td>\n",
       "    </tr>\n",
       "    <tr>\n",
       "      <th>7</th>\n",
       "      <td>ADABoost</td>\n",
       "      <td>ADASYN</td>\n",
       "      <td>0.32</td>\n",
       "      <td>0.42</td>\n",
       "    </tr>\n",
       "    <tr>\n",
       "      <th>8</th>\n",
       "      <td>ADABoost</td>\n",
       "      <td>SMOTE</td>\n",
       "      <td>0.32</td>\n",
       "      <td>0.42</td>\n",
       "    </tr>\n",
       "    <tr>\n",
       "      <th>9</th>\n",
       "      <td>ADABoost_SAMME.R</td>\n",
       "      <td>RUS</td>\n",
       "      <td>0.23</td>\n",
       "      <td>0.77</td>\n",
       "    </tr>\n",
       "    <tr>\n",
       "      <th>10</th>\n",
       "      <td>ADABoost_SAMME.R</td>\n",
       "      <td>ADASYN</td>\n",
       "      <td>0.41</td>\n",
       "      <td>0.21</td>\n",
       "    </tr>\n",
       "    <tr>\n",
       "      <th>11</th>\n",
       "      <td>ADABoost_SAMME.R</td>\n",
       "      <td>SMOTE</td>\n",
       "      <td>0.41</td>\n",
       "      <td>0.22</td>\n",
       "    </tr>\n",
       "  </tbody>\n",
       "</table>\n",
       "</div>"
      ],
      "text/plain": [
       "               Model Sampling  Precision  Recall\n",
       "0      Random Forest      RUS       0.22    0.74\n",
       "1      Random Forest   ADASYN       0.25    0.60\n",
       "2      Random Forest    SMOTE       0.26    0.59\n",
       "3            XGBoost      RUS       0.22    0.79\n",
       "4            XGBoost   ADASYN       0.35    0.19\n",
       "5            XGBoost    SMOTE       0.36    0.19\n",
       "6           ADABoost      RUS       0.23    0.77\n",
       "7           ADABoost   ADASYN       0.32    0.42\n",
       "8           ADABoost    SMOTE       0.32    0.42\n",
       "9   ADABoost_SAMME.R      RUS       0.23    0.77\n",
       "10  ADABoost_SAMME.R   ADASYN       0.41    0.21\n",
       "11  ADABoost_SAMME.R    SMOTE       0.41    0.22"
      ]
     },
     "execution_count": 135,
     "metadata": {},
     "output_type": "execute_result"
    }
   ],
   "source": [
    "data = {\n",
    "    'Model': ['Random Forest', 'Random Forest', 'Random Forest', 'XGBoost', 'XGBoost', 'XGBoost', 'ADABoost', 'ADABoost',  'ADABoost', 'ADABoost_SAMME.R', 'ADABoost_SAMME.R', 'ADABoost_SAMME.R'],\n",
    "    'Sampling': ['RUS', 'ADASYN', 'SMOTE', 'RUS', 'ADASYN', 'SMOTE', 'RUS', 'ADASYN', 'SMOTE', 'RUS', 'ADASYN', 'SMOTE'],\n",
    "    'Precision': [0.22, 0.25, 0.26, 0.22, 0.35, 0.36, 0.23, 0.32, 0.32, 0.23, 0.41, 0.41],\n",
    "    'Recall': [0.74,0.60,0.59,0.79,0.19,0.19,0.77,0.42,0.42,0.77,0.21,0.22]}\n",
    "\n",
    "df = pd.DataFrame(data)\n",
    "df"
   ]
  },
  {
   "cell_type": "code",
   "execution_count": 136,
   "id": "fe4dda85",
   "metadata": {},
   "outputs": [
    {
     "data": {
      "text/html": [
       "<div>\n",
       "<style scoped>\n",
       "    .dataframe tbody tr th:only-of-type {\n",
       "        vertical-align: middle;\n",
       "    }\n",
       "\n",
       "    .dataframe tbody tr th {\n",
       "        vertical-align: top;\n",
       "    }\n",
       "\n",
       "    .dataframe thead th {\n",
       "        text-align: right;\n",
       "    }\n",
       "</style>\n",
       "<table border=\"1\" class=\"dataframe\">\n",
       "  <thead>\n",
       "    <tr style=\"text-align: right;\">\n",
       "      <th></th>\n",
       "      <th>Model</th>\n",
       "      <th>Sampling</th>\n",
       "      <th>Precision</th>\n",
       "      <th>Recall</th>\n",
       "    </tr>\n",
       "  </thead>\n",
       "  <tbody>\n",
       "    <tr>\n",
       "      <th>0</th>\n",
       "      <td>Random Forest</td>\n",
       "      <td>RUS</td>\n",
       "      <td>0.22</td>\n",
       "      <td>0.74</td>\n",
       "    </tr>\n",
       "    <tr>\n",
       "      <th>3</th>\n",
       "      <td>XGBoost</td>\n",
       "      <td>RUS</td>\n",
       "      <td>0.22</td>\n",
       "      <td>0.79</td>\n",
       "    </tr>\n",
       "    <tr>\n",
       "      <th>6</th>\n",
       "      <td>ADABoost</td>\n",
       "      <td>RUS</td>\n",
       "      <td>0.23</td>\n",
       "      <td>0.77</td>\n",
       "    </tr>\n",
       "    <tr>\n",
       "      <th>9</th>\n",
       "      <td>ADABoost_SAMME.R</td>\n",
       "      <td>RUS</td>\n",
       "      <td>0.23</td>\n",
       "      <td>0.77</td>\n",
       "    </tr>\n",
       "  </tbody>\n",
       "</table>\n",
       "</div>"
      ],
      "text/plain": [
       "              Model Sampling  Precision  Recall\n",
       "0     Random Forest      RUS       0.22    0.74\n",
       "3           XGBoost      RUS       0.22    0.79\n",
       "6          ADABoost      RUS       0.23    0.77\n",
       "9  ADABoost_SAMME.R      RUS       0.23    0.77"
      ]
     },
     "execution_count": 136,
     "metadata": {},
     "output_type": "execute_result"
    }
   ],
   "source": [
    "df[df['Recall'] > 0.7]"
   ]
  },
  {
   "cell_type": "markdown",
   "id": "a220936c",
   "metadata": {},
   "source": [
    "We see that it is not possible to have a high precision and high recall score, there is a tradeoff. The under sampling method gives us high recall mainly because it is \"under sampled\" and, we correctly identified as having a heart disease (for less points), for all the patients who actually have heart disease, thus low precision high recall. On the other hand, with over sampling and having more data points, we achieve the high precision and low recall scenario, where our model will be more certain if a patient has heart disease or not. \n",
    "\n",
    "Our problem as stated by clients want to completely avoid any situations where the patient has heart disease, but our model classifies as him not having it.\n",
    "\n",
    "XGBoost with the Random Under Sampler has the best recall with 0.79 for our target variable in test set."
   ]
  },
  {
   "cell_type": "code",
   "execution_count": null,
   "id": "ceca7f29",
   "metadata": {},
   "outputs": [],
   "source": []
  }
 ],
 "metadata": {
  "kernelspec": {
   "display_name": "Python 3 (ipykernel)",
   "language": "python",
   "name": "python3"
  },
  "language_info": {
   "codemirror_mode": {
    "name": "ipython",
    "version": 3
   },
   "file_extension": ".py",
   "mimetype": "text/x-python",
   "name": "python",
   "nbconvert_exporter": "python",
   "pygments_lexer": "ipython3",
   "version": "3.9.7"
  }
 },
 "nbformat": 4,
 "nbformat_minor": 5
}
