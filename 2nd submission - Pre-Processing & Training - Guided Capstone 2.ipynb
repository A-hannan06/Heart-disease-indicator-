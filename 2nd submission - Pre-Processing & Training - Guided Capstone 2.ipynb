{
 "cells": [
  {
   "cell_type": "markdown",
   "id": "360d714a",
   "metadata": {},
   "source": [
    "## Pre-Processing & Training"
   ]
  },
  {
   "cell_type": "code",
   "execution_count": 1,
   "id": "3903835e",
   "metadata": {},
   "outputs": [],
   "source": [
    "# !pip install category_encoders"
   ]
  },
  {
   "cell_type": "code",
   "execution_count": 2,
   "id": "5561456b",
   "metadata": {},
   "outputs": [],
   "source": [
    "# !pip install -U imbalanced-learn"
   ]
  },
  {
   "cell_type": "code",
   "execution_count": 1,
   "id": "67d846d0",
   "metadata": {},
   "outputs": [],
   "source": [
    "import numpy as np\n",
    "import pandas as pd\n",
    "import matplotlib.pyplot as plt\n",
    "import seaborn as sns\n",
    "from sklearn import __version__ as sklearn_version\n",
    "\n",
    "from sklearn.preprocessing import LabelEncoder\n",
    "from category_encoders import TargetEncoder\n",
    "\n",
    "from sklearn.decomposition import PCA\n",
    "\n",
    "#Standardize a dataset along any axis. Center to the mean and component wise scale to unit variance.\n",
    "from sklearn.preprocessing import scale\n",
    "\n",
    "\n",
    "from sklearn.model_selection import train_test_split, cross_validate, GridSearchCV, learning_curve\n",
    "\n",
    "\n",
    "from sklearn.preprocessing import StandardScaler, MinMaxScaler\n",
    "\n",
    "from sklearn.metrics import r2_score, mean_squared_error, mean_absolute_error\n",
    "\n",
    "# Construct a Pipeline from the given estimators.\n",
    "from sklearn.pipeline import make_pipeline\n",
    "\n",
    "\n",
    "from sklearn.feature_selection import SelectKBest, f_regression\n",
    "import datetime\n"
   ]
  },
  {
   "cell_type": "code",
   "execution_count": 2,
   "id": "b0f2beec",
   "metadata": {},
   "outputs": [],
   "source": [
    "hearts = pd.read_csv(\"C:\\\\Users\\\\hanna\\\\OneDrive\\\\Desktop\\\\All Folders\\\\Data Science\\\\SpringBoard\\\\Guided Capstone 2\\\\dummies_data.csv\")"
   ]
  },
  {
   "cell_type": "code",
   "execution_count": 3,
   "id": "96b0ed1e",
   "metadata": {},
   "outputs": [
    {
     "data": {
      "text/html": [
       "<div>\n",
       "<style scoped>\n",
       "    .dataframe tbody tr th:only-of-type {\n",
       "        vertical-align: middle;\n",
       "    }\n",
       "\n",
       "    .dataframe tbody tr th {\n",
       "        vertical-align: top;\n",
       "    }\n",
       "\n",
       "    .dataframe thead th {\n",
       "        text-align: right;\n",
       "    }\n",
       "</style>\n",
       "<table border=\"1\" class=\"dataframe\">\n",
       "  <thead>\n",
       "    <tr style=\"text-align: right;\">\n",
       "      <th></th>\n",
       "      <th>HeartDisease</th>\n",
       "      <th>BMI</th>\n",
       "      <th>PhysicalHealth</th>\n",
       "      <th>MentalHealth</th>\n",
       "      <th>SleepTime</th>\n",
       "      <th>Smoking_No</th>\n",
       "      <th>Smoking_Yes</th>\n",
       "      <th>AlcoholDrinking_No</th>\n",
       "      <th>AlcoholDrinking_Yes</th>\n",
       "      <th>Stroke_No</th>\n",
       "      <th>...</th>\n",
       "      <th>GenHealth_Fair</th>\n",
       "      <th>GenHealth_Good</th>\n",
       "      <th>GenHealth_Poor</th>\n",
       "      <th>GenHealth_Very good</th>\n",
       "      <th>Asthma_No</th>\n",
       "      <th>Asthma_Yes</th>\n",
       "      <th>KidneyDisease_No</th>\n",
       "      <th>KidneyDisease_Yes</th>\n",
       "      <th>SkinCancer_No</th>\n",
       "      <th>SkinCancer_Yes</th>\n",
       "    </tr>\n",
       "  </thead>\n",
       "  <tbody>\n",
       "    <tr>\n",
       "      <th>0</th>\n",
       "      <td>0</td>\n",
       "      <td>16.60</td>\n",
       "      <td>3.0</td>\n",
       "      <td>30.0</td>\n",
       "      <td>5.0</td>\n",
       "      <td>0</td>\n",
       "      <td>1</td>\n",
       "      <td>1</td>\n",
       "      <td>0</td>\n",
       "      <td>1</td>\n",
       "      <td>...</td>\n",
       "      <td>0</td>\n",
       "      <td>0</td>\n",
       "      <td>0</td>\n",
       "      <td>1</td>\n",
       "      <td>0</td>\n",
       "      <td>1</td>\n",
       "      <td>1</td>\n",
       "      <td>0</td>\n",
       "      <td>0</td>\n",
       "      <td>1</td>\n",
       "    </tr>\n",
       "    <tr>\n",
       "      <th>1</th>\n",
       "      <td>0</td>\n",
       "      <td>20.34</td>\n",
       "      <td>0.0</td>\n",
       "      <td>0.0</td>\n",
       "      <td>7.0</td>\n",
       "      <td>1</td>\n",
       "      <td>0</td>\n",
       "      <td>1</td>\n",
       "      <td>0</td>\n",
       "      <td>0</td>\n",
       "      <td>...</td>\n",
       "      <td>0</td>\n",
       "      <td>0</td>\n",
       "      <td>0</td>\n",
       "      <td>1</td>\n",
       "      <td>1</td>\n",
       "      <td>0</td>\n",
       "      <td>1</td>\n",
       "      <td>0</td>\n",
       "      <td>1</td>\n",
       "      <td>0</td>\n",
       "    </tr>\n",
       "    <tr>\n",
       "      <th>2</th>\n",
       "      <td>0</td>\n",
       "      <td>26.58</td>\n",
       "      <td>20.0</td>\n",
       "      <td>30.0</td>\n",
       "      <td>8.0</td>\n",
       "      <td>0</td>\n",
       "      <td>1</td>\n",
       "      <td>1</td>\n",
       "      <td>0</td>\n",
       "      <td>1</td>\n",
       "      <td>...</td>\n",
       "      <td>1</td>\n",
       "      <td>0</td>\n",
       "      <td>0</td>\n",
       "      <td>0</td>\n",
       "      <td>0</td>\n",
       "      <td>1</td>\n",
       "      <td>1</td>\n",
       "      <td>0</td>\n",
       "      <td>1</td>\n",
       "      <td>0</td>\n",
       "    </tr>\n",
       "    <tr>\n",
       "      <th>3</th>\n",
       "      <td>0</td>\n",
       "      <td>24.21</td>\n",
       "      <td>0.0</td>\n",
       "      <td>0.0</td>\n",
       "      <td>6.0</td>\n",
       "      <td>1</td>\n",
       "      <td>0</td>\n",
       "      <td>1</td>\n",
       "      <td>0</td>\n",
       "      <td>1</td>\n",
       "      <td>...</td>\n",
       "      <td>0</td>\n",
       "      <td>1</td>\n",
       "      <td>0</td>\n",
       "      <td>0</td>\n",
       "      <td>1</td>\n",
       "      <td>0</td>\n",
       "      <td>1</td>\n",
       "      <td>0</td>\n",
       "      <td>0</td>\n",
       "      <td>1</td>\n",
       "    </tr>\n",
       "    <tr>\n",
       "      <th>4</th>\n",
       "      <td>0</td>\n",
       "      <td>23.71</td>\n",
       "      <td>28.0</td>\n",
       "      <td>0.0</td>\n",
       "      <td>8.0</td>\n",
       "      <td>1</td>\n",
       "      <td>0</td>\n",
       "      <td>1</td>\n",
       "      <td>0</td>\n",
       "      <td>1</td>\n",
       "      <td>...</td>\n",
       "      <td>0</td>\n",
       "      <td>0</td>\n",
       "      <td>0</td>\n",
       "      <td>1</td>\n",
       "      <td>1</td>\n",
       "      <td>0</td>\n",
       "      <td>1</td>\n",
       "      <td>0</td>\n",
       "      <td>1</td>\n",
       "      <td>0</td>\n",
       "    </tr>\n",
       "  </tbody>\n",
       "</table>\n",
       "<p>5 rows × 51 columns</p>\n",
       "</div>"
      ],
      "text/plain": [
       "   HeartDisease    BMI  PhysicalHealth  MentalHealth  SleepTime  Smoking_No  \\\n",
       "0             0  16.60             3.0          30.0        5.0           0   \n",
       "1             0  20.34             0.0           0.0        7.0           1   \n",
       "2             0  26.58            20.0          30.0        8.0           0   \n",
       "3             0  24.21             0.0           0.0        6.0           1   \n",
       "4             0  23.71            28.0           0.0        8.0           1   \n",
       "\n",
       "   Smoking_Yes  AlcoholDrinking_No  AlcoholDrinking_Yes  Stroke_No  ...  \\\n",
       "0            1                   1                    0          1  ...   \n",
       "1            0                   1                    0          0  ...   \n",
       "2            1                   1                    0          1  ...   \n",
       "3            0                   1                    0          1  ...   \n",
       "4            0                   1                    0          1  ...   \n",
       "\n",
       "   GenHealth_Fair  GenHealth_Good  GenHealth_Poor  GenHealth_Very good  \\\n",
       "0               0               0               0                    1   \n",
       "1               0               0               0                    1   \n",
       "2               1               0               0                    0   \n",
       "3               0               1               0                    0   \n",
       "4               0               0               0                    1   \n",
       "\n",
       "   Asthma_No  Asthma_Yes  KidneyDisease_No  KidneyDisease_Yes  SkinCancer_No  \\\n",
       "0          0           1                 1                  0              0   \n",
       "1          1           0                 1                  0              1   \n",
       "2          0           1                 1                  0              1   \n",
       "3          1           0                 1                  0              0   \n",
       "4          1           0                 1                  0              1   \n",
       "\n",
       "   SkinCancer_Yes  \n",
       "0               1  \n",
       "1               0  \n",
       "2               0  \n",
       "3               1  \n",
       "4               0  \n",
       "\n",
       "[5 rows x 51 columns]"
      ]
     },
     "execution_count": 3,
     "metadata": {},
     "output_type": "execute_result"
    }
   ],
   "source": [
    "hearts.head()"
   ]
  },
  {
   "cell_type": "code",
   "execution_count": 4,
   "id": "9f6f3927",
   "metadata": {},
   "outputs": [
    {
     "data": {
      "text/plain": [
       "0    0.914405\n",
       "1    0.085595\n",
       "Name: HeartDisease, dtype: float64"
      ]
     },
     "execution_count": 4,
     "metadata": {},
     "output_type": "execute_result"
    }
   ],
   "source": [
    "hearts['HeartDisease'].value_counts(normalize = True)"
   ]
  },
  {
   "cell_type": "markdown",
   "id": "17cef78c",
   "metadata": {},
   "source": [
    "91.4% values are no in Heart Disease, whereas only 8.5% are yes. "
   ]
  },
  {
   "cell_type": "code",
   "execution_count": 5,
   "id": "e69d73f3",
   "metadata": {},
   "outputs": [],
   "source": [
    "X = hearts.drop(['HeartDisease'], axis = 1)\n",
    "y = hearts['HeartDisease']"
   ]
  },
  {
   "cell_type": "code",
   "execution_count": 6,
   "id": "f7311554",
   "metadata": {},
   "outputs": [],
   "source": [
    "X_train, X_test, y_train, y_test = train_test_split(X, y, stratify = y, test_size = 0.25, random_state = 0)"
   ]
  },
  {
   "cell_type": "code",
   "execution_count": 7,
   "id": "3d647897",
   "metadata": {},
   "outputs": [
    {
     "data": {
      "text/plain": [
       "((239846, 50), (239846,), (79949, 50), (79949,))"
      ]
     },
     "execution_count": 7,
     "metadata": {},
     "output_type": "execute_result"
    }
   ],
   "source": [
    "X_train.shape, y_train.shape,  X_test.shape, y_test.shape"
   ]
  },
  {
   "cell_type": "code",
   "execution_count": 8,
   "id": "29812aaa",
   "metadata": {},
   "outputs": [
    {
     "data": {
      "text/plain": [
       "BMI                                    float64\n",
       "PhysicalHealth                         float64\n",
       "MentalHealth                           float64\n",
       "SleepTime                              float64\n",
       "Smoking_No                               int64\n",
       "Smoking_Yes                              int64\n",
       "AlcoholDrinking_No                       int64\n",
       "AlcoholDrinking_Yes                      int64\n",
       "Stroke_No                                int64\n",
       "Stroke_Yes                               int64\n",
       "DiffWalking_No                           int64\n",
       "DiffWalking_Yes                          int64\n",
       "Sex_Female                               int64\n",
       "Sex_Male                                 int64\n",
       "AgeCategory_18-24                        int64\n",
       "AgeCategory_25-29                        int64\n",
       "AgeCategory_30-34                        int64\n",
       "AgeCategory_35-39                        int64\n",
       "AgeCategory_40-44                        int64\n",
       "AgeCategory_45-49                        int64\n",
       "AgeCategory_50-54                        int64\n",
       "AgeCategory_55-59                        int64\n",
       "AgeCategory_60-64                        int64\n",
       "AgeCategory_65-69                        int64\n",
       "AgeCategory_70-74                        int64\n",
       "AgeCategory_75-79                        int64\n",
       "AgeCategory_80 or older                  int64\n",
       "Race_American Indian/Alaskan Native      int64\n",
       "Race_Asian                               int64\n",
       "Race_Black                               int64\n",
       "Race_Hispanic                            int64\n",
       "Race_Other                               int64\n",
       "Race_White                               int64\n",
       "Diabetic_No                              int64\n",
       "Diabetic_No, borderline diabetes         int64\n",
       "Diabetic_Yes                             int64\n",
       "Diabetic_Yes (during pregnancy)          int64\n",
       "PhysicalActivity_No                      int64\n",
       "PhysicalActivity_Yes                     int64\n",
       "GenHealth_Excellent                      int64\n",
       "GenHealth_Fair                           int64\n",
       "GenHealth_Good                           int64\n",
       "GenHealth_Poor                           int64\n",
       "GenHealth_Very good                      int64\n",
       "Asthma_No                                int64\n",
       "Asthma_Yes                               int64\n",
       "KidneyDisease_No                         int64\n",
       "KidneyDisease_Yes                        int64\n",
       "SkinCancer_No                            int64\n",
       "SkinCancer_Yes                           int64\n",
       "dtype: object"
      ]
     },
     "execution_count": 8,
     "metadata": {},
     "output_type": "execute_result"
    }
   ],
   "source": [
    "X_train.dtypes"
   ]
  },
  {
   "cell_type": "code",
   "execution_count": 9,
   "id": "6dac42f2",
   "metadata": {},
   "outputs": [
    {
     "name": "stdout",
     "output_type": "stream",
     "text": [
      "\n",
      "\n",
      "X_train: <class 'pandas.core.frame.DataFrame'> (239846, 50) 239846\n",
      "\n",
      "\n",
      "X_test <class 'pandas.core.frame.DataFrame'> (79949, 50) 79949\n",
      "\n",
      "\n",
      "y_train <class 'pandas.core.series.Series'> (239846,) 239846\n",
      "\n",
      "\n",
      "y_test <class 'pandas.core.series.Series'> (79949,) 79949\n"
     ]
    }
   ],
   "source": [
    "# AJS:\n",
    "print(\"\\n\")\n",
    "print(\"X_train:\", type(X_train), X_train.shape, len(X_train)) \n",
    "\n",
    "# AJS:\n",
    "print(\"\\n\")\n",
    "print(\"X_test\", type(X_test), X_test.shape, len(X_test)) \n",
    "\n",
    "# AJS:\n",
    "print(\"\\n\")\n",
    "print(\"y_train\", type(y_train), y_train.shape, len(y_train)) \n",
    "\n",
    "# AJS:\n",
    "print(\"\\n\")\n",
    "print(\"y_test\", type(y_test), y_test.shape, len(y_test)) "
   ]
  },
  {
   "cell_type": "code",
   "execution_count": 10,
   "id": "76970948",
   "metadata": {},
   "outputs": [],
   "source": [
    "from sklearn.model_selection import train_test_split\n",
    "from sklearn.linear_model import LogisticRegression\n",
    "from sklearn.metrics import accuracy_score"
   ]
  },
  {
   "cell_type": "code",
   "execution_count": 11,
   "id": "65c394dc",
   "metadata": {},
   "outputs": [
    {
     "name": "stdout",
     "output_type": "stream",
     "text": [
      "\n",
      "\n",
      "[Test] Accuracy score (y_predict_test, y_test): 0.9156212085204318\n",
      "\n",
      "\n",
      "[Training] Accuracy score: (ylr, y_predict_training) 0.9159960974958932\n"
     ]
    }
   ],
   "source": [
    "# AJS: construct the LogisticRegression model\n",
    "clf = LogisticRegression(max_iter = 500)\n",
    "\n",
    "# Fit the model on the training data.\n",
    "clf.fit(X_train, y_train) \n",
    "\n",
    "# Print the accuracy from the testing data.\n",
    "# AJS: introduce variable to be reused later\n",
    "y_predict_test = clf.predict(X_test)\n",
    "print(\"\\n\")\n",
    "print(\"[Test] Accuracy score (y_predict_test, y_test):\",accuracy_score(y_predict_test, y_test))\n",
    "\n",
    "\n",
    "# AJS: also printout the training score\n",
    "y_predict_training = clf.predict(X_train)\n",
    "print(\"\\n\")\n",
    "print(\"[Training] Accuracy score: (ylr, y_predict_training)\",accuracy_score(y_train, y_predict_training))\n"
   ]
  },
  {
   "cell_type": "markdown",
   "id": "3820dfa8",
   "metadata": {},
   "source": [
    "Because our scores have a minimal unit difference we can see that there is no overfitting here. "
   ]
  },
  {
   "cell_type": "code",
   "execution_count": 12,
   "id": "b4b5e495",
   "metadata": {},
   "outputs": [
    {
     "name": "stdout",
     "output_type": "stream",
     "text": [
      "\n",
      " AUC-ROC: 0.5481488849141637\n"
     ]
    }
   ],
   "source": [
    "from sklearn import metrics\n",
    "print(\"\\n AUC-ROC:\", metrics.roc_auc_score(y_test, y_predict_test))"
   ]
  },
  {
   "cell_type": "code",
   "execution_count": 15,
   "id": "1f10995d",
   "metadata": {},
   "outputs": [],
   "source": [
    "from sklearn.metrics import confusion_matrix\n",
    "cm = confusion_matrix(y_test, y_predict_test)"
   ]
  },
  {
   "cell_type": "code",
   "execution_count": 16,
   "id": "b5b71686",
   "metadata": {},
   "outputs": [
    {
     "data": {
      "image/png": "[encoded data removed]",
      "text/plain": [
       "<Figure size 360x360 with 2 Axes>"
      ]
     },
     "metadata": {
      "needs_background": "light"
     },
     "output_type": "display_data"
    }
   ],
   "source": [
    "f, ax=plt.subplots(figsize=(5,5))\n",
    "sns.heatmap(cm, annot = True, linewidths = 0.5, linecolor = \"red\", fmt = \".0f\",ax = ax)\n",
    "plt.xlabel(\"y_pred\")\n",
    "plt.ylabel(\"y_true\")\n",
    "plt.show()\n"
   ]
  },
  {
   "cell_type": "code",
   "execution_count": 17,
   "id": "e8477b69",
   "metadata": {},
   "outputs": [
    {
     "name": "stdout",
     "output_type": "stream",
     "text": [
      "[Training Classification Report]\n",
      "              precision    recall  f1-score   support\n",
      "\n",
      "           0       0.92      0.99      0.96    219316\n",
      "           1       0.55      0.11      0.18     20530\n",
      "\n",
      "    accuracy                           0.92    239846\n",
      "   macro avg       0.73      0.55      0.57    239846\n",
      "weighted avg       0.89      0.92      0.89    239846\n",
      "\n",
      "[Test Classification Report]\n",
      "              precision    recall  f1-score   support\n",
      "\n",
      "           0       0.92      0.99      0.96     73106\n",
      "           1       0.54      0.10      0.18      6843\n",
      "\n",
      "    accuracy                           0.92     79949\n",
      "   macro avg       0.73      0.55      0.57     79949\n",
      "weighted avg       0.89      0.92      0.89     79949\n",
      "\n"
     ]
    }
   ],
   "source": [
    "from sklearn.metrics import classification_report\n",
    "# ref: http://scikit-learn.org/stable/modules/generated/sklearn.metrics.classification_report.html#sklearn.metrics.classification_report\n",
    "\n",
    "print(\"[Training Classification Report]\")\n",
    "print(classification_report(y_train, y_predict_training))\n",
    "\n",
    "print(\"[Test Classification Report]\")\n",
    "print(classification_report(y_test, y_predict_test))"
   ]
  },
  {
   "cell_type": "markdown",
   "id": "fd251445",
   "metadata": {},
   "source": [
    "The Class 1 does very bad in both training and test, mainly because there is imbalance in our target variable."
   ]
  },
  {
   "cell_type": "code",
   "execution_count": 18,
   "id": "6cc8e556",
   "metadata": {},
   "outputs": [],
   "source": [
    "#Standardization\n",
    "from sklearn.preprocessing import StandardScaler\n",
    "sc = StandardScaler()\n",
    "X_train_scaled = sc.fit_transform(X_train)\n",
    "X_test_scaled = sc.transform(X_test)\n"
   ]
  },
  {
   "cell_type": "code",
   "execution_count": 19,
   "id": "517994b0",
   "metadata": {},
   "outputs": [
    {
     "name": "stdout",
     "output_type": "stream",
     "text": [
      "0.9155711766250985\n"
     ]
    }
   ],
   "source": [
    "clf.fit(X_train_scaled, y_train)\n",
    "\n",
    "y_test_pred = clf.predict(X_test_scaled)\n",
    "print(accuracy_score(y_test_pred, y_test))"
   ]
  },
  {
   "cell_type": "code",
   "execution_count": 20,
   "id": "e118aa6d",
   "metadata": {},
   "outputs": [
    {
     "name": "stdout",
     "output_type": "stream",
     "text": [
      "\n",
      " AUC-ROC: 0.5482539833469406\n"
     ]
    }
   ],
   "source": [
    "print(\"\\n AUC-ROC:\", metrics.roc_auc_score(y_test, y_test_pred))"
   ]
  },
  {
   "cell_type": "code",
   "execution_count": 21,
   "id": "a9a456d8",
   "metadata": {},
   "outputs": [
    {
     "name": "stdout",
     "output_type": "stream",
     "text": [
      "[Training Classification Report]\n",
      "              precision    recall  f1-score   support\n",
      "\n",
      "           0       0.92      0.99      0.96    219316\n",
      "           1       0.55      0.11      0.18     20530\n",
      "\n",
      "    accuracy                           0.92    239846\n",
      "   macro avg       0.73      0.55      0.57    239846\n",
      "weighted avg       0.89      0.92      0.89    239846\n",
      "\n",
      "[Test Classification Report]\n",
      "              precision    recall  f1-score   support\n",
      "\n",
      "           0       0.92      0.99      0.96     73106\n",
      "           1       0.54      0.10      0.18      6843\n",
      "\n",
      "    accuracy                           0.92     79949\n",
      "   macro avg       0.73      0.55      0.57     79949\n",
      "weighted avg       0.89      0.92      0.89     79949\n",
      "\n"
     ]
    }
   ],
   "source": [
    "# AJS: use sklearn.metrics.classification_report for a more comprehensive\n",
    "# performance analysis\n",
    "\n",
    "#AJS\n",
    "from sklearn.metrics import classification_report\n",
    "# ref: http://scikit-learn.org/stable/modules/generated/sklearn.metrics.classification_report.html#sklearn.metrics.classification_report\n",
    "\n",
    "print(\"[Training Classification Report]\")\n",
    "print(classification_report(y_train, y_predict_training))\n",
    "\n",
    "print(\"[Test Classification Report]\")\n",
    "print(classification_report(y_test, y_predict_test))"
   ]
  },
  {
   "cell_type": "markdown",
   "id": "2070b878",
   "metadata": {},
   "source": [
    "- We can see that we have imbalance in our target variable hence one value always does very good and the other very bad. \n",
    "\n",
    "- Our accuracy score tells us that our model is good but our Roc-auc score tells us that it really is not because most of the values are 0 and are being predicted correctly.\n",
    "\n",
    "- We do see that we do not have overfitting in our model as our training and test scores are more or less the same. \n",
    "\n",
    "- Some of the thing we can expect in the next notebook are over-sampling and under-sampling techinques to work with imbalance, and models like LGBM, XGBoost, and others with the over/under - sampling techniques.  "
   ]
  },
  {
   "cell_type": "code",
   "execution_count": null,
   "id": "95b34af8",
   "metadata": {},
   "outputs": [],
   "source": []
  }
 ],
 "metadata": {
  "kernelspec": {
   "display_name": "Python 3 (ipykernel)",
   "language": "python",
   "name": "python3"
  },
  "language_info": {
   "codemirror_mode": {
    "name": "ipython",
    "version": 3
   },
   "file_extension": ".py",
   "mimetype": "text/x-python",
   "name": "python",
   "nbconvert_exporter": "python",
   "pygments_lexer": "ipython3",
   "version": "3.9.7"
  }
 },
 "nbformat": 4,
 "nbformat_minor": 5
}
